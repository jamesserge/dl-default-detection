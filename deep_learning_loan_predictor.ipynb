{
 "cells": [
  {
   "cell_type": "markdown",
   "id": "942a3c9e-58bd-4f9d-aebc-04926d19c130",
   "metadata": {},
   "source": [
    "# Deep Learning on Lending Club Data"
   ]
  },
  {
   "cell_type": "markdown",
   "id": "e44ceaab",
   "metadata": {},
   "source": [
    "This project uses a deep neural network to predict the likelihood of a loan not being repaid using Lending Club’s public loan dataset. The goal is to identify default risk early using borrower information available at loan issuance. While overall accuracy was comparable to XGBoost, the DNN model showed strong confidence in high-risk predictions, making it a useful tool for risk-averse decision-making.\n",
    "\n",
    "Key tools: Python, TensorFlow, Scikit-learn, Pandas, Matplotlib\n"
   ]
  },
  {
   "cell_type": "markdown",
   "id": "85c008e7-77c9-4d0b-8a24-e2acc49c6f81",
   "metadata": {},
   "source": [
    "### About the Data Source"
   ]
  },
  {
   "cell_type": "markdown",
   "id": "9c0ec15c-b751-4199-a62e-166653c78cf2",
   "metadata": {},
   "source": [
    "We will be sourcing a subset of the LendingClub data, a public dataset available on the Kaggle website: https://www.kaggle.com/datasets/wordsforthewise/lending-club"
   ]
  },
  {
   "cell_type": "markdown",
   "id": "bc1a265e-49d1-470b-b056-e13dd9708196",
   "metadata": {},
   "source": [
    "### Important Note"
   ]
  },
  {
   "cell_type": "markdown",
   "id": "d84e7cca-7929-4549-8fa8-c248cf890d0a",
   "metadata": {},
   "source": [
    "**Note:** The majority of this notebook shows the preprocessing of the dataset, which was essential due to the raw nature and complexity of the souce data.\n",
    "\n",
    "If you're primarily interested in the machine learning model implementation, feel free to scroll toward the end of the notebook, or search for the section titled \"Model Training\".\n",
    "\n",
    "This structure was intentional: In real-world ML workflows, effective preprocessing is often the most time-consuming and critical part of building a reliable model."
   ]
  },
  {
   "cell_type": "markdown",
   "id": "a8860529",
   "metadata": {},
   "source": [
    "## Step 1: Data Preparation and Preprocessing\n",
    "Import the necessary libraries:"
   ]
  },
  {
   "cell_type": "code",
   "execution_count": null,
   "id": "15f2742a-b833-4903-b22a-1070fd85cfca",
   "metadata": {},
   "outputs": [],
   "source": [
    "import pandas as pd\n",
    "import numpy as np\n",
    "import matplotlib.pyplot as plt\n",
    "import seaborn as sns\n",
    "from sklearn.metrics import classification_report, confusion_matrix, roc_auc_score\n",
    "from sklearn.model_selection import train_test_split\n",
    "from sklearn.preprocessing import StandardScaler\n",
    "\n",
    "import os\n",
    "import zipfile\n",
    "\n",
    "#'''=== Modeling Imports (To uncomment when ready) ===\n",
    "import xgboost as xgb\n",
    "\n",
    "import tensorflow as tf\n",
    "from tensorflow.keras.models import Sequential\n",
    "from tensorflow.keras.layers import Dense, Dropout\n",
    "#'''"
   ]
  },
  {
   "cell_type": "markdown",
   "id": "97a660d1",
   "metadata": {},
   "source": [
    "**Note:** This dataset is downloaded using the Kaggle API. While running the below cell requires a Kaggle account and API credentials (as outlined [here](https://www.kaggle.com/discussions/getting-started/524433)), the dataset itself is publicly available and was used to demonstrate work with real, historical financial data.\n",
    "\n",
    "I have already downloaded the dataset locally, so I won't be running the next cell.\n",
    "\n",
    "The dataset can also be downloaded manually here: https://www.kaggle.com/datasets/wordsforthewise/lending-club"
   ]
  },
  {
   "cell_type": "code",
   "execution_count": null,
   "id": "72b45371-c0dc-4a63-8e7b-f8eeecb6a05c",
   "metadata": {},
   "outputs": [],
   "source": [
    "#Download the dataset (Requires a Kaggle Account and API)\n",
    "!kaggle datasets download -d wordsforthewise/lending-club"
   ]
  },
  {
   "cell_type": "code",
   "execution_count": null,
   "id": "6763f6b7-8343-4be2-8894-52edef66d49c",
   "metadata": {},
   "outputs": [],
   "source": [
    "# Unzip it\n",
    "with zipfile.ZipFile(\"lending-club.zip\", \"r\") as zip_ref:\n",
    "    zip_ref.extractall(\"lending_club_data\")"
   ]
  },
  {
   "cell_type": "markdown",
   "id": "daa83da7",
   "metadata": {},
   "source": [
    "- Specify the file location:"
   ]
  },
  {
   "cell_type": "code",
   "execution_count": null,
   "id": "57ea466c-9588-4c6d-8050-77d06cc7bde4",
   "metadata": {},
   "outputs": [],
   "source": [
    "df = pd.read_csv('lending_club_data/accepted_2007_to_2018q4.csv/accepted_2007_to_2018Q4.csv')\n",
    "#df = pd.read_csv('accepted_2007_to_2018Q4.csv')"
   ]
  },
  {
   "cell_type": "code",
   "execution_count": 3,
   "id": "59a38d33-2bae-4f61-b146-29cfd7378445",
   "metadata": {},
   "outputs": [],
   "source": [
    "#Save a copy of the original dataset\n",
    "original_df = df.copy()\n",
    "#Run the following if we need to revert everything: df = original_df.copy()"
   ]
  },
  {
   "cell_type": "markdown",
   "id": "07523a7d-3403-46e6-9b5c-db1c90ba897d",
   "metadata": {},
   "source": [
    "### Let's explore the dataset to gain a better understanding of its structure and contents. It contains over 2 million samples and 151 features:"
   ]
  },
  {
   "cell_type": "code",
   "execution_count": 4,
   "id": "93a2d3cc-d335-40ca-8371-c1bb9e1b00ce",
   "metadata": {},
   "outputs": [
    {
     "data": {
      "text/plain": [
       "(2260701, 151)"
      ]
     },
     "execution_count": 4,
     "metadata": {},
     "output_type": "execute_result"
    }
   ],
   "source": [
    "df.shape"
   ]
  },
  {
   "cell_type": "markdown",
   "id": "5d7e5c4b-ac4d-4e8a-84a8-07a91d4d8dab",
   "metadata": {},
   "source": [
    "Display the first 5 samples:"
   ]
  },
  {
   "cell_type": "code",
   "execution_count": 5,
   "id": "0aaf9945-78fb-4c16-9b70-203da646f151",
   "metadata": {},
   "outputs": [
    {
     "data": {
      "text/html": [
       "<div>\n",
       "<style scoped>\n",
       "    .dataframe tbody tr th:only-of-type {\n",
       "        vertical-align: middle;\n",
       "    }\n",
       "\n",
       "    .dataframe tbody tr th {\n",
       "        vertical-align: top;\n",
       "    }\n",
       "\n",
       "    .dataframe thead th {\n",
       "        text-align: right;\n",
       "    }\n",
       "</style>\n",
       "<table border=\"1\" class=\"dataframe\">\n",
       "  <thead>\n",
       "    <tr style=\"text-align: right;\">\n",
       "      <th></th>\n",
       "      <th>id</th>\n",
       "      <th>member_id</th>\n",
       "      <th>loan_amnt</th>\n",
       "      <th>funded_amnt</th>\n",
       "      <th>funded_amnt_inv</th>\n",
       "      <th>term</th>\n",
       "      <th>int_rate</th>\n",
       "      <th>installment</th>\n",
       "      <th>grade</th>\n",
       "      <th>sub_grade</th>\n",
       "      <th>...</th>\n",
       "      <th>hardship_payoff_balance_amount</th>\n",
       "      <th>hardship_last_payment_amount</th>\n",
       "      <th>disbursement_method</th>\n",
       "      <th>debt_settlement_flag</th>\n",
       "      <th>debt_settlement_flag_date</th>\n",
       "      <th>settlement_status</th>\n",
       "      <th>settlement_date</th>\n",
       "      <th>settlement_amount</th>\n",
       "      <th>settlement_percentage</th>\n",
       "      <th>settlement_term</th>\n",
       "    </tr>\n",
       "  </thead>\n",
       "  <tbody>\n",
       "    <tr>\n",
       "      <th>0</th>\n",
       "      <td>68407277</td>\n",
       "      <td>NaN</td>\n",
       "      <td>3600.0</td>\n",
       "      <td>3600.0</td>\n",
       "      <td>3600.0</td>\n",
       "      <td>36 months</td>\n",
       "      <td>13.99</td>\n",
       "      <td>123.03</td>\n",
       "      <td>C</td>\n",
       "      <td>C4</td>\n",
       "      <td>...</td>\n",
       "      <td>NaN</td>\n",
       "      <td>NaN</td>\n",
       "      <td>Cash</td>\n",
       "      <td>N</td>\n",
       "      <td>NaN</td>\n",
       "      <td>NaN</td>\n",
       "      <td>NaN</td>\n",
       "      <td>NaN</td>\n",
       "      <td>NaN</td>\n",
       "      <td>NaN</td>\n",
       "    </tr>\n",
       "    <tr>\n",
       "      <th>1</th>\n",
       "      <td>68355089</td>\n",
       "      <td>NaN</td>\n",
       "      <td>24700.0</td>\n",
       "      <td>24700.0</td>\n",
       "      <td>24700.0</td>\n",
       "      <td>36 months</td>\n",
       "      <td>11.99</td>\n",
       "      <td>820.28</td>\n",
       "      <td>C</td>\n",
       "      <td>C1</td>\n",
       "      <td>...</td>\n",
       "      <td>NaN</td>\n",
       "      <td>NaN</td>\n",
       "      <td>Cash</td>\n",
       "      <td>N</td>\n",
       "      <td>NaN</td>\n",
       "      <td>NaN</td>\n",
       "      <td>NaN</td>\n",
       "      <td>NaN</td>\n",
       "      <td>NaN</td>\n",
       "      <td>NaN</td>\n",
       "    </tr>\n",
       "    <tr>\n",
       "      <th>2</th>\n",
       "      <td>68341763</td>\n",
       "      <td>NaN</td>\n",
       "      <td>20000.0</td>\n",
       "      <td>20000.0</td>\n",
       "      <td>20000.0</td>\n",
       "      <td>60 months</td>\n",
       "      <td>10.78</td>\n",
       "      <td>432.66</td>\n",
       "      <td>B</td>\n",
       "      <td>B4</td>\n",
       "      <td>...</td>\n",
       "      <td>NaN</td>\n",
       "      <td>NaN</td>\n",
       "      <td>Cash</td>\n",
       "      <td>N</td>\n",
       "      <td>NaN</td>\n",
       "      <td>NaN</td>\n",
       "      <td>NaN</td>\n",
       "      <td>NaN</td>\n",
       "      <td>NaN</td>\n",
       "      <td>NaN</td>\n",
       "    </tr>\n",
       "    <tr>\n",
       "      <th>3</th>\n",
       "      <td>66310712</td>\n",
       "      <td>NaN</td>\n",
       "      <td>35000.0</td>\n",
       "      <td>35000.0</td>\n",
       "      <td>35000.0</td>\n",
       "      <td>60 months</td>\n",
       "      <td>14.85</td>\n",
       "      <td>829.90</td>\n",
       "      <td>C</td>\n",
       "      <td>C5</td>\n",
       "      <td>...</td>\n",
       "      <td>NaN</td>\n",
       "      <td>NaN</td>\n",
       "      <td>Cash</td>\n",
       "      <td>N</td>\n",
       "      <td>NaN</td>\n",
       "      <td>NaN</td>\n",
       "      <td>NaN</td>\n",
       "      <td>NaN</td>\n",
       "      <td>NaN</td>\n",
       "      <td>NaN</td>\n",
       "    </tr>\n",
       "    <tr>\n",
       "      <th>4</th>\n",
       "      <td>68476807</td>\n",
       "      <td>NaN</td>\n",
       "      <td>10400.0</td>\n",
       "      <td>10400.0</td>\n",
       "      <td>10400.0</td>\n",
       "      <td>60 months</td>\n",
       "      <td>22.45</td>\n",
       "      <td>289.91</td>\n",
       "      <td>F</td>\n",
       "      <td>F1</td>\n",
       "      <td>...</td>\n",
       "      <td>NaN</td>\n",
       "      <td>NaN</td>\n",
       "      <td>Cash</td>\n",
       "      <td>N</td>\n",
       "      <td>NaN</td>\n",
       "      <td>NaN</td>\n",
       "      <td>NaN</td>\n",
       "      <td>NaN</td>\n",
       "      <td>NaN</td>\n",
       "      <td>NaN</td>\n",
       "    </tr>\n",
       "  </tbody>\n",
       "</table>\n",
       "<p>5 rows × 151 columns</p>\n",
       "</div>"
      ],
      "text/plain": [
       "         id  member_id  loan_amnt  funded_amnt  funded_amnt_inv        term  \\\n",
       "0  68407277        NaN     3600.0       3600.0           3600.0   36 months   \n",
       "1  68355089        NaN    24700.0      24700.0          24700.0   36 months   \n",
       "2  68341763        NaN    20000.0      20000.0          20000.0   60 months   \n",
       "3  66310712        NaN    35000.0      35000.0          35000.0   60 months   \n",
       "4  68476807        NaN    10400.0      10400.0          10400.0   60 months   \n",
       "\n",
       "   int_rate  installment grade sub_grade  ... hardship_payoff_balance_amount  \\\n",
       "0     13.99       123.03     C        C4  ...                            NaN   \n",
       "1     11.99       820.28     C        C1  ...                            NaN   \n",
       "2     10.78       432.66     B        B4  ...                            NaN   \n",
       "3     14.85       829.90     C        C5  ...                            NaN   \n",
       "4     22.45       289.91     F        F1  ...                            NaN   \n",
       "\n",
       "  hardship_last_payment_amount disbursement_method  debt_settlement_flag  \\\n",
       "0                          NaN                Cash                     N   \n",
       "1                          NaN                Cash                     N   \n",
       "2                          NaN                Cash                     N   \n",
       "3                          NaN                Cash                     N   \n",
       "4                          NaN                Cash                     N   \n",
       "\n",
       "  debt_settlement_flag_date settlement_status settlement_date  \\\n",
       "0                       NaN               NaN             NaN   \n",
       "1                       NaN               NaN             NaN   \n",
       "2                       NaN               NaN             NaN   \n",
       "3                       NaN               NaN             NaN   \n",
       "4                       NaN               NaN             NaN   \n",
       "\n",
       "  settlement_amount settlement_percentage settlement_term  \n",
       "0               NaN                   NaN             NaN  \n",
       "1               NaN                   NaN             NaN  \n",
       "2               NaN                   NaN             NaN  \n",
       "3               NaN                   NaN             NaN  \n",
       "4               NaN                   NaN             NaN  \n",
       "\n",
       "[5 rows x 151 columns]"
      ]
     },
     "execution_count": 5,
     "metadata": {},
     "output_type": "execute_result"
    }
   ],
   "source": [
    "df.head()"
   ]
  },
  {
   "cell_type": "code",
   "execution_count": 6,
   "id": "48d3e270-8992-4efd-8677-708f50544201",
   "metadata": {},
   "outputs": [
    {
     "name": "stdout",
     "output_type": "stream",
     "text": [
      "<class 'pandas.core.frame.DataFrame'>\n",
      "RangeIndex: 2260701 entries, 0 to 2260700\n",
      "Columns: 151 entries, id to settlement_term\n",
      "dtypes: float64(113), object(38)\n",
      "memory usage: 2.5+ GB\n"
     ]
    }
   ],
   "source": [
    "df.info()"
   ]
  },
  {
   "cell_type": "code",
   "execution_count": 7,
   "id": "087390fb-b903-4d64-81fb-7892a053a829",
   "metadata": {},
   "outputs": [
    {
     "data": {
      "text/html": [
       "<div>\n",
       "<style scoped>\n",
       "    .dataframe tbody tr th:only-of-type {\n",
       "        vertical-align: middle;\n",
       "    }\n",
       "\n",
       "    .dataframe tbody tr th {\n",
       "        vertical-align: top;\n",
       "    }\n",
       "\n",
       "    .dataframe thead th {\n",
       "        text-align: right;\n",
       "    }\n",
       "</style>\n",
       "<table border=\"1\" class=\"dataframe\">\n",
       "  <thead>\n",
       "    <tr style=\"text-align: right;\">\n",
       "      <th></th>\n",
       "      <th>member_id</th>\n",
       "      <th>loan_amnt</th>\n",
       "      <th>funded_amnt</th>\n",
       "      <th>funded_amnt_inv</th>\n",
       "      <th>int_rate</th>\n",
       "      <th>installment</th>\n",
       "      <th>annual_inc</th>\n",
       "      <th>dti</th>\n",
       "      <th>delinq_2yrs</th>\n",
       "      <th>fico_range_low</th>\n",
       "      <th>...</th>\n",
       "      <th>deferral_term</th>\n",
       "      <th>hardship_amount</th>\n",
       "      <th>hardship_length</th>\n",
       "      <th>hardship_dpd</th>\n",
       "      <th>orig_projected_additional_accrued_interest</th>\n",
       "      <th>hardship_payoff_balance_amount</th>\n",
       "      <th>hardship_last_payment_amount</th>\n",
       "      <th>settlement_amount</th>\n",
       "      <th>settlement_percentage</th>\n",
       "      <th>settlement_term</th>\n",
       "    </tr>\n",
       "  </thead>\n",
       "  <tbody>\n",
       "    <tr>\n",
       "      <th>count</th>\n",
       "      <td>0.0</td>\n",
       "      <td>2.260668e+06</td>\n",
       "      <td>2.260668e+06</td>\n",
       "      <td>2.260668e+06</td>\n",
       "      <td>2.260668e+06</td>\n",
       "      <td>2.260668e+06</td>\n",
       "      <td>2.260664e+06</td>\n",
       "      <td>2.258957e+06</td>\n",
       "      <td>2.260639e+06</td>\n",
       "      <td>2.260668e+06</td>\n",
       "      <td>...</td>\n",
       "      <td>10917.0</td>\n",
       "      <td>10917.000000</td>\n",
       "      <td>10917.0</td>\n",
       "      <td>10917.000000</td>\n",
       "      <td>8651.000000</td>\n",
       "      <td>10917.000000</td>\n",
       "      <td>10917.000000</td>\n",
       "      <td>34246.000000</td>\n",
       "      <td>34246.000000</td>\n",
       "      <td>34246.000000</td>\n",
       "    </tr>\n",
       "    <tr>\n",
       "      <th>mean</th>\n",
       "      <td>NaN</td>\n",
       "      <td>1.504693e+04</td>\n",
       "      <td>1.504166e+04</td>\n",
       "      <td>1.502344e+04</td>\n",
       "      <td>1.309283e+01</td>\n",
       "      <td>4.458068e+02</td>\n",
       "      <td>7.799243e+04</td>\n",
       "      <td>1.882420e+01</td>\n",
       "      <td>3.068792e-01</td>\n",
       "      <td>6.985882e+02</td>\n",
       "      <td>...</td>\n",
       "      <td>3.0</td>\n",
       "      <td>155.045981</td>\n",
       "      <td>3.0</td>\n",
       "      <td>13.743886</td>\n",
       "      <td>454.798089</td>\n",
       "      <td>11636.883942</td>\n",
       "      <td>193.994321</td>\n",
       "      <td>5010.664267</td>\n",
       "      <td>47.780365</td>\n",
       "      <td>13.191322</td>\n",
       "    </tr>\n",
       "    <tr>\n",
       "      <th>std</th>\n",
       "      <td>NaN</td>\n",
       "      <td>9.190245e+03</td>\n",
       "      <td>9.188413e+03</td>\n",
       "      <td>9.192332e+03</td>\n",
       "      <td>4.832138e+00</td>\n",
       "      <td>2.671735e+02</td>\n",
       "      <td>1.126962e+05</td>\n",
       "      <td>1.418333e+01</td>\n",
       "      <td>8.672303e-01</td>\n",
       "      <td>3.301038e+01</td>\n",
       "      <td>...</td>\n",
       "      <td>0.0</td>\n",
       "      <td>129.040594</td>\n",
       "      <td>0.0</td>\n",
       "      <td>9.671178</td>\n",
       "      <td>375.385500</td>\n",
       "      <td>7625.988281</td>\n",
       "      <td>198.629496</td>\n",
       "      <td>3693.122590</td>\n",
       "      <td>7.311822</td>\n",
       "      <td>8.159980</td>\n",
       "    </tr>\n",
       "    <tr>\n",
       "      <th>min</th>\n",
       "      <td>NaN</td>\n",
       "      <td>5.000000e+02</td>\n",
       "      <td>5.000000e+02</td>\n",
       "      <td>0.000000e+00</td>\n",
       "      <td>5.310000e+00</td>\n",
       "      <td>4.930000e+00</td>\n",
       "      <td>0.000000e+00</td>\n",
       "      <td>-1.000000e+00</td>\n",
       "      <td>0.000000e+00</td>\n",
       "      <td>6.100000e+02</td>\n",
       "      <td>...</td>\n",
       "      <td>3.0</td>\n",
       "      <td>0.640000</td>\n",
       "      <td>3.0</td>\n",
       "      <td>0.000000</td>\n",
       "      <td>1.920000</td>\n",
       "      <td>55.730000</td>\n",
       "      <td>0.010000</td>\n",
       "      <td>44.210000</td>\n",
       "      <td>0.200000</td>\n",
       "      <td>0.000000</td>\n",
       "    </tr>\n",
       "    <tr>\n",
       "      <th>25%</th>\n",
       "      <td>NaN</td>\n",
       "      <td>8.000000e+03</td>\n",
       "      <td>8.000000e+03</td>\n",
       "      <td>8.000000e+03</td>\n",
       "      <td>9.490000e+00</td>\n",
       "      <td>2.516500e+02</td>\n",
       "      <td>4.600000e+04</td>\n",
       "      <td>1.189000e+01</td>\n",
       "      <td>0.000000e+00</td>\n",
       "      <td>6.750000e+02</td>\n",
       "      <td>...</td>\n",
       "      <td>3.0</td>\n",
       "      <td>59.440000</td>\n",
       "      <td>3.0</td>\n",
       "      <td>5.000000</td>\n",
       "      <td>175.230000</td>\n",
       "      <td>5627.000000</td>\n",
       "      <td>44.440000</td>\n",
       "      <td>2208.000000</td>\n",
       "      <td>45.000000</td>\n",
       "      <td>6.000000</td>\n",
       "    </tr>\n",
       "    <tr>\n",
       "      <th>50%</th>\n",
       "      <td>NaN</td>\n",
       "      <td>1.290000e+04</td>\n",
       "      <td>1.287500e+04</td>\n",
       "      <td>1.280000e+04</td>\n",
       "      <td>1.262000e+01</td>\n",
       "      <td>3.779900e+02</td>\n",
       "      <td>6.500000e+04</td>\n",
       "      <td>1.784000e+01</td>\n",
       "      <td>0.000000e+00</td>\n",
       "      <td>6.900000e+02</td>\n",
       "      <td>...</td>\n",
       "      <td>3.0</td>\n",
       "      <td>119.140000</td>\n",
       "      <td>3.0</td>\n",
       "      <td>15.000000</td>\n",
       "      <td>352.770000</td>\n",
       "      <td>10028.390000</td>\n",
       "      <td>133.160000</td>\n",
       "      <td>4146.110000</td>\n",
       "      <td>45.000000</td>\n",
       "      <td>14.000000</td>\n",
       "    </tr>\n",
       "    <tr>\n",
       "      <th>75%</th>\n",
       "      <td>NaN</td>\n",
       "      <td>2.000000e+04</td>\n",
       "      <td>2.000000e+04</td>\n",
       "      <td>2.000000e+04</td>\n",
       "      <td>1.599000e+01</td>\n",
       "      <td>5.933200e+02</td>\n",
       "      <td>9.300000e+04</td>\n",
       "      <td>2.449000e+01</td>\n",
       "      <td>0.000000e+00</td>\n",
       "      <td>7.150000e+02</td>\n",
       "      <td>...</td>\n",
       "      <td>3.0</td>\n",
       "      <td>213.260000</td>\n",
       "      <td>3.0</td>\n",
       "      <td>22.000000</td>\n",
       "      <td>620.175000</td>\n",
       "      <td>16151.890000</td>\n",
       "      <td>284.190000</td>\n",
       "      <td>6850.172500</td>\n",
       "      <td>50.000000</td>\n",
       "      <td>18.000000</td>\n",
       "    </tr>\n",
       "    <tr>\n",
       "      <th>max</th>\n",
       "      <td>NaN</td>\n",
       "      <td>4.000000e+04</td>\n",
       "      <td>4.000000e+04</td>\n",
       "      <td>4.000000e+04</td>\n",
       "      <td>3.099000e+01</td>\n",
       "      <td>1.719830e+03</td>\n",
       "      <td>1.100000e+08</td>\n",
       "      <td>9.990000e+02</td>\n",
       "      <td>5.800000e+01</td>\n",
       "      <td>8.450000e+02</td>\n",
       "      <td>...</td>\n",
       "      <td>3.0</td>\n",
       "      <td>943.940000</td>\n",
       "      <td>3.0</td>\n",
       "      <td>37.000000</td>\n",
       "      <td>2680.890000</td>\n",
       "      <td>40306.410000</td>\n",
       "      <td>1407.860000</td>\n",
       "      <td>33601.000000</td>\n",
       "      <td>521.350000</td>\n",
       "      <td>181.000000</td>\n",
       "    </tr>\n",
       "  </tbody>\n",
       "</table>\n",
       "<p>8 rows × 113 columns</p>\n",
       "</div>"
      ],
      "text/plain": [
       "       member_id     loan_amnt   funded_amnt  funded_amnt_inv      int_rate  \\\n",
       "count        0.0  2.260668e+06  2.260668e+06     2.260668e+06  2.260668e+06   \n",
       "mean         NaN  1.504693e+04  1.504166e+04     1.502344e+04  1.309283e+01   \n",
       "std          NaN  9.190245e+03  9.188413e+03     9.192332e+03  4.832138e+00   \n",
       "min          NaN  5.000000e+02  5.000000e+02     0.000000e+00  5.310000e+00   \n",
       "25%          NaN  8.000000e+03  8.000000e+03     8.000000e+03  9.490000e+00   \n",
       "50%          NaN  1.290000e+04  1.287500e+04     1.280000e+04  1.262000e+01   \n",
       "75%          NaN  2.000000e+04  2.000000e+04     2.000000e+04  1.599000e+01   \n",
       "max          NaN  4.000000e+04  4.000000e+04     4.000000e+04  3.099000e+01   \n",
       "\n",
       "        installment    annual_inc           dti   delinq_2yrs  fico_range_low  \\\n",
       "count  2.260668e+06  2.260664e+06  2.258957e+06  2.260639e+06    2.260668e+06   \n",
       "mean   4.458068e+02  7.799243e+04  1.882420e+01  3.068792e-01    6.985882e+02   \n",
       "std    2.671735e+02  1.126962e+05  1.418333e+01  8.672303e-01    3.301038e+01   \n",
       "min    4.930000e+00  0.000000e+00 -1.000000e+00  0.000000e+00    6.100000e+02   \n",
       "25%    2.516500e+02  4.600000e+04  1.189000e+01  0.000000e+00    6.750000e+02   \n",
       "50%    3.779900e+02  6.500000e+04  1.784000e+01  0.000000e+00    6.900000e+02   \n",
       "75%    5.933200e+02  9.300000e+04  2.449000e+01  0.000000e+00    7.150000e+02   \n",
       "max    1.719830e+03  1.100000e+08  9.990000e+02  5.800000e+01    8.450000e+02   \n",
       "\n",
       "       ...  deferral_term  hardship_amount  hardship_length  hardship_dpd  \\\n",
       "count  ...        10917.0     10917.000000          10917.0  10917.000000   \n",
       "mean   ...            3.0       155.045981              3.0     13.743886   \n",
       "std    ...            0.0       129.040594              0.0      9.671178   \n",
       "min    ...            3.0         0.640000              3.0      0.000000   \n",
       "25%    ...            3.0        59.440000              3.0      5.000000   \n",
       "50%    ...            3.0       119.140000              3.0     15.000000   \n",
       "75%    ...            3.0       213.260000              3.0     22.000000   \n",
       "max    ...            3.0       943.940000              3.0     37.000000   \n",
       "\n",
       "       orig_projected_additional_accrued_interest  \\\n",
       "count                                 8651.000000   \n",
       "mean                                   454.798089   \n",
       "std                                    375.385500   \n",
       "min                                      1.920000   \n",
       "25%                                    175.230000   \n",
       "50%                                    352.770000   \n",
       "75%                                    620.175000   \n",
       "max                                   2680.890000   \n",
       "\n",
       "       hardship_payoff_balance_amount  hardship_last_payment_amount  \\\n",
       "count                    10917.000000                  10917.000000   \n",
       "mean                     11636.883942                    193.994321   \n",
       "std                       7625.988281                    198.629496   \n",
       "min                         55.730000                      0.010000   \n",
       "25%                       5627.000000                     44.440000   \n",
       "50%                      10028.390000                    133.160000   \n",
       "75%                      16151.890000                    284.190000   \n",
       "max                      40306.410000                   1407.860000   \n",
       "\n",
       "       settlement_amount  settlement_percentage  settlement_term  \n",
       "count       34246.000000           34246.000000     34246.000000  \n",
       "mean         5010.664267              47.780365        13.191322  \n",
       "std          3693.122590               7.311822         8.159980  \n",
       "min            44.210000               0.200000         0.000000  \n",
       "25%          2208.000000              45.000000         6.000000  \n",
       "50%          4146.110000              45.000000        14.000000  \n",
       "75%          6850.172500              50.000000        18.000000  \n",
       "max         33601.000000             521.350000       181.000000  \n",
       "\n",
       "[8 rows x 113 columns]"
      ]
     },
     "execution_count": 7,
     "metadata": {},
     "output_type": "execute_result"
    }
   ],
   "source": [
    "df.describe()"
   ]
  },
  {
   "cell_type": "markdown",
   "id": "71bf0256-b2c6-4e6a-aa81-3b5f20293826",
   "metadata": {},
   "source": [
    "Display the names of all the features:"
   ]
  },
  {
   "cell_type": "code",
   "execution_count": 8,
   "id": "60068e62-fd72-431a-9ba3-6f0689194360",
   "metadata": {},
   "outputs": [
    {
     "data": {
      "text/plain": [
       "['id',\n",
       " 'member_id',\n",
       " 'loan_amnt',\n",
       " 'funded_amnt',\n",
       " 'funded_amnt_inv',\n",
       " 'term',\n",
       " 'int_rate',\n",
       " 'installment',\n",
       " 'grade',\n",
       " 'sub_grade',\n",
       " 'emp_title',\n",
       " 'emp_length',\n",
       " 'home_ownership',\n",
       " 'annual_inc',\n",
       " 'verification_status',\n",
       " 'issue_d',\n",
       " 'loan_status',\n",
       " 'pymnt_plan',\n",
       " 'url',\n",
       " 'desc',\n",
       " 'purpose',\n",
       " 'title',\n",
       " 'zip_code',\n",
       " 'addr_state',\n",
       " 'dti',\n",
       " 'delinq_2yrs',\n",
       " 'earliest_cr_line',\n",
       " 'fico_range_low',\n",
       " 'fico_range_high',\n",
       " 'inq_last_6mths',\n",
       " 'mths_since_last_delinq',\n",
       " 'mths_since_last_record',\n",
       " 'open_acc',\n",
       " 'pub_rec',\n",
       " 'revol_bal',\n",
       " 'revol_util',\n",
       " 'total_acc',\n",
       " 'initial_list_status',\n",
       " 'out_prncp',\n",
       " 'out_prncp_inv',\n",
       " 'total_pymnt',\n",
       " 'total_pymnt_inv',\n",
       " 'total_rec_prncp',\n",
       " 'total_rec_int',\n",
       " 'total_rec_late_fee',\n",
       " 'recoveries',\n",
       " 'collection_recovery_fee',\n",
       " 'last_pymnt_d',\n",
       " 'last_pymnt_amnt',\n",
       " 'next_pymnt_d',\n",
       " 'last_credit_pull_d',\n",
       " 'last_fico_range_high',\n",
       " 'last_fico_range_low',\n",
       " 'collections_12_mths_ex_med',\n",
       " 'mths_since_last_major_derog',\n",
       " 'policy_code',\n",
       " 'application_type',\n",
       " 'annual_inc_joint',\n",
       " 'dti_joint',\n",
       " 'verification_status_joint',\n",
       " 'acc_now_delinq',\n",
       " 'tot_coll_amt',\n",
       " 'tot_cur_bal',\n",
       " 'open_acc_6m',\n",
       " 'open_act_il',\n",
       " 'open_il_12m',\n",
       " 'open_il_24m',\n",
       " 'mths_since_rcnt_il',\n",
       " 'total_bal_il',\n",
       " 'il_util',\n",
       " 'open_rv_12m',\n",
       " 'open_rv_24m',\n",
       " 'max_bal_bc',\n",
       " 'all_util',\n",
       " 'total_rev_hi_lim',\n",
       " 'inq_fi',\n",
       " 'total_cu_tl',\n",
       " 'inq_last_12m',\n",
       " 'acc_open_past_24mths',\n",
       " 'avg_cur_bal',\n",
       " 'bc_open_to_buy',\n",
       " 'bc_util',\n",
       " 'chargeoff_within_12_mths',\n",
       " 'delinq_amnt',\n",
       " 'mo_sin_old_il_acct',\n",
       " 'mo_sin_old_rev_tl_op',\n",
       " 'mo_sin_rcnt_rev_tl_op',\n",
       " 'mo_sin_rcnt_tl',\n",
       " 'mort_acc',\n",
       " 'mths_since_recent_bc',\n",
       " 'mths_since_recent_bc_dlq',\n",
       " 'mths_since_recent_inq',\n",
       " 'mths_since_recent_revol_delinq',\n",
       " 'num_accts_ever_120_pd',\n",
       " 'num_actv_bc_tl',\n",
       " 'num_actv_rev_tl',\n",
       " 'num_bc_sats',\n",
       " 'num_bc_tl',\n",
       " 'num_il_tl',\n",
       " 'num_op_rev_tl',\n",
       " 'num_rev_accts',\n",
       " 'num_rev_tl_bal_gt_0',\n",
       " 'num_sats',\n",
       " 'num_tl_120dpd_2m',\n",
       " 'num_tl_30dpd',\n",
       " 'num_tl_90g_dpd_24m',\n",
       " 'num_tl_op_past_12m',\n",
       " 'pct_tl_nvr_dlq',\n",
       " 'percent_bc_gt_75',\n",
       " 'pub_rec_bankruptcies',\n",
       " 'tax_liens',\n",
       " 'tot_hi_cred_lim',\n",
       " 'total_bal_ex_mort',\n",
       " 'total_bc_limit',\n",
       " 'total_il_high_credit_limit',\n",
       " 'revol_bal_joint',\n",
       " 'sec_app_fico_range_low',\n",
       " 'sec_app_fico_range_high',\n",
       " 'sec_app_earliest_cr_line',\n",
       " 'sec_app_inq_last_6mths',\n",
       " 'sec_app_mort_acc',\n",
       " 'sec_app_open_acc',\n",
       " 'sec_app_revol_util',\n",
       " 'sec_app_open_act_il',\n",
       " 'sec_app_num_rev_accts',\n",
       " 'sec_app_chargeoff_within_12_mths',\n",
       " 'sec_app_collections_12_mths_ex_med',\n",
       " 'sec_app_mths_since_last_major_derog',\n",
       " 'hardship_flag',\n",
       " 'hardship_type',\n",
       " 'hardship_reason',\n",
       " 'hardship_status',\n",
       " 'deferral_term',\n",
       " 'hardship_amount',\n",
       " 'hardship_start_date',\n",
       " 'hardship_end_date',\n",
       " 'payment_plan_start_date',\n",
       " 'hardship_length',\n",
       " 'hardship_dpd',\n",
       " 'hardship_loan_status',\n",
       " 'orig_projected_additional_accrued_interest',\n",
       " 'hardship_payoff_balance_amount',\n",
       " 'hardship_last_payment_amount',\n",
       " 'disbursement_method',\n",
       " 'debt_settlement_flag',\n",
       " 'debt_settlement_flag_date',\n",
       " 'settlement_status',\n",
       " 'settlement_date',\n",
       " 'settlement_amount',\n",
       " 'settlement_percentage',\n",
       " 'settlement_term']"
      ]
     },
     "execution_count": 8,
     "metadata": {},
     "output_type": "execute_result"
    }
   ],
   "source": [
    "df.columns.tolist()"
   ]
  },
  {
   "cell_type": "markdown",
   "id": "616ece66",
   "metadata": {},
   "source": [
    "The target feature is 'loan_status', which will serve as the label for our predictions.\n",
    "Let's examine all features that contain the word 'status' in their name:"
   ]
  },
  {
   "cell_type": "code",
   "execution_count": 9,
   "id": "cd1f32e6-f570-43c4-8ffb-dd75d6f05bd0",
   "metadata": {},
   "outputs": [
    {
     "data": {
      "text/plain": [
       "[Source Verified    886231\n",
       " Not Verified       744806\n",
       " Verified           629631\n",
       " Name: verification_status, dtype: int64,\n",
       " Fully Paid                                             1076751\n",
       " Current                                                 878317\n",
       " Charged Off                                             268559\n",
       " Late (31-120 days)                                       21467\n",
       " In Grace Period                                           8436\n",
       " Late (16-30 days)                                         4349\n",
       " Does not meet the credit policy. Status:Fully Paid        1988\n",
       " Does not meet the credit policy. Status:Charged Off        761\n",
       " Default                                                     40\n",
       " Name: loan_status, dtype: int64,\n",
       " w    1535467\n",
       " f     725201\n",
       " Name: initial_list_status, dtype: int64,\n",
       " Not Verified       57403\n",
       " Source Verified    34827\n",
       " Verified           23500\n",
       " Name: verification_status_joint, dtype: int64,\n",
       " COMPLETED    7819\n",
       " BROKEN       2266\n",
       " ACTIVE        832\n",
       " Name: hardship_status, dtype: int64,\n",
       " Late (16-30 days)     4770\n",
       " In Grace Period       2912\n",
       " Current               2769\n",
       " Late (31-120 days)     451\n",
       " Issued                  15\n",
       " Name: hardship_loan_status, dtype: int64,\n",
       " ACTIVE      14704\n",
       " COMPLETE    14505\n",
       " BROKEN       5037\n",
       " Name: settlement_status, dtype: int64]"
      ]
     },
     "execution_count": 9,
     "metadata": {},
     "output_type": "execute_result"
    }
   ],
   "source": [
    "[df[col].value_counts() for col in df.columns if 'status' in col.lower()]"
   ]
  },
  {
   "cell_type": "markdown",
   "id": "e59d41ff-bdfb-4d25-a9f9-b286686192bf",
   "metadata": {},
   "source": [
    "## Let’s visualize the distribution of values in the 'loan_status' feature using a bar chart:"
   ]
  },
  {
   "cell_type": "code",
   "execution_count": 10,
   "id": "5126e6a2-7b1b-4f0f-87a8-58ea34fd9069",
   "metadata": {},
   "outputs": [
    {
     "data": {
      "text/plain": [
       "([0, 1, 2, 3, 4, 5, 6, 7, 8],\n",
       " [Text(0, 0, 'Fully Paid'),\n",
       "  Text(1, 0, 'Current'),\n",
       "  Text(2, 0, 'Charged Off'),\n",
       "  Text(3, 0, 'In Grace Period'),\n",
       "  Text(4, 0, 'Late (31-120 days)'),\n",
       "  Text(5, 0, 'Late (16-30 days)'),\n",
       "  Text(6, 0, 'Default'),\n",
       "  Text(7, 0, 'Does not meet the credit policy. Status:Fully Paid'),\n",
       "  Text(8, 0, 'Does not meet the credit policy. Status:Charged Off')])"
      ]
     },
     "execution_count": 10,
     "metadata": {},
     "output_type": "execute_result"
    },
    {
     "data": {
      "image/png": "[encoded data removed]",
      "text/plain": [
       "<Figure size 1200x600 with 1 Axes>"
      ]
     },
     "metadata": {},
     "output_type": "display_data"
    }
   ],
   "source": [
    "plt.figure(figsize=(12, 6))\n",
    "sns.countplot(x='loan_status', data=df)\n",
    "plt.xticks(rotation=90)"
   ]
  },
  {
   "cell_type": "markdown",
   "id": "03b84143-bbf7-4089-94ba-dfde03d69216",
   "metadata": {},
   "source": [
    "- The above label is the one we want to predict with our model. ('loan_status')\n",
    "- Let's also check the distribution of the loan amounts:"
   ]
  },
  {
   "cell_type": "code",
   "execution_count": 11,
   "id": "08c49153-5e9a-4eb7-90fe-b0d960e7afd8",
   "metadata": {},
   "outputs": [
    {
     "data": {
      "text/plain": [
       "<seaborn.axisgrid.FacetGrid at 0x7e2e38e189d0>"
      ]
     },
     "execution_count": 11,
     "metadata": {},
     "output_type": "execute_result"
    },
    {
     "data": {
      "text/plain": [
       "<Figure size 1200x1200 with 0 Axes>"
      ]
     },
     "metadata": {},
     "output_type": "display_data"
    },
    {
     "data": {
      "image/png": "[encoded data removed]",
      "text/plain": [
       "<Figure size 500x500 with 1 Axes>"
      ]
     },
     "metadata": {},
     "output_type": "display_data"
    }
   ],
   "source": [
    "plt.figure(figsize=(12, 12))\n",
    "sns.displot(df['loan_amnt'])"
   ]
  },
  {
   "cell_type": "markdown",
   "id": "266d3429-cdfb-48f3-8af7-32165200b461",
   "metadata": {},
   "source": [
    "# We'll take note of how many missing values there are and their percentage:"
   ]
  },
  {
   "cell_type": "code",
   "execution_count": 12,
   "id": "51fd25c6-f261-48a5-9a8d-3154dee82456",
   "metadata": {},
   "outputs": [
    {
     "name": "stdout",
     "output_type": "stream",
     "text": [
      "total entries: 2260701\n",
      "\n",
      "Count of missing value:\n",
      "member_id                                     2260701\n",
      "orig_projected_additional_accrued_interest    2252050\n",
      "hardship_end_date                             2249784\n",
      "hardship_start_date                           2249784\n",
      "hardship_type                                 2249784\n",
      "hardship_reason                               2249784\n",
      "hardship_status                               2249784\n",
      "deferral_term                                 2249784\n",
      "hardship_last_payment_amount                  2249784\n",
      "hardship_payoff_balance_amount                2249784\n",
      "hardship_loan_status                          2249784\n",
      "hardship_dpd                                  2249784\n",
      "hardship_length                               2249784\n",
      "payment_plan_start_date                       2249784\n",
      "hardship_amount                               2249784\n",
      "settlement_term                               2226455\n",
      "debt_settlement_flag_date                     2226455\n",
      "settlement_status                             2226455\n",
      "settlement_date                               2226455\n",
      "settlement_amount                             2226455\n",
      "settlement_percentage                         2226455\n",
      "sec_app_mths_since_last_major_derog           2224759\n",
      "sec_app_revol_util                            2154517\n",
      "revol_bal_joint                               2152681\n",
      "sec_app_mort_acc                              2152680\n",
      "sec_app_fico_range_low                        2152680\n",
      "sec_app_fico_range_high                       2152680\n",
      "sec_app_earliest_cr_line                      2152680\n",
      "sec_app_inq_last_6mths                        2152680\n",
      "sec_app_open_acc                              2152680\n",
      "sec_app_open_act_il                           2152680\n",
      "sec_app_num_rev_accts                         2152680\n",
      "sec_app_chargeoff_within_12_mths              2152680\n",
      "sec_app_collections_12_mths_ex_med            2152680\n",
      "verification_status_joint                     2144971\n",
      "dti_joint                                     2139995\n",
      "annual_inc_joint                              2139991\n",
      "desc                                          2134634\n",
      "mths_since_last_record                        1901545\n",
      "mths_since_recent_bc_dlq                      1741000\n",
      "mths_since_last_major_derog                   1679926\n",
      "mths_since_recent_revol_delinq                1520342\n",
      "next_pymnt_d                                  1345343\n",
      "mths_since_last_delinq                        1158535\n",
      "il_util                                       1068883\n",
      "mths_since_rcnt_il                             909957\n",
      "all_util                                       866381\n",
      "open_acc_6m                                    866163\n",
      "total_cu_tl                                    866163\n",
      "inq_last_12m                                   866163\n",
      "open_rv_24m                                    866162\n",
      "open_rv_12m                                    866162\n",
      "total_bal_il                                   866162\n",
      "open_il_24m                                    866162\n",
      "open_il_12m                                    866162\n",
      "open_act_il                                    866162\n",
      "max_bal_bc                                     866162\n",
      "inq_fi                                         866162\n",
      "mths_since_recent_inq                          295468\n",
      "emp_title                                      167002\n",
      "num_tl_120dpd_2m                               153690\n",
      "emp_length                                     146940\n",
      "mo_sin_old_il_acct                             139104\n",
      "bc_util                                         76104\n",
      "percent_bc_gt_75                                75412\n",
      "bc_open_to_buy                                  74968\n",
      "mths_since_recent_bc                            73445\n",
      "pct_tl_nvr_dlq                                  70464\n",
      "avg_cur_bal                                     70379\n",
      "mo_sin_old_rev_tl_op                            70310\n",
      "mo_sin_rcnt_rev_tl_op                           70310\n",
      "num_rev_accts                                   70310\n",
      "mo_sin_rcnt_tl                                  70309\n",
      "num_tl_30dpd                                    70309\n",
      "num_accts_ever_120_pd                           70309\n",
      "num_actv_rev_tl                                 70309\n",
      "num_il_tl                                       70309\n",
      "num_op_rev_tl                                   70309\n",
      "num_rev_tl_bal_gt_0                             70309\n",
      "num_tl_90g_dpd_24m                              70309\n",
      "num_tl_op_past_12m                              70309\n",
      "tot_hi_cred_lim                                 70309\n",
      "total_il_high_credit_limit                      70309\n",
      "num_bc_tl                                       70309\n",
      "num_actv_bc_tl                                  70309\n",
      "total_rev_hi_lim                                70309\n",
      "tot_coll_amt                                    70309\n",
      "tot_cur_bal                                     70309\n",
      "num_bc_sats                                     58623\n",
      "num_sats                                        58623\n",
      "acc_open_past_24mths                            50063\n",
      "mort_acc                                        50063\n",
      "total_bc_limit                                  50063\n",
      "total_bal_ex_mort                               50063\n",
      "title                                           23358\n",
      "last_pymnt_d                                     2460\n",
      "revol_util                                       1835\n",
      "dti                                              1744\n",
      "pub_rec_bankruptcies                             1398\n",
      "chargeoff_within_12_mths                          178\n",
      "collections_12_mths_ex_med                        178\n",
      "tax_liens                                         138\n",
      "last_credit_pull_d                                105\n",
      "inq_last_6mths                                     63\n",
      "total_acc                                          62\n",
      "delinq_2yrs                                        62\n",
      "earliest_cr_line                                   62\n",
      "open_acc                                           62\n",
      "pub_rec                                            62\n",
      "acc_now_delinq                                     62\n",
      "delinq_amnt                                        62\n",
      "annual_inc                                         37\n",
      "zip_code                                           34\n",
      "purpose                                            33\n",
      "issue_d                                            33\n",
      "url                                                33\n",
      "pymnt_plan                                         33\n",
      "sub_grade                                          33\n",
      "funded_amnt                                        33\n",
      "loan_status                                        33\n",
      "loan_amnt                                          33\n",
      "installment                                        33\n",
      "int_rate                                           33\n",
      "debt_settlement_flag                               33\n",
      "verification_status                                33\n",
      "grade                                              33\n",
      "term                                               33\n",
      "disbursement_method                                33\n",
      "home_ownership                                     33\n",
      "funded_amnt_inv                                    33\n",
      "application_type                                   33\n",
      "hardship_flag                                      33\n",
      "addr_state                                         33\n",
      "last_fico_range_low                                33\n",
      "last_fico_range_high                               33\n",
      "last_pymnt_amnt                                    33\n",
      "collection_recovery_fee                            33\n",
      "recoveries                                         33\n",
      "total_rec_late_fee                                 33\n",
      "total_rec_int                                      33\n",
      "total_rec_prncp                                    33\n",
      "total_pymnt_inv                                    33\n",
      "total_pymnt                                        33\n",
      "out_prncp_inv                                      33\n",
      "out_prncp                                          33\n",
      "initial_list_status                                33\n",
      "policy_code                                        33\n",
      "revol_bal                                          33\n",
      "fico_range_high                                    33\n",
      "fico_range_low                                     33\n",
      "id                                                  0\n",
      "\n",
      "\n",
      "Ratio of missing value:\n",
      "member_id                                     100.000000\n",
      "orig_projected_additional_accrued_interest     99.617331\n",
      "hardship_end_date                              99.517097\n",
      "hardship_start_date                            99.517097\n",
      "hardship_type                                  99.517097\n",
      "hardship_reason                                99.517097\n",
      "hardship_status                                99.517097\n",
      "deferral_term                                  99.517097\n",
      "hardship_last_payment_amount                   99.517097\n",
      "hardship_payoff_balance_amount                 99.517097\n",
      "hardship_loan_status                           99.517097\n",
      "hardship_dpd                                   99.517097\n",
      "hardship_length                                99.517097\n",
      "payment_plan_start_date                        99.517097\n",
      "hardship_amount                                99.517097\n",
      "settlement_term                                98.485160\n",
      "debt_settlement_flag_date                      98.485160\n",
      "settlement_status                              98.485160\n",
      "settlement_date                                98.485160\n",
      "settlement_amount                              98.485160\n",
      "settlement_percentage                          98.485160\n",
      "sec_app_mths_since_last_major_derog            98.410139\n",
      "sec_app_revol_util                             95.303050\n",
      "revol_bal_joint                                95.221836\n",
      "sec_app_mort_acc                               95.221792\n",
      "sec_app_fico_range_low                         95.221792\n",
      "sec_app_fico_range_high                        95.221792\n",
      "sec_app_earliest_cr_line                       95.221792\n",
      "sec_app_inq_last_6mths                         95.221792\n",
      "sec_app_open_acc                               95.221792\n",
      "sec_app_open_act_il                            95.221792\n",
      "sec_app_num_rev_accts                          95.221792\n",
      "sec_app_chargeoff_within_12_mths               95.221792\n",
      "sec_app_collections_12_mths_ex_med             95.221792\n",
      "verification_status_joint                      94.880791\n",
      "dti_joint                                      94.660683\n",
      "annual_inc_joint                               94.660506\n",
      "desc                                           94.423544\n",
      "mths_since_last_record                         84.113069\n",
      "mths_since_recent_bc_dlq                       77.011511\n",
      "mths_since_last_major_derog                    74.309960\n",
      "mths_since_recent_revol_delinq                 67.250910\n",
      "next_pymnt_d                                   59.509993\n",
      "mths_since_last_delinq                         51.246715\n",
      "il_util                                        47.281042\n",
      "mths_since_rcnt_il                             40.251099\n",
      "all_util                                       38.323555\n",
      "open_acc_6m                                    38.313912\n",
      "total_cu_tl                                    38.313912\n",
      "inq_last_12m                                   38.313912\n",
      "open_rv_24m                                    38.313868\n",
      "open_rv_12m                                    38.313868\n",
      "total_bal_il                                   38.313868\n",
      "open_il_24m                                    38.313868\n",
      "open_il_12m                                    38.313868\n",
      "open_act_il                                    38.313868\n",
      "max_bal_bc                                     38.313868\n",
      "inq_fi                                         38.313868\n",
      "mths_since_recent_inq                          13.069751\n",
      "emp_title                                       7.387178\n",
      "num_tl_120dpd_2m                                6.798334\n",
      "emp_length                                      6.499754\n",
      "mo_sin_old_il_acct                              6.153136\n",
      "bc_util                                         3.366389\n",
      "percent_bc_gt_75                                3.335779\n",
      "bc_open_to_buy                                  3.316140\n",
      "mths_since_recent_bc                            3.248771\n",
      "pct_tl_nvr_dlq                                  3.116909\n",
      "avg_cur_bal                                     3.113149\n",
      "mo_sin_old_rev_tl_op                            3.110097\n",
      "mo_sin_rcnt_rev_tl_op                           3.110097\n",
      "num_rev_accts                                   3.110097\n",
      "mo_sin_rcnt_tl                                  3.110053\n",
      "num_tl_30dpd                                    3.110053\n",
      "num_accts_ever_120_pd                           3.110053\n",
      "num_actv_rev_tl                                 3.110053\n",
      "num_il_tl                                       3.110053\n",
      "num_op_rev_tl                                   3.110053\n",
      "num_rev_tl_bal_gt_0                             3.110053\n",
      "num_tl_90g_dpd_24m                              3.110053\n",
      "num_tl_op_past_12m                              3.110053\n",
      "tot_hi_cred_lim                                 3.110053\n",
      "total_il_high_credit_limit                      3.110053\n",
      "num_bc_tl                                       3.110053\n",
      "num_actv_bc_tl                                  3.110053\n",
      "total_rev_hi_lim                                3.110053\n",
      "tot_coll_amt                                    3.110053\n",
      "tot_cur_bal                                     3.110053\n",
      "num_bc_sats                                     2.593134\n",
      "num_sats                                        2.593134\n",
      "acc_open_past_24mths                            2.214490\n",
      "mort_acc                                        2.214490\n",
      "total_bc_limit                                  2.214490\n",
      "total_bal_ex_mort                               2.214490\n",
      "title                                           1.033219\n",
      "last_pymnt_d                                    0.108816\n",
      "revol_util                                      0.081170\n",
      "dti                                             0.077144\n",
      "pub_rec_bankruptcies                            0.061839\n",
      "chargeoff_within_12_mths                        0.007874\n",
      "collections_12_mths_ex_med                      0.007874\n",
      "tax_liens                                       0.006104\n",
      "last_credit_pull_d                              0.004645\n",
      "inq_last_6mths                                  0.002787\n",
      "total_acc                                       0.002743\n",
      "delinq_2yrs                                     0.002743\n",
      "earliest_cr_line                                0.002743\n",
      "open_acc                                        0.002743\n",
      "pub_rec                                         0.002743\n",
      "acc_now_delinq                                  0.002743\n",
      "delinq_amnt                                     0.002743\n",
      "annual_inc                                      0.001637\n",
      "zip_code                                        0.001504\n",
      "purpose                                         0.001460\n",
      "issue_d                                         0.001460\n",
      "url                                             0.001460\n",
      "pymnt_plan                                      0.001460\n",
      "sub_grade                                       0.001460\n",
      "funded_amnt                                     0.001460\n",
      "loan_status                                     0.001460\n",
      "loan_amnt                                       0.001460\n",
      "installment                                     0.001460\n",
      "int_rate                                        0.001460\n",
      "debt_settlement_flag                            0.001460\n",
      "verification_status                             0.001460\n",
      "grade                                           0.001460\n",
      "term                                            0.001460\n",
      "disbursement_method                             0.001460\n",
      "home_ownership                                  0.001460\n",
      "funded_amnt_inv                                 0.001460\n",
      "application_type                                0.001460\n",
      "hardship_flag                                   0.001460\n",
      "addr_state                                      0.001460\n",
      "last_fico_range_low                             0.001460\n",
      "last_fico_range_high                            0.001460\n",
      "last_pymnt_amnt                                 0.001460\n",
      "collection_recovery_fee                         0.001460\n",
      "recoveries                                      0.001460\n",
      "total_rec_late_fee                              0.001460\n",
      "total_rec_int                                   0.001460\n",
      "total_rec_prncp                                 0.001460\n",
      "total_pymnt_inv                                 0.001460\n",
      "total_pymnt                                     0.001460\n",
      "out_prncp_inv                                   0.001460\n",
      "out_prncp                                       0.001460\n",
      "initial_list_status                             0.001460\n",
      "policy_code                                     0.001460\n",
      "revol_bal                                       0.001460\n",
      "fico_range_high                                 0.001460\n",
      "fico_range_low                                  0.001460\n",
      "id                                              0.000000\n"
     ]
    },
    {
     "name": "stdout",
     "output_type": "stream",
     "text": [
      "member_id                                     100.000000\n",
      "orig_projected_additional_accrued_interest     99.617331\n",
      "hardship_end_date                              99.517097\n",
      "hardship_start_date                            99.517097\n",
      "hardship_type                                  99.517097\n",
      "hardship_reason                                99.517097\n",
      "hardship_status                                99.517097\n",
      "deferral_term                                  99.517097\n",
      "hardship_last_payment_amount                   99.517097\n",
      "hardship_payoff_balance_amount                 99.517097\n",
      "hardship_loan_status                           99.517097\n",
      "hardship_dpd                                   99.517097\n",
      "hardship_length                                99.517097\n",
      "payment_plan_start_date                        99.517097\n",
      "hardship_amount                                99.517097\n",
      "settlement_term                                98.485160\n",
      "debt_settlement_flag_date                      98.485160\n",
      "settlement_status                              98.485160\n",
      "settlement_date                                98.485160\n",
      "settlement_amount                              98.485160\n",
      "settlement_percentage                          98.485160\n",
      "sec_app_mths_since_last_major_derog            98.410139\n",
      "sec_app_revol_util                             95.303050\n",
      "revol_bal_joint                                95.221836\n",
      "sec_app_mort_acc                               95.221792\n",
      "sec_app_fico_range_low                         95.221792\n",
      "sec_app_fico_range_high                        95.221792\n",
      "sec_app_earliest_cr_line                       95.221792\n",
      "sec_app_inq_last_6mths                         95.221792\n",
      "sec_app_open_acc                               95.221792\n",
      "sec_app_open_act_il                            95.221792\n",
      "sec_app_num_rev_accts                          95.221792\n",
      "sec_app_chargeoff_within_12_mths               95.221792\n",
      "sec_app_collections_12_mths_ex_med             95.221792\n",
      "verification_status_joint                      94.880791\n",
      "dti_joint                                      94.660683\n",
      "annual_inc_joint                               94.660506\n",
      "desc                                           94.423544\n",
      "mths_since_last_record                         84.113069\n",
      "mths_since_recent_bc_dlq                       77.011511\n",
      "mths_since_last_major_derog                    74.309960\n",
      "mths_since_recent_revol_delinq                 67.250910\n",
      "next_pymnt_d                                   59.509993\n",
      "mths_since_last_delinq                         51.246715\n",
      "il_util                                        47.281042\n",
      "mths_since_rcnt_il                             40.251099\n",
      "all_util                                       38.323555\n",
      "open_acc_6m                                    38.313912\n",
      "total_cu_tl                                    38.313912\n",
      "inq_last_12m                                   38.313912\n",
      "open_rv_24m                                    38.313868\n",
      "open_rv_12m                                    38.313868\n",
      "total_bal_il                                   38.313868\n",
      "open_il_24m                                    38.313868\n",
      "open_il_12m                                    38.313868\n",
      "open_act_il                                    38.313868\n",
      "max_bal_bc                                     38.313868\n",
      "inq_fi                                         38.313868\n",
      "mths_since_recent_inq                          13.069751\n",
      "emp_title                                       7.387178\n",
      "num_tl_120dpd_2m                                6.798334\n",
      "emp_length                                      6.499754\n",
      "mo_sin_old_il_acct                              6.153136\n",
      "bc_util                                         3.366389\n",
      "percent_bc_gt_75                                3.335779\n",
      "bc_open_to_buy                                  3.316140\n",
      "mths_since_recent_bc                            3.248771\n",
      "pct_tl_nvr_dlq                                  3.116909\n",
      "avg_cur_bal                                     3.113149\n",
      "mo_sin_old_rev_tl_op                            3.110097\n",
      "mo_sin_rcnt_rev_tl_op                           3.110097\n",
      "num_rev_accts                                   3.110097\n",
      "mo_sin_rcnt_tl                                  3.110053\n",
      "num_tl_30dpd                                    3.110053\n",
      "num_accts_ever_120_pd                           3.110053\n",
      "num_actv_rev_tl                                 3.110053\n",
      "num_il_tl                                       3.110053\n",
      "num_op_rev_tl                                   3.110053\n",
      "num_rev_tl_bal_gt_0                             3.110053\n",
      "num_tl_90g_dpd_24m                              3.110053\n",
      "num_tl_op_past_12m                              3.110053\n",
      "tot_hi_cred_lim                                 3.110053\n",
      "total_il_high_credit_limit                      3.110053\n",
      "num_bc_tl                                       3.110053\n",
      "num_actv_bc_tl                                  3.110053\n",
      "total_rev_hi_lim                                3.110053\n",
      "tot_coll_amt                                    3.110053\n",
      "tot_cur_bal                                     3.110053\n",
      "num_bc_sats                                     2.593134\n",
      "num_sats                                        2.593134\n",
      "acc_open_past_24mths                            2.214490\n",
      "mort_acc                                        2.214490\n",
      "total_bc_limit                                  2.214490\n",
      "total_bal_ex_mort                               2.214490\n",
      "title                                           1.033219\n",
      "last_pymnt_d                                    0.108816\n",
      "revol_util                                      0.081170\n",
      "dti                                             0.077144\n",
      "pub_rec_bankruptcies                            0.061839\n",
      "chargeoff_within_12_mths                        0.007874\n",
      "collections_12_mths_ex_med                      0.007874\n",
      "tax_liens                                       0.006104\n",
      "last_credit_pull_d                              0.004645\n",
      "inq_last_6mths                                  0.002787\n",
      "total_acc                                       0.002743\n",
      "delinq_2yrs                                     0.002743\n",
      "earliest_cr_line                                0.002743\n",
      "open_acc                                        0.002743\n",
      "pub_rec                                         0.002743\n",
      "acc_now_delinq                                  0.002743\n",
      "delinq_amnt                                     0.002743\n",
      "annual_inc                                      0.001637\n",
      "zip_code                                        0.001504\n",
      "purpose                                         0.001460\n",
      "issue_d                                         0.001460\n",
      "url                                             0.001460\n",
      "pymnt_plan                                      0.001460\n",
      "sub_grade                                       0.001460\n",
      "funded_amnt                                     0.001460\n",
      "loan_status                                     0.001460\n",
      "loan_amnt                                       0.001460\n",
      "installment                                     0.001460\n",
      "int_rate                                        0.001460\n",
      "debt_settlement_flag                            0.001460\n",
      "verification_status                             0.001460\n",
      "grade                                           0.001460\n",
      "term                                            0.001460\n",
      "disbursement_method                             0.001460\n",
      "home_ownership                                  0.001460\n",
      "funded_amnt_inv                                 0.001460\n",
      "application_type                                0.001460\n",
      "hardship_flag                                   0.001460\n",
      "addr_state                                      0.001460\n",
      "last_fico_range_low                             0.001460\n",
      "last_fico_range_high                            0.001460\n",
      "last_pymnt_amnt                                 0.001460\n",
      "collection_recovery_fee                         0.001460\n",
      "recoveries                                      0.001460\n",
      "total_rec_late_fee                              0.001460\n",
      "total_rec_int                                   0.001460\n",
      "total_rec_prncp                                 0.001460\n",
      "total_pymnt_inv                                 0.001460\n",
      "total_pymnt                                     0.001460\n",
      "out_prncp_inv                                   0.001460\n",
      "out_prncp                                       0.001460\n",
      "initial_list_status                             0.001460\n",
      "policy_code                                     0.001460\n",
      "revol_bal                                       0.001460\n",
      "fico_range_high                                 0.001460\n",
      "fico_range_low                                  0.001460\n",
      "id                                              0.000000\n"
     ]
    }
   ],
   "source": [
    "print(f\"total entries: {df.shape[0]}\")\n",
    "print(\"\\nCalculating count of missing value:\")\n",
    "print(df.isnull().sum().sort_values(ascending=False).to_string())\n",
    "print(\"\\n\\nRatio of missing value:\")\n",
    "print(((df.isnull().sum() / len(df)) * 100).sort_values(ascending=False).to_string())"
   ]
  },
  {
   "cell_type": "markdown",
   "id": "88943f60-715c-4ce1-bed2-722509585104",
   "metadata": {},
   "source": [
    "### We can see that 'member_id' is always empty. We can drop this feature."
   ]
  },
  {
   "cell_type": "markdown",
   "id": "d62f9be2-ce1a-4ea3-ad7f-078844548f85",
   "metadata": {},
   "source": [
    "### We'll also identify and drop any features with more than 90% missing values. While thresholds like 95% or higher are common, we're using 90% in this case to streamline the dataset and focus on model development."
   ]
  },
  {
   "cell_type": "code",
   "execution_count": 13,
   "id": "8ad30e0c-5eb4-49bd-84d7-566fd547fe1f",
   "metadata": {},
   "outputs": [
    {
     "name": "stdout",
     "output_type": "stream",
     "text": [
      "member_id                                     1.000000\n",
      "orig_projected_additional_accrued_interest    0.996173\n",
      "hardship_type                                 0.995171\n",
      "hardship_last_payment_amount                  0.995171\n",
      "hardship_payoff_balance_amount                0.995171\n",
      "hardship_loan_status                          0.995171\n",
      "hardship_dpd                                  0.995171\n",
      "hardship_length                               0.995171\n",
      "payment_plan_start_date                       0.995171\n",
      "hardship_end_date                             0.995171\n",
      "hardship_start_date                           0.995171\n",
      "hardship_amount                               0.995171\n",
      "deferral_term                                 0.995171\n",
      "hardship_status                               0.995171\n",
      "hardship_reason                               0.995171\n",
      "settlement_term                               0.984852\n",
      "settlement_percentage                         0.984852\n",
      "settlement_amount                             0.984852\n",
      "settlement_date                               0.984852\n",
      "settlement_status                             0.984852\n",
      "debt_settlement_flag_date                     0.984852\n",
      "sec_app_mths_since_last_major_derog           0.984101\n",
      "sec_app_revol_util                            0.953030\n",
      "revol_bal_joint                               0.952218\n",
      "sec_app_collections_12_mths_ex_med            0.952218\n",
      "sec_app_fico_range_low                        0.952218\n",
      "sec_app_chargeoff_within_12_mths              0.952218\n",
      "sec_app_earliest_cr_line                      0.952218\n",
      "sec_app_inq_last_6mths                        0.952218\n",
      "sec_app_mort_acc                              0.952218\n",
      "sec_app_open_acc                              0.952218\n",
      "sec_app_open_act_il                           0.952218\n",
      "sec_app_num_rev_accts                         0.952218\n",
      "sec_app_fico_range_high                       0.952218\n",
      "verification_status_joint                     0.948808\n",
      "dti_joint                                     0.946607\n",
      "annual_inc_joint                              0.946605\n",
      "desc                                          0.944235\n",
      "dtype: float64\n"
     ]
    }
   ],
   "source": [
    "null_ratios = df.isnull().sum() / len(df)\n",
    "high_nulls = null_ratios[null_ratios > 0.90].sort_values(ascending=False)\n",
    "print(high_nulls)"
   ]
  },
  {
   "cell_type": "code",
   "execution_count": 14,
   "id": "27daf68e-1b09-4fa9-bf83-53115eb00668",
   "metadata": {},
   "outputs": [
    {
     "data": {
      "text/plain": [
       "(2260701, 113)"
      ]
     },
     "execution_count": 14,
     "metadata": {},
     "output_type": "execute_result"
    }
   ],
   "source": [
    "df = df.drop(columns=high_nulls.index)\n",
    "df.shape"
   ]
  },
  {
   "cell_type": "markdown",
   "id": "5312a58e-c97b-48ca-a3f0-a3926c2da03c",
   "metadata": {},
   "source": [
    "\n",
    "## We will also drop features that are clearly unavailable at time of loan application.\n",
    "\n",
    "For example:\n",
    "\n",
    "- Post-loan financial features (e.g., total_pymnt, recoveries, out_prncp).\n",
    "\n",
    "- Derived credit behavior post-loan (e.g., num_tl_30dpd)\n",
    "\n",
    "On the other hand, features like mths_since_last_delinq are typically available in a borrower's credit report at the time of application and will be retained.\n",
    "Similarly, delinq_2yrs is preserved, as it reflects historical credit behavior leading up to the loan and does not pose a risk of data leakage—it would have been known during the underwriting process."
   ]
  },
  {
   "cell_type": "code",
   "execution_count": 15,
   "id": "4226fc5b-3152-44bb-af6c-3157fbd0f59f",
   "metadata": {},
   "outputs": [
    {
     "data": {
      "text/plain": [
       "(2260701, 79)"
      ]
     },
     "execution_count": 15,
     "metadata": {},
     "output_type": "execute_result"
    }
   ],
   "source": [
    "leakage_features = [\n",
    "    'last_fico_range_high', 'last_fico_range_low', 'last_pymnt_amnt', 'total_pymnt', 'total_pymnt_inv', \n",
    "    'total_rec_prncp', 'total_rec_int', 'total_rec_late_fee',\n",
    "    'out_prncp', 'out_prncp_inv', 'recoveries', 'collection_recovery_fee',\n",
    "    'policy_code','mths_since_last_major_derog','mths_since_recent_revol_delinq','mths_since_rcnt_il',\n",
    "    'mo_sin_rcnt_rev_tl_op','debt_settlement_flag','last_pymnt_d','next_pymnt_d','last_credit_pull_d',\n",
    "    'open_rv_12m', 'open_rv_24m',\n",
    "    'hardship_flag','funded_amnt_inv','disbursement_method',\n",
    "    'chargeoff_within_12_mths','acc_now_delinq','num_tl_90g_dpd_24m','num_tl_120dpd_2m','num_tl_30dpd','delinq_amnt','num_accts_ever_120_pd','mths_since_last_record'\n",
    "]\n",
    "\n",
    "df = df.drop(columns=leakage_features)\n",
    "df.shape"
   ]
  },
  {
   "cell_type": "code",
   "execution_count": 16,
   "id": "39587898-7401-4ff2-811f-05dd944bf577",
   "metadata": {},
   "outputs": [
    {
     "data": {
      "text/html": [
       "<div>\n",
       "<style scoped>\n",
       "    .dataframe tbody tr th:only-of-type {\n",
       "        vertical-align: middle;\n",
       "    }\n",
       "\n",
       "    .dataframe tbody tr th {\n",
       "        vertical-align: top;\n",
       "    }\n",
       "\n",
       "    .dataframe thead th {\n",
       "        text-align: right;\n",
       "    }\n",
       "</style>\n",
       "<table border=\"1\" class=\"dataframe\">\n",
       "  <thead>\n",
       "    <tr style=\"text-align: right;\">\n",
       "      <th></th>\n",
       "      <th>0</th>\n",
       "      <th>1</th>\n",
       "      <th>2</th>\n",
       "      <th>3</th>\n",
       "      <th>4</th>\n",
       "    </tr>\n",
       "  </thead>\n",
       "  <tbody>\n",
       "    <tr>\n",
       "      <th>id</th>\n",
       "      <td>68407277</td>\n",
       "      <td>68355089</td>\n",
       "      <td>68341763</td>\n",
       "      <td>66310712</td>\n",
       "      <td>68476807</td>\n",
       "    </tr>\n",
       "    <tr>\n",
       "      <th>term</th>\n",
       "      <td>36 months</td>\n",
       "      <td>36 months</td>\n",
       "      <td>60 months</td>\n",
       "      <td>60 months</td>\n",
       "      <td>60 months</td>\n",
       "    </tr>\n",
       "    <tr>\n",
       "      <th>grade</th>\n",
       "      <td>C</td>\n",
       "      <td>C</td>\n",
       "      <td>B</td>\n",
       "      <td>C</td>\n",
       "      <td>F</td>\n",
       "    </tr>\n",
       "    <tr>\n",
       "      <th>sub_grade</th>\n",
       "      <td>C4</td>\n",
       "      <td>C1</td>\n",
       "      <td>B4</td>\n",
       "      <td>C5</td>\n",
       "      <td>F1</td>\n",
       "    </tr>\n",
       "    <tr>\n",
       "      <th>emp_title</th>\n",
       "      <td>leadman</td>\n",
       "      <td>Engineer</td>\n",
       "      <td>truck driver</td>\n",
       "      <td>Information Systems Officer</td>\n",
       "      <td>Contract Specialist</td>\n",
       "    </tr>\n",
       "    <tr>\n",
       "      <th>emp_length</th>\n",
       "      <td>10+ years</td>\n",
       "      <td>10+ years</td>\n",
       "      <td>10+ years</td>\n",
       "      <td>10+ years</td>\n",
       "      <td>3 years</td>\n",
       "    </tr>\n",
       "    <tr>\n",
       "      <th>home_ownership</th>\n",
       "      <td>MORTGAGE</td>\n",
       "      <td>MORTGAGE</td>\n",
       "      <td>MORTGAGE</td>\n",
       "      <td>MORTGAGE</td>\n",
       "      <td>MORTGAGE</td>\n",
       "    </tr>\n",
       "    <tr>\n",
       "      <th>verification_status</th>\n",
       "      <td>Not Verified</td>\n",
       "      <td>Not Verified</td>\n",
       "      <td>Not Verified</td>\n",
       "      <td>Source Verified</td>\n",
       "      <td>Source Verified</td>\n",
       "    </tr>\n",
       "    <tr>\n",
       "      <th>issue_d</th>\n",
       "      <td>Dec-2015</td>\n",
       "      <td>Dec-2015</td>\n",
       "      <td>Dec-2015</td>\n",
       "      <td>Dec-2015</td>\n",
       "      <td>Dec-2015</td>\n",
       "    </tr>\n",
       "    <tr>\n",
       "      <th>loan_status</th>\n",
       "      <td>Fully Paid</td>\n",
       "      <td>Fully Paid</td>\n",
       "      <td>Fully Paid</td>\n",
       "      <td>Current</td>\n",
       "      <td>Fully Paid</td>\n",
       "    </tr>\n",
       "    <tr>\n",
       "      <th>pymnt_plan</th>\n",
       "      <td>n</td>\n",
       "      <td>n</td>\n",
       "      <td>n</td>\n",
       "      <td>n</td>\n",
       "      <td>n</td>\n",
       "    </tr>\n",
       "    <tr>\n",
       "      <th>url</th>\n",
       "      <td>https://lendingclub.com/browse/loanDetail.acti...</td>\n",
       "      <td>https://lendingclub.com/browse/loanDetail.acti...</td>\n",
       "      <td>https://lendingclub.com/browse/loanDetail.acti...</td>\n",
       "      <td>https://lendingclub.com/browse/loanDetail.acti...</td>\n",
       "      <td>https://lendingclub.com/browse/loanDetail.acti...</td>\n",
       "    </tr>\n",
       "    <tr>\n",
       "      <th>purpose</th>\n",
       "      <td>debt_consolidation</td>\n",
       "      <td>small_business</td>\n",
       "      <td>home_improvement</td>\n",
       "      <td>debt_consolidation</td>\n",
       "      <td>major_purchase</td>\n",
       "    </tr>\n",
       "    <tr>\n",
       "      <th>title</th>\n",
       "      <td>Debt consolidation</td>\n",
       "      <td>Business</td>\n",
       "      <td>NaN</td>\n",
       "      <td>Debt consolidation</td>\n",
       "      <td>Major purchase</td>\n",
       "    </tr>\n",
       "    <tr>\n",
       "      <th>zip_code</th>\n",
       "      <td>190xx</td>\n",
       "      <td>577xx</td>\n",
       "      <td>605xx</td>\n",
       "      <td>076xx</td>\n",
       "      <td>174xx</td>\n",
       "    </tr>\n",
       "    <tr>\n",
       "      <th>addr_state</th>\n",
       "      <td>PA</td>\n",
       "      <td>SD</td>\n",
       "      <td>IL</td>\n",
       "      <td>NJ</td>\n",
       "      <td>PA</td>\n",
       "    </tr>\n",
       "    <tr>\n",
       "      <th>earliest_cr_line</th>\n",
       "      <td>Aug-2003</td>\n",
       "      <td>Dec-1999</td>\n",
       "      <td>Aug-2000</td>\n",
       "      <td>Sep-2008</td>\n",
       "      <td>Jun-1998</td>\n",
       "    </tr>\n",
       "    <tr>\n",
       "      <th>initial_list_status</th>\n",
       "      <td>w</td>\n",
       "      <td>w</td>\n",
       "      <td>w</td>\n",
       "      <td>w</td>\n",
       "      <td>w</td>\n",
       "    </tr>\n",
       "    <tr>\n",
       "      <th>application_type</th>\n",
       "      <td>Individual</td>\n",
       "      <td>Individual</td>\n",
       "      <td>Joint App</td>\n",
       "      <td>Individual</td>\n",
       "      <td>Individual</td>\n",
       "    </tr>\n",
       "  </tbody>\n",
       "</table>\n",
       "</div>"
      ],
      "text/plain": [
       "                                                                     0  \\\n",
       "id                                                            68407277   \n",
       "term                                                         36 months   \n",
       "grade                                                                C   \n",
       "sub_grade                                                           C4   \n",
       "emp_title                                                      leadman   \n",
       "emp_length                                                   10+ years   \n",
       "home_ownership                                                MORTGAGE   \n",
       "verification_status                                       Not Verified   \n",
       "issue_d                                                       Dec-2015   \n",
       "loan_status                                                 Fully Paid   \n",
       "pymnt_plan                                                           n   \n",
       "url                  https://lendingclub.com/browse/loanDetail.acti...   \n",
       "purpose                                             debt_consolidation   \n",
       "title                                               Debt consolidation   \n",
       "zip_code                                                         190xx   \n",
       "addr_state                                                          PA   \n",
       "earliest_cr_line                                              Aug-2003   \n",
       "initial_list_status                                                  w   \n",
       "application_type                                            Individual   \n",
       "\n",
       "                                                                     1  \\\n",
       "id                                                            68355089   \n",
       "term                                                         36 months   \n",
       "grade                                                                C   \n",
       "sub_grade                                                           C1   \n",
       "emp_title                                                     Engineer   \n",
       "emp_length                                                   10+ years   \n",
       "home_ownership                                                MORTGAGE   \n",
       "verification_status                                       Not Verified   \n",
       "issue_d                                                       Dec-2015   \n",
       "loan_status                                                 Fully Paid   \n",
       "pymnt_plan                                                           n   \n",
       "url                  https://lendingclub.com/browse/loanDetail.acti...   \n",
       "purpose                                                 small_business   \n",
       "title                                                         Business   \n",
       "zip_code                                                         577xx   \n",
       "addr_state                                                          SD   \n",
       "earliest_cr_line                                              Dec-1999   \n",
       "initial_list_status                                                  w   \n",
       "application_type                                            Individual   \n",
       "\n",
       "                                                                     2  \\\n",
       "id                                                            68341763   \n",
       "term                                                         60 months   \n",
       "grade                                                                B   \n",
       "sub_grade                                                           B4   \n",
       "emp_title                                                 truck driver   \n",
       "emp_length                                                   10+ years   \n",
       "home_ownership                                                MORTGAGE   \n",
       "verification_status                                       Not Verified   \n",
       "issue_d                                                       Dec-2015   \n",
       "loan_status                                                 Fully Paid   \n",
       "pymnt_plan                                                           n   \n",
       "url                  https://lendingclub.com/browse/loanDetail.acti...   \n",
       "purpose                                               home_improvement   \n",
       "title                                                              NaN   \n",
       "zip_code                                                         605xx   \n",
       "addr_state                                                          IL   \n",
       "earliest_cr_line                                              Aug-2000   \n",
       "initial_list_status                                                  w   \n",
       "application_type                                             Joint App   \n",
       "\n",
       "                                                                     3  \\\n",
       "id                                                            66310712   \n",
       "term                                                         60 months   \n",
       "grade                                                                C   \n",
       "sub_grade                                                           C5   \n",
       "emp_title                                  Information Systems Officer   \n",
       "emp_length                                                   10+ years   \n",
       "home_ownership                                                MORTGAGE   \n",
       "verification_status                                    Source Verified   \n",
       "issue_d                                                       Dec-2015   \n",
       "loan_status                                                    Current   \n",
       "pymnt_plan                                                           n   \n",
       "url                  https://lendingclub.com/browse/loanDetail.acti...   \n",
       "purpose                                             debt_consolidation   \n",
       "title                                               Debt consolidation   \n",
       "zip_code                                                         076xx   \n",
       "addr_state                                                          NJ   \n",
       "earliest_cr_line                                              Sep-2008   \n",
       "initial_list_status                                                  w   \n",
       "application_type                                            Individual   \n",
       "\n",
       "                                                                     4  \n",
       "id                                                            68476807  \n",
       "term                                                         60 months  \n",
       "grade                                                                F  \n",
       "sub_grade                                                           F1  \n",
       "emp_title                                          Contract Specialist  \n",
       "emp_length                                                     3 years  \n",
       "home_ownership                                                MORTGAGE  \n",
       "verification_status                                    Source Verified  \n",
       "issue_d                                                       Dec-2015  \n",
       "loan_status                                                 Fully Paid  \n",
       "pymnt_plan                                                           n  \n",
       "url                  https://lendingclub.com/browse/loanDetail.acti...  \n",
       "purpose                                                 major_purchase  \n",
       "title                                                   Major purchase  \n",
       "zip_code                                                         174xx  \n",
       "addr_state                                                          PA  \n",
       "earliest_cr_line                                              Jun-1998  \n",
       "initial_list_status                                                  w  \n",
       "application_type                                            Individual  "
      ]
     },
     "execution_count": 16,
     "metadata": {},
     "output_type": "execute_result"
    }
   ],
   "source": [
    "df.select_dtypes(exclude=['number']).head().transpose()"
   ]
  },
  {
   "cell_type": "code",
   "execution_count": 17,
   "id": "e5f1811e-d907-4bb4-bbc1-5ae647abc90a",
   "metadata": {},
   "outputs": [
    {
     "data": {
      "text/plain": [
       "array(['C', 'B', 'F', 'A', 'E', 'D', 'G', nan], dtype=object)"
      ]
     },
     "execution_count": 17,
     "metadata": {},
     "output_type": "execute_result"
    }
   ],
   "source": [
    "df['grade'].unique()"
   ]
  },
  {
   "cell_type": "code",
   "execution_count": 18,
   "id": "f008f37e-33ab-4f73-ad6d-997e1d656a12",
   "metadata": {},
   "outputs": [
    {
     "data": {
      "text/plain": [
       "array(['C4', 'C1', 'B4', 'C5', 'F1', 'C3', 'B2', 'B1', 'A2', 'B5', 'C2',\n",
       "       'E2', 'A4', 'E3', 'A1', 'D4', 'F3', 'D1', 'B3', 'E4', 'D3', 'D2',\n",
       "       'D5', 'A5', 'F2', 'E1', 'F5', 'E5', 'A3', 'G2', 'G1', 'G3', 'G4',\n",
       "       'F4', 'G5', nan], dtype=object)"
      ]
     },
     "execution_count": 18,
     "metadata": {},
     "output_type": "execute_result"
    }
   ],
   "source": [
    "df['sub_grade'].unique()"
   ]
  },
  {
   "cell_type": "code",
   "execution_count": 19,
   "id": "8c442fb8",
   "metadata": {},
   "outputs": [
    {
     "data": {
      "text/plain": [
       "array(['debt_consolidation', 'small_business', 'home_improvement',\n",
       "       'major_purchase', 'credit_card', 'other', 'house', 'vacation',\n",
       "       'car', 'medical', 'moving', 'renewable_energy', 'wedding',\n",
       "       'educational', nan], dtype=object)"
      ]
     },
     "execution_count": 19,
     "metadata": {},
     "output_type": "execute_result"
    }
   ],
   "source": [
    "df['purpose'].unique()"
   ]
  },
  {
   "cell_type": "code",
   "execution_count": 20,
   "id": "317713e5",
   "metadata": {},
   "outputs": [
    {
     "data": {
      "text/plain": [
       "array(['Debt consolidation', 'Business', nan, ..., 'takeitaway',\n",
       "       'Creditt Card Loan', 'debt reduction/hone updates'], dtype=object)"
      ]
     },
     "execution_count": 20,
     "metadata": {},
     "output_type": "execute_result"
    }
   ],
   "source": [
    "df['title'].unique()"
   ]
  },
  {
   "cell_type": "code",
   "execution_count": 21,
   "id": "204ff673-2634-4613-be16-8f0c1c7aaf1e",
   "metadata": {},
   "outputs": [
    {
     "data": {
      "text/plain": [
       "id                     2260701\n",
       "term                         2\n",
       "grade                        7\n",
       "sub_grade                   35\n",
       "emp_title               512694\n",
       "emp_length                  11\n",
       "home_ownership               6\n",
       "verification_status          3\n",
       "issue_d                    139\n",
       "loan_status                  9\n",
       "pymnt_plan                   2\n",
       "url                    2260668\n",
       "purpose                     14\n",
       "title                    63155\n",
       "zip_code                   956\n",
       "addr_state                  51\n",
       "earliest_cr_line           754\n",
       "initial_list_status          2\n",
       "application_type             2\n",
       "dtype: int64"
      ]
     },
     "execution_count": 21,
     "metadata": {},
     "output_type": "execute_result"
    }
   ],
   "source": [
    "#If we print the number of unique values for the string features, we can have a glance at which features have high cardinality:\n",
    "df.select_dtypes(include=['object', 'category']).nunique()"
   ]
  },
  {
   "cell_type": "markdown",
   "id": "d8f28f24-64c9-4c3f-a0bd-2a18095c421e",
   "metadata": {},
   "source": [
    "We will drop the following columns for the below reasons.\n",
    "\n",
    "'id': it is unique for each row and will not be useful.\n",
    "\n",
    "url: Drop. Purely administrative, not useful.\n",
    "\n",
    "(Redundant columns) 'title' is user-generated and messy; 'purpose' is standardized and easier to model.\n",
    "'grade' can be dropped because the sub_grade already shows the grade.\n",
    "\n",
    "emp_title: High cardinality + messy text = hard to use directly.\n",
    "\n",
    "zip_code:\n",
    "While it might be possible to extract the first 3 digits or map to external income data, adds unnecessary complexity.\n",
    "\n",
    "pymnt_plan: As it's almost always one value, drop."
   ]
  },
  {
   "cell_type": "code",
   "execution_count": 22,
   "id": "10de0522-5dfa-4945-ad27-246026620c32",
   "metadata": {},
   "outputs": [
    {
     "data": {
      "text/plain": [
       "(2260701, 72)"
      ]
     },
     "execution_count": 22,
     "metadata": {},
     "output_type": "execute_result"
    }
   ],
   "source": [
    "df = df.drop(columns=['id', 'title','grade','url','emp_title','zip_code','pymnt_plan'])\n",
    "df.shape"
   ]
  },
  {
   "cell_type": "code",
   "execution_count": 23,
   "id": "9784a580-eabb-438d-9daa-9ecd54c782bc",
   "metadata": {},
   "outputs": [
    {
     "data": {
      "text/plain": [
       "10+ years    748005\n",
       "2 years      203677\n",
       "< 1 year     189988\n",
       "3 years      180753\n",
       "1 year       148403\n",
       "NaN          146940\n",
       "5 years      139698\n",
       "4 years      136605\n",
       "6 years      102628\n",
       "7 years       92695\n",
       "8 years       91914\n",
       "9 years       79395\n",
       "Name: emp_length, dtype: int64"
      ]
     },
     "execution_count": 23,
     "metadata": {},
     "output_type": "execute_result"
    }
   ],
   "source": [
    "df['emp_length'].value_counts(dropna=False)"
   ]
  },
  {
   "cell_type": "markdown",
   "id": "02adc145-fb51-44c8-a6aa-27ac0346c02d",
   "metadata": {},
   "source": [
    "# Let's verify the relationship between employment length and 'Charged Off' rate."
   ]
  },
  {
   "cell_type": "code",
   "execution_count": 24,
   "id": "d61fdc18-5df3-4a34-a7b3-f28801b9f5be",
   "metadata": {},
   "outputs": [],
   "source": [
    "emp_co = df[df['loan_status']=='Charged Off'].groupby(\"emp_length\").count()['loan_status']"
   ]
  },
  {
   "cell_type": "code",
   "execution_count": 25,
   "id": "f23b6bc9-94e5-4813-a226-b5d66040c584",
   "metadata": {},
   "outputs": [],
   "source": [
    "emp_fp = df[df['loan_status']=='Fully Paid'].groupby(\"emp_length\").count()['loan_status']"
   ]
  },
  {
   "cell_type": "code",
   "execution_count": 26,
   "id": "c345cd2b-ea2f-4100-b190-1232e996ea76",
   "metadata": {},
   "outputs": [
    {
     "data": {
      "text/plain": [
       "emp_length\n",
       "1 year       0.205641\n",
       "10+ years    0.187827\n",
       "2 years      0.198073\n",
       "3 years      0.199690\n",
       "4 years      0.197378\n",
       "5 years      0.196010\n",
       "6 years      0.193519\n",
       "7 years      0.194888\n",
       "8 years      0.199338\n",
       "9 years      0.199011\n",
       "< 1 year     0.205273\n",
       "Name: loan_status, dtype: float64"
      ]
     },
     "execution_count": 26,
     "metadata": {},
     "output_type": "execute_result"
    }
   ],
   "source": [
    "emp_co/(emp_co+emp_fp)"
   ]
  },
  {
   "cell_type": "code",
   "execution_count": 27,
   "id": "e8b4b0b1-fb92-4813-bfd8-9e168a0736e1",
   "metadata": {},
   "outputs": [],
   "source": [
    "emp_map = {\n",
    "    '< 1 year': 0,\n",
    "    '1 year': 1,\n",
    "    '2 years': 2,\n",
    "    '3 years': 3,\n",
    "    '4 years': 4,\n",
    "    '5 years': 5,\n",
    "    '6 years': 6,\n",
    "    '7 years': 7,\n",
    "    '8 years': 8,\n",
    "    '9 years': 9,\n",
    "    '10+ years': 10\n",
    "}\n",
    "df['emp_length'] = df['emp_length'].map(emp_map)"
   ]
  },
  {
   "cell_type": "code",
   "execution_count": 28,
   "id": "22a220a0-ff10-4dfd-9be5-35fe2f652705",
   "metadata": {},
   "outputs": [
    {
     "data": {
      "text/plain": [
       "10.0    748005\n",
       "6.0     249568\n",
       "2.0     203677\n",
       "0.0     189988\n",
       "3.0     180753\n",
       "1.0     148403\n",
       "5.0     139698\n",
       "4.0     136605\n",
       "7.0      92695\n",
       "8.0      91914\n",
       "9.0      79395\n",
       "Name: emp_length, dtype: int64"
      ]
     },
     "execution_count": 28,
     "metadata": {},
     "output_type": "execute_result"
    }
   ],
   "source": [
    "median_emp = df['emp_length'].median()\n",
    "df['emp_length'] = df['emp_length'].fillna(median_emp)\n",
    "df['emp_length'].value_counts(dropna=False)"
   ]
  },
  {
   "cell_type": "code",
   "execution_count": 29,
   "id": "cf8f1a2e-9ce2-48bb-b065-472bb0622e6a",
   "metadata": {},
   "outputs": [
    {
     "data": {
      "text/plain": [
       " 36 months    1609754\n",
       " 60 months     650914\n",
       "NaN                33\n",
       "Name: term, dtype: int64"
      ]
     },
     "execution_count": 29,
     "metadata": {},
     "output_type": "execute_result"
    }
   ],
   "source": [
    "df['term'].value_counts(dropna=False)"
   ]
  },
  {
   "cell_type": "code",
   "execution_count": 30,
   "id": "499a0368-980c-4dfd-8f2f-6824dea04a85",
   "metadata": {},
   "outputs": [
    {
     "data": {
      "text/plain": [
       " 36 months    1609787\n",
       " 60 months     650914\n",
       "Name: term, dtype: int64"
      ]
     },
     "execution_count": 30,
     "metadata": {},
     "output_type": "execute_result"
    }
   ],
   "source": [
    "# Replace the 33 NaNs with the most common value.\n",
    "df['term'] = df['term'].fillna(df['term'].mode()[0])\n",
    "df['term'].value_counts(dropna=False)"
   ]
  },
  {
   "cell_type": "code",
   "execution_count": 31,
   "id": "584d4552-eb55-48e8-9c22-e99751520dc8",
   "metadata": {},
   "outputs": [
    {
     "data": {
      "text/plain": [
       "0          36\n",
       "1          36\n",
       "2          60\n",
       "3          60\n",
       "4          60\n",
       "           ..\n",
       "2260696    60\n",
       "2260697    60\n",
       "2260698    60\n",
       "2260699    36\n",
       "2260700    36\n",
       "Name: term, Length: 2260701, dtype: int64"
      ]
     },
     "execution_count": 31,
     "metadata": {},
     "output_type": "execute_result"
    }
   ],
   "source": [
    "df['term'] = df['term'].str.extract('(\\d+)')  # Extract digits only\n",
    "df['term'] = pd.to_numeric(df['term'])\n",
    "df['term']"
   ]
  },
  {
   "cell_type": "code",
   "execution_count": 32,
   "id": "11e4ea8a-45ed-41f5-82f7-d65327063d22",
   "metadata": {},
   "outputs": [
    {
     "data": {
      "text/plain": [
       "C1     145903\n",
       "B5     140288\n",
       "B4     139793\n",
       "B3     131514\n",
       "C2     131116\n",
       "C3     129193\n",
       "C4     127115\n",
       "B2     126621\n",
       "B1     125341\n",
       "C5     116726\n",
       "A5     107617\n",
       "A4      95874\n",
       "A1      86790\n",
       "D1      81787\n",
       "A3      73184\n",
       "D2      72899\n",
       "A2      69562\n",
       "D3      64819\n",
       "D4      56896\n",
       "D5      48023\n",
       "E1      33573\n",
       "E2      29924\n",
       "E3      26708\n",
       "E4      22763\n",
       "E5      22671\n",
       "F1      13413\n",
       "F2       9305\n",
       "F3       7791\n",
       "F4       6124\n",
       "F5       5167\n",
       "G1       4106\n",
       "G2       2688\n",
       "G3       2094\n",
       "G4       1712\n",
       "G5       1568\n",
       "NaN        33\n",
       "Name: sub_grade, dtype: int64"
      ]
     },
     "execution_count": 32,
     "metadata": {},
     "output_type": "execute_result"
    }
   ],
   "source": [
    "df['sub_grade'].value_counts(dropna=False)"
   ]
  },
  {
   "cell_type": "code",
   "execution_count": 33,
   "id": "9b91620c-f33c-4b79-b418-7b0afdef5fe7",
   "metadata": {},
   "outputs": [],
   "source": [
    "df = df.dropna(subset=['sub_grade'])"
   ]
  },
  {
   "cell_type": "code",
   "execution_count": 34,
   "id": "07f757e9-8c4e-44bb-adc7-6f3b2a2b7b03",
   "metadata": {},
   "outputs": [
    {
     "data": {
      "text/plain": [
       "Fully Paid                                             1076751\n",
       "Current                                                 878317\n",
       "Charged Off                                             268559\n",
       "Late (31-120 days)                                       21467\n",
       "In Grace Period                                           8436\n",
       "Late (16-30 days)                                         4349\n",
       "Does not meet the credit policy. Status:Fully Paid        1988\n",
       "Does not meet the credit policy. Status:Charged Off        761\n",
       "Default                                                     40\n",
       "Name: loan_status, dtype: int64"
      ]
     },
     "execution_count": 34,
     "metadata": {},
     "output_type": "execute_result"
    }
   ],
   "source": [
    "df['loan_status'].value_counts(dropna=False)"
   ]
  },
  {
   "cell_type": "markdown",
   "id": "01f658a4-1797-4c4c-90cb-62530636bf29",
   "metadata": {},
   "source": [
    "We will simplify these categories into Good customers and Bad customers. For example, Late (16-30 days) is already in default territory. So we will make a conservative classification as Bad (Charged Off). The status 'Current' takes up a notable percentage of the dataset, however it does not provide useful information, as we don't know if they were able to pay. Hence we will drop these."
   ]
  },
  {
   "cell_type": "code",
   "execution_count": 35,
   "id": "3f307bd3-0a7a-4d19-9449-ae3253e7f35e",
   "metadata": {},
   "outputs": [],
   "source": [
    "def map_loan_status(status):\n",
    "    if status in [\"Fully Paid\", \"Does not meet the credit policy. Status:Fully Paid\"]:\n",
    "        return \"Fully Paid\"\n",
    "    elif status in [\"Charged Off\", \"Late (31-120 days)\", \"Late (16-30 days)\", \n",
    "                    \"Default\", \"Does not meet the credit policy. Status:Charged Off\"]:\n",
    "        return \"Charged Off\"\n",
    "    else:\n",
    "        return None  # for 'Current', 'In Grace Period'"
   ]
  },
  {
   "cell_type": "code",
   "execution_count": 36,
   "id": "53fa6361-bcd0-41bf-a4a2-a8fe69092d58",
   "metadata": {},
   "outputs": [],
   "source": [
    "df[\"loan_status\"] = df[\"loan_status\"].apply(map_loan_status)"
   ]
  },
  {
   "cell_type": "code",
   "execution_count": 37,
   "id": "7b8cbee5-fedc-47af-8e0b-ffbd5f0e4d75",
   "metadata": {},
   "outputs": [],
   "source": [
    "# Drop rows where loan_repaid is None\n",
    "df = df[df[\"loan_status\"].notnull()]"
   ]
  },
  {
   "cell_type": "code",
   "execution_count": 38,
   "id": "0f2ff690-8a29-4bb1-a5e3-4c6952dbe2a1",
   "metadata": {},
   "outputs": [
    {
     "data": {
      "text/plain": [
       "([0, 1], [Text(0, 0, 'Fully Paid'), Text(1, 0, 'Charged Off')])"
      ]
     },
     "execution_count": 38,
     "metadata": {},
     "output_type": "execute_result"
    },
    {
     "data": {
      "image/png": "[encoded data removed]",
      "text/plain": [
       "<Figure size 1200x600 with 1 Axes>"
      ]
     },
     "metadata": {},
     "output_type": "display_data"
    }
   ],
   "source": [
    "plt.figure(figsize=(12, 6))\n",
    "sns.countplot(x='loan_status', data=df)\n",
    "plt.xticks(rotation=90)"
   ]
  },
  {
   "cell_type": "markdown",
   "id": "8ff5de55-e42a-4f43-ad38-f11eb5915d29",
   "metadata": {},
   "source": [
    "We see above that 'Fully Paid' far exceeds 'Charged Off', indicating an uneven dataset.\n",
    "\n",
    "Let's also verify if the grades are related to a customer's default rate:"
   ]
  },
  {
   "cell_type": "code",
   "execution_count": 39,
   "id": "eb9627c7-3ca7-4cb7-9f23-931400cd02dd",
   "metadata": {},
   "outputs": [
    {
     "data": {
      "image/png": "[encoded data removed]",
      "text/plain": [
       "<Figure size 1400x600 with 1 Axes>"
      ]
     },
     "metadata": {},
     "output_type": "display_data"
    }
   ],
   "source": [
    "plt.figure(figsize=(14, 6))\n",
    "sns.countplot(data=df, x='sub_grade', hue='loan_status', order=sorted(df['sub_grade'].unique()))\n",
    "\n",
    "plt.title('Loan Status Count by Sub Grade')\n",
    "plt.xlabel('Sub Grade')\n",
    "plt.ylabel('Count')\n",
    "plt.xticks(rotation=45)\n",
    "plt.tight_layout()\n",
    "plt.show()"
   ]
  },
  {
   "cell_type": "code",
   "execution_count": 40,
   "id": "cf8dd2a8-7457-48e5-ac71-ffd0ebf7008e",
   "metadata": {},
   "outputs": [
    {
     "data": {
      "text/html": [
       "<div>\n",
       "<style scoped>\n",
       "    .dataframe tbody tr th:only-of-type {\n",
       "        vertical-align: middle;\n",
       "    }\n",
       "\n",
       "    .dataframe tbody tr th {\n",
       "        vertical-align: top;\n",
       "    }\n",
       "\n",
       "    .dataframe thead th {\n",
       "        text-align: right;\n",
       "    }\n",
       "</style>\n",
       "<table border=\"1\" class=\"dataframe\">\n",
       "  <thead>\n",
       "    <tr style=\"text-align: right;\">\n",
       "      <th></th>\n",
       "      <th>loan_repaid</th>\n",
       "      <th>loan_status</th>\n",
       "    </tr>\n",
       "  </thead>\n",
       "  <tbody>\n",
       "    <tr>\n",
       "      <th>0</th>\n",
       "      <td>1</td>\n",
       "      <td>Fully Paid</td>\n",
       "    </tr>\n",
       "    <tr>\n",
       "      <th>1</th>\n",
       "      <td>1</td>\n",
       "      <td>Fully Paid</td>\n",
       "    </tr>\n",
       "    <tr>\n",
       "      <th>2</th>\n",
       "      <td>1</td>\n",
       "      <td>Fully Paid</td>\n",
       "    </tr>\n",
       "    <tr>\n",
       "      <th>4</th>\n",
       "      <td>1</td>\n",
       "      <td>Fully Paid</td>\n",
       "    </tr>\n",
       "    <tr>\n",
       "      <th>5</th>\n",
       "      <td>1</td>\n",
       "      <td>Fully Paid</td>\n",
       "    </tr>\n",
       "    <tr>\n",
       "      <th>...</th>\n",
       "      <td>...</td>\n",
       "      <td>...</td>\n",
       "    </tr>\n",
       "    <tr>\n",
       "      <th>2260688</th>\n",
       "      <td>1</td>\n",
       "      <td>Fully Paid</td>\n",
       "    </tr>\n",
       "    <tr>\n",
       "      <th>2260690</th>\n",
       "      <td>1</td>\n",
       "      <td>Fully Paid</td>\n",
       "    </tr>\n",
       "    <tr>\n",
       "      <th>2260691</th>\n",
       "      <td>0</td>\n",
       "      <td>Charged Off</td>\n",
       "    </tr>\n",
       "    <tr>\n",
       "      <th>2260692</th>\n",
       "      <td>1</td>\n",
       "      <td>Fully Paid</td>\n",
       "    </tr>\n",
       "    <tr>\n",
       "      <th>2260697</th>\n",
       "      <td>0</td>\n",
       "      <td>Charged Off</td>\n",
       "    </tr>\n",
       "  </tbody>\n",
       "</table>\n",
       "<p>1373915 rows × 2 columns</p>\n",
       "</div>"
      ],
      "text/plain": [
       "         loan_repaid  loan_status\n",
       "0                  1   Fully Paid\n",
       "1                  1   Fully Paid\n",
       "2                  1   Fully Paid\n",
       "4                  1   Fully Paid\n",
       "5                  1   Fully Paid\n",
       "...              ...          ...\n",
       "2260688            1   Fully Paid\n",
       "2260690            1   Fully Paid\n",
       "2260691            0  Charged Off\n",
       "2260692            1   Fully Paid\n",
       "2260697            0  Charged Off\n",
       "\n",
       "[1373915 rows x 2 columns]"
      ]
     },
     "execution_count": 40,
     "metadata": {},
     "output_type": "execute_result"
    }
   ],
   "source": [
    "df['loan_repaid'] = df['loan_status'].map({'Fully Paid':1, 'Charged Off':0})\n",
    "df[['loan_repaid', 'loan_status']]"
   ]
  },
  {
   "cell_type": "code",
   "execution_count": 41,
   "id": "d146836b-39fe-4718-b98d-c77e9c295b49",
   "metadata": {},
   "outputs": [],
   "source": [
    "df['earliest_cr_line'] = pd.to_datetime(df['earliest_cr_line'], format='%b-%Y', errors='coerce')\n",
    "df['issue_d'] = pd.to_datetime(df['issue_d'], format='%b-%Y', errors='coerce')  # when loan was issued\n",
    "\n",
    "# Compute credit history length in years\n",
    "df['credit_history_years'] = (df['issue_d'] - df['earliest_cr_line']).dt.days / 365\n",
    "\n",
    "df.drop(['earliest_cr_line', 'issue_d'], axis=1, inplace=True)"
   ]
  },
  {
   "cell_type": "code",
   "execution_count": 42,
   "id": "6eef30e6-ee90-4300-830f-a68da30a6b8c",
   "metadata": {},
   "outputs": [
    {
     "name": "stdout",
     "output_type": "stream",
     "text": [
      "                   Feature  Correlation with loan_repaid\n",
      "               loan_repaid                      1.000000\n",
      "            fico_range_low                      0.129188\n",
      "           fico_range_high                      0.129186\n",
      "                  mort_acc                      0.080139\n",
      "            bc_open_to_buy                      0.078908\n",
      "               avg_cur_bal                      0.078310\n",
      "           tot_hi_cred_lim                      0.077608\n",
      "               tot_cur_bal                      0.070672\n",
      "            total_bc_limit                      0.070661\n",
      "     mths_since_recent_inq                      0.055929\n",
      "            mo_sin_rcnt_tl                      0.053520\n",
      "      mo_sin_old_rev_tl_op                      0.052391\n",
      "          total_rev_hi_lim                      0.052181\n",
      "      mths_since_recent_bc                      0.051134\n",
      "                annual_inc                      0.039071\n",
      "                max_bal_bc                      0.038770\n",
      "      credit_history_years                      0.033609\n",
      "        mo_sin_old_il_acct                      0.027911\n",
      "                 num_bc_tl                      0.023442\n",
      "                 revol_bal                      0.020725\n",
      "                 total_acc                      0.016556\n",
      "               total_cu_tl                      0.016245\n",
      "                emp_length                      0.015609\n",
      "            pct_tl_nvr_dlq                      0.014573\n",
      "  mths_since_recent_bc_dlq                      0.013783\n",
      "    mths_since_last_delinq                      0.013438\n",
      "             num_rev_accts                      0.010818\n",
      "         total_bal_ex_mort                      0.002165\n",
      "              total_bal_il                      0.002026\n",
      "              tot_coll_amt                      0.000482\n",
      "total_il_high_credit_limit                     -0.001483\n",
      "                 num_il_tl                     -0.004791\n",
      "               open_act_il                     -0.005321\n",
      "                 tax_liens                     -0.010247\n",
      "               num_bc_sats                     -0.014645\n",
      "collections_12_mths_ex_med                     -0.017173\n",
      "               delinq_2yrs                     -0.020347\n",
      "                  num_sats                     -0.025043\n",
      "      pub_rec_bankruptcies                     -0.025750\n",
      "                   pub_rec                     -0.026086\n",
      "                  open_acc                     -0.026775\n",
      "             num_op_rev_tl                     -0.031303\n",
      "               open_il_24m                     -0.032740\n",
      "               open_il_12m                     -0.035298\n",
      "                    inq_fi                     -0.040476\n",
      "            num_actv_bc_tl                     -0.040996\n",
      "                   il_util                     -0.041244\n",
      "                revol_util                     -0.054068\n",
      "               open_acc_6m                     -0.054722\n",
      "              inq_last_12m                     -0.056600\n",
      "               installment                     -0.057873\n",
      "                   bc_util                     -0.059209\n",
      "          percent_bc_gt_75                     -0.060528\n",
      "            inq_last_6mths                     -0.061624\n",
      "       num_rev_tl_bal_gt_0                     -0.067071\n",
      "           num_actv_rev_tl                     -0.068844\n",
      "                 loan_amnt                     -0.072908\n",
      "               funded_amnt                     -0.072978\n",
      "                  all_util                     -0.083816\n",
      "        num_tl_op_past_12m                     -0.084731\n",
      "                       dti                     -0.084895\n",
      "      acc_open_past_24mths                     -0.099427\n",
      "                      term                     -0.181923\n",
      "                  int_rate                     -0.263577\n"
     ]
    }
   ],
   "source": [
    "correlations = df.select_dtypes(include=['number']).corr()['loan_repaid'].sort_values(ascending=False)\n",
    "\n",
    "# Convert to DataFrame for printing output\n",
    "correlations_df = correlations.reset_index()\n",
    "correlations_df.columns = ['Feature', 'Correlation with loan_repaid']\n",
    "print(correlations_df.to_string(index=False))"
   ]
  },
  {
   "cell_type": "markdown",
   "id": "55440a1a-6fb6-4c58-9eca-71e3244fb087",
   "metadata": {},
   "source": [
    "1. To streamline the model and reduce noise, I evaluated the correlation of each numerical feature with the target variable loan_repaid. \n",
    "\n",
    "- A few in the 0.07 – 0.09 range that seem potentially useful (mort_acc, avg_cur_bal, etc.)\n",
    "- A long tail of features between 0.01 – 0.06, which is borderline \n",
    "\n",
    "2. Of these features, 'emp_length' and 'total_acc' or total accounts may be useful. We will keep these for now."
   ]
  },
  {
   "cell_type": "code",
   "execution_count": 43,
   "id": "9878c634-9f87-4b49-b1fd-d0a2c5048439",
   "metadata": {},
   "outputs": [
    {
     "name": "stdout",
     "output_type": "stream",
     "text": [
      "Dropped 22 features with abs(corr) < 0.03\n",
      "['delinq_2yrs', 'mths_since_last_delinq', 'open_acc', 'pub_rec', 'revol_bal', 'collections_12_mths_ex_med', 'tot_coll_amt', 'open_act_il', 'total_bal_il', 'total_cu_tl', 'mo_sin_old_il_acct', 'mths_since_recent_bc_dlq', 'num_bc_sats', 'num_bc_tl', 'num_il_tl', 'num_rev_accts', 'num_sats', 'pct_tl_nvr_dlq', 'pub_rec_bankruptcies', 'tax_liens', 'total_bal_ex_mort', 'total_il_high_credit_limit']\n"
     ]
    },
    {
     "data": {
      "text/plain": [
       "(1373915, 50)"
      ]
     },
     "execution_count": 43,
     "metadata": {},
     "output_type": "execute_result"
    }
   ],
   "source": [
    "# Drop features with very weak absolute correlation (< 0.03)\n",
    "target_corr = df.corr(numeric_only=True)['loan_repaid'].drop(['loan_repaid','total_acc','emp_length'])\n",
    "\n",
    "# Identify low-correlation features\n",
    "low_corr_features = target_corr[abs(target_corr) < 0.03].index.tolist()\n",
    "\n",
    "# Drop them\n",
    "df = df.drop(columns=low_corr_features)\n",
    "\n",
    "print(f\"Dropped {len(low_corr_features)} features with abs(corr) < 0.03\")\n",
    "print(f\"{low_corr_features}\")\n",
    "df.shape"
   ]
  },
  {
   "cell_type": "code",
   "execution_count": 44,
   "id": "978457e5-f8bd-42fe-aef7-51a3d59ed21f",
   "metadata": {},
   "outputs": [
    {
     "name": "stdout",
     "output_type": "stream",
     "text": [
      "total entries: 1373915\n",
      "\n",
      "\n",
      "Ratio of missing value:\n",
      "il_util                  64.672196\n",
      "all_util                 59.133716\n",
      "inq_last_12m             59.129568\n",
      "open_acc_6m              59.129568\n",
      "max_bal_bc               59.129495\n",
      "open_il_24m              59.129495\n",
      "open_il_12m              59.129495\n",
      "inq_fi                   59.129495\n",
      "mths_since_recent_inq    13.026352\n",
      "avg_cur_bal               5.116692\n",
      "mo_sin_old_rev_tl_op      5.115091\n",
      "num_actv_bc_tl            5.115018\n",
      "total_rev_hi_lim          5.115018\n",
      "tot_hi_cred_lim           5.115018\n",
      "num_tl_op_past_12m        5.115018\n",
      "num_rev_tl_bal_gt_0       5.115018\n",
      "tot_cur_bal               5.115018\n",
      "num_actv_rev_tl           5.115018\n",
      "num_op_rev_tl             5.115018\n",
      "mo_sin_rcnt_tl            5.115018\n",
      "bc_util                   4.734063\n",
      "percent_bc_gt_75          4.707133\n",
      "bc_open_to_buy            4.677000\n",
      "mths_since_recent_bc      4.608218\n",
      "acc_open_past_24mths      3.641419\n",
      "mort_acc                  3.641419\n",
      "total_bc_limit            3.641419\n",
      "revol_util                0.067471\n",
      "dti                       0.029332\n",
      "inq_last_6mths            0.002184\n",
      "credit_history_years      0.002111\n",
      "total_acc                 0.002111\n",
      "annual_inc                0.000291\n",
      "funded_amnt               0.000000\n",
      "loan_repaid               0.000000\n",
      "term                      0.000000\n",
      "int_rate                  0.000000\n",
      "installment               0.000000\n",
      "sub_grade                 0.000000\n",
      "emp_length                0.000000\n",
      "home_ownership            0.000000\n",
      "verification_status       0.000000\n",
      "application_type          0.000000\n",
      "loan_status               0.000000\n",
      "purpose                   0.000000\n",
      "addr_state                0.000000\n",
      "fico_range_low            0.000000\n",
      "fico_range_high           0.000000\n",
      "initial_list_status       0.000000\n",
      "loan_amnt                 0.000000\n"
     ]
    }
   ],
   "source": [
    "print(f\"total entries: {df.shape[0]}\")\n",
    "\n",
    "print(\"\\n\\nRatio of missing value:\")\n",
    "print(((df.isnull().sum() / len(df)) * 100).sort_values(ascending=False).to_string())"
   ]
  },
  {
   "cell_type": "code",
   "execution_count": 45,
   "id": "778c381b-d85c-4f0b-a4d2-66e8498c2bae",
   "metadata": {},
   "outputs": [],
   "source": [
    "# List of features with <0.1% missing values\n",
    "low_missing_features = [\n",
    "    'revol_util',\n",
    "    'dti',\n",
    "    'inq_last_6mths',\n",
    "    'total_acc',\n",
    "    'credit_history_years',\n",
    "    'annual_inc'\n",
    "]\n",
    "\n",
    "# Drop rows where any of these features are missing\n",
    "df = df.dropna(subset=low_missing_features)"
   ]
  },
  {
   "cell_type": "code",
   "execution_count": 46,
   "id": "efbcaba7-9995-4e70-920b-fa76198bdaab",
   "metadata": {},
   "outputs": [
    {
     "name": "stdout",
     "output_type": "stream",
     "text": [
      "fico_range_low        fico_range_high          1.000000\n",
      "loan_amnt             funded_amnt              0.999556\n",
      "num_actv_rev_tl       num_rev_tl_bal_gt_0      0.981947\n",
      "tot_cur_bal           tot_hi_cred_lim          0.972983\n",
      "funded_amnt           installment              0.953664\n",
      "loan_amnt             installment              0.953011\n",
      "mo_sin_old_rev_tl_op  credit_history_years     0.917443\n",
      "revol_util            bc_util                  0.855340\n",
      "bc_util               percent_bc_gt_75         0.844759\n",
      "tot_cur_bal           avg_cur_bal              0.838802\n",
      "bc_open_to_buy        total_bc_limit           0.838265\n",
      "num_actv_bc_tl        num_actv_rev_tl          0.807768\n",
      "                      num_rev_tl_bal_gt_0      0.800731\n",
      "avg_cur_bal           tot_hi_cred_lim          0.798118\n",
      "num_op_rev_tl         num_rev_tl_bal_gt_0      0.795270\n",
      "num_actv_rev_tl       num_op_rev_tl            0.790929\n",
      "acc_open_past_24mths  num_tl_op_past_12m       0.758153\n",
      "open_il_12m           open_il_24m              0.753888\n",
      "revol_util            percent_bc_gt_75         0.727155\n",
      "open_acc_6m           num_tl_op_past_12m       0.722913\n",
      "total_rev_hi_lim      total_bc_limit           0.716616\n",
      "revol_util            all_util                 0.661568\n",
      "num_actv_bc_tl        num_op_rev_tl            0.652408\n",
      "all_util              bc_util                  0.596380\n",
      "total_rev_hi_lim      bc_open_to_buy           0.580200\n",
      "open_il_24m           acc_open_past_24mths     0.574252\n",
      "inq_last_6mths        mths_since_recent_inq    0.571397\n",
      "max_bal_bc            total_bc_limit           0.567398\n",
      "inq_fi                inq_last_12m             0.563051\n",
      "open_il_12m           num_tl_op_past_12m       0.561760\n",
      "total_acc             num_op_rev_tl            0.557211\n",
      "open_acc_6m           acc_open_past_24mths     0.551166\n",
      "il_util               all_util                 0.549149\n",
      "bc_open_to_buy        bc_util                  0.544077\n",
      "mort_acc              tot_hi_cred_lim          0.531406\n",
      "tot_cur_bal           mort_acc                 0.530874\n",
      "inq_last_12m          mths_since_recent_inq    0.515351\n",
      "fico_range_high       bc_open_to_buy           0.512300\n",
      "fico_range_low        bc_open_to_buy           0.512298\n",
      "mo_sin_rcnt_tl        num_tl_op_past_12m       0.496555\n"
     ]
    }
   ],
   "source": [
    "# Compute correlation matrix for numerical features\n",
    "corr_matrix = df.select_dtypes(include=['number']).corr().abs()\n",
    "\n",
    "# Mask the upper triangle and diagonal to avoid duplicate and self-pairs\n",
    "mask = np.triu(np.ones_like(corr_matrix, dtype=bool))\n",
    "masked_corr = corr_matrix.mask(mask)\n",
    "\n",
    "# Unstack and sort correlation values\n",
    "sorted_pairs = masked_corr.unstack().dropna().sort_values(ascending=False)\n",
    "\n",
    "# Show top 40 highly correlated feature pairs\n",
    "print(sorted_pairs.head(40).to_string())"
   ]
  },
  {
   "cell_type": "code",
   "execution_count": 47,
   "id": "1df9470b-7721-41d2-8787-8255105ed423",
   "metadata": {},
   "outputs": [],
   "source": [
    "# The features fico_range_low VS fico_range_high have a 100% correlation.\n",
    "# To address multicollinearity and simplify the model, I dropped features with a correlation coefficient above 0.95. (Near-identical input.)\n",
    "# However, we should probably keep loan_amnt and 'installment' since we are dropping 'funded_amt'.\n",
    "df.drop(['fico_range_high','funded_amnt','mo_sin_old_rev_tl_op'], axis=1, inplace=True)"
   ]
  },
  {
   "cell_type": "markdown",
   "id": "2767d1c4-f66d-435a-9ff9-96802ed5b39b",
   "metadata": {},
   "source": [
    "## 'total_acc' and 'mort_acc' has a roughly 37% correlation. Since 'mort_acc' has too many missing values to ignore, we will fill the null values by looking up their total_acc number and taking the average of those."
   ]
  },
  {
   "cell_type": "code",
   "execution_count": 48,
   "id": "61ec7f17-3684-4ade-8c8a-ea21b1469185",
   "metadata": {},
   "outputs": [
    {
     "data": {
      "text/plain": [
       "total_acc\n",
       "1.0           NaN\n",
       "2.0      0.000000\n",
       "3.0      0.035205\n",
       "4.0      0.072554\n",
       "5.0      0.114693\n",
       "           ...   \n",
       "156.0    1.000000\n",
       "162.0    6.000000\n",
       "169.0    2.000000\n",
       "173.0    2.000000\n",
       "176.0    2.000000\n",
       "Name: mort_acc, Length: 144, dtype: float64"
      ]
     },
     "execution_count": 48,
     "metadata": {},
     "output_type": "execute_result"
    }
   ],
   "source": [
    "total_acc_avg = df.groupby('total_acc').mean(numeric_only=True)['mort_acc']\n",
    "total_acc_avg"
   ]
  },
  {
   "cell_type": "code",
   "execution_count": 49,
   "id": "bbd7db11-ba77-4c1b-9bd2-4cebdaf24bcf",
   "metadata": {},
   "outputs": [],
   "source": [
    "def fill_mort_acc(total_acc,mort_acc):\n",
    "    if np.isnan(mort_acc):\n",
    "        return total_acc_avg[total_acc]\n",
    "    else:\n",
    "        return mort_acc"
   ]
  },
  {
   "cell_type": "code",
   "execution_count": 50,
   "id": "464203dd-aa73-44d1-bf17-b6eeb2eff8b2",
   "metadata": {},
   "outputs": [
    {
     "name": "stdout",
     "output_type": "stream",
     "text": [
      "total entries: 1372585\n",
      "\n",
      "Count of missing value:\n",
      "il_util                  887871\n",
      "inq_fi                   811914\n",
      "all_util                 811914\n",
      "max_bal_bc               811914\n",
      "inq_last_12m             811914\n",
      "open_il_24m              811914\n",
      "open_il_12m              811914\n",
      "open_acc_6m              811914\n",
      "mths_since_recent_inq    178621\n",
      "tot_cur_bal               70155\n",
      "avg_cur_bal               70155\n",
      "mo_sin_rcnt_tl            70155\n",
      "total_rev_hi_lim          70155\n",
      "num_actv_bc_tl            70155\n",
      "num_actv_rev_tl           70155\n",
      "num_op_rev_tl             70155\n",
      "num_rev_tl_bal_gt_0       70155\n",
      "num_tl_op_past_12m        70155\n",
      "tot_hi_cred_lim           70155\n",
      "bc_util                   64106\n",
      "percent_bc_gt_75          63856\n",
      "bc_open_to_buy            63442\n",
      "mths_since_recent_bc      62560\n",
      "acc_open_past_24mths      49928\n",
      "total_bc_limit            49928\n",
      "mort_acc                     20\n",
      "loan_repaid                   0\n",
      "loan_amnt                     0\n",
      "term                          0\n",
      "loan_status                   0\n",
      "int_rate                      0\n",
      "installment                   0\n",
      "sub_grade                     0\n",
      "emp_length                    0\n",
      "home_ownership                0\n",
      "annual_inc                    0\n",
      "verification_status           0\n",
      "purpose                       0\n",
      "application_type              0\n",
      "addr_state                    0\n",
      "dti                           0\n",
      "fico_range_low                0\n",
      "inq_last_6mths                0\n",
      "revol_util                    0\n",
      "total_acc                     0\n",
      "initial_list_status           0\n",
      "credit_history_years          0\n"
     ]
    }
   ],
   "source": [
    "df['mort_acc'] = df.apply(lambda x: fill_mort_acc(x['total_acc'],x['mort_acc']), axis=1)\n",
    "\n",
    "print(f\"total entries: {df.shape[0]}\")\n",
    "print(\"\\nCount of missing value:\")\n",
    "print(df.isnull().sum().sort_values(ascending=False).to_string())"
   ]
  },
  {
   "cell_type": "code",
   "execution_count": 51,
   "id": "b627edbc-afa9-4fdf-91f1-43fc61b48b1d",
   "metadata": {},
   "outputs": [
    {
     "data": {
      "text/html": [
       "<div>\n",
       "<style scoped>\n",
       "    .dataframe tbody tr th:only-of-type {\n",
       "        vertical-align: middle;\n",
       "    }\n",
       "\n",
       "    .dataframe tbody tr th {\n",
       "        vertical-align: top;\n",
       "    }\n",
       "\n",
       "    .dataframe thead th {\n",
       "        text-align: right;\n",
       "    }\n",
       "</style>\n",
       "<table border=\"1\" class=\"dataframe\">\n",
       "  <thead>\n",
       "    <tr style=\"text-align: right;\">\n",
       "      <th></th>\n",
       "      <th>loan_amnt</th>\n",
       "      <th>term</th>\n",
       "      <th>int_rate</th>\n",
       "      <th>installment</th>\n",
       "      <th>sub_grade</th>\n",
       "      <th>emp_length</th>\n",
       "      <th>home_ownership</th>\n",
       "      <th>annual_inc</th>\n",
       "      <th>verification_status</th>\n",
       "      <th>loan_status</th>\n",
       "      <th>...</th>\n",
       "      <th>num_actv_bc_tl</th>\n",
       "      <th>num_actv_rev_tl</th>\n",
       "      <th>num_op_rev_tl</th>\n",
       "      <th>num_rev_tl_bal_gt_0</th>\n",
       "      <th>num_tl_op_past_12m</th>\n",
       "      <th>percent_bc_gt_75</th>\n",
       "      <th>tot_hi_cred_lim</th>\n",
       "      <th>total_bc_limit</th>\n",
       "      <th>loan_repaid</th>\n",
       "      <th>credit_history_years</th>\n",
       "    </tr>\n",
       "  </thead>\n",
       "  <tbody>\n",
       "    <tr>\n",
       "      <th>1653425</th>\n",
       "      <td>5850.0</td>\n",
       "      <td>36</td>\n",
       "      <td>7.68</td>\n",
       "      <td>182.46</td>\n",
       "      <td>A2</td>\n",
       "      <td>0.0</td>\n",
       "      <td>RENT</td>\n",
       "      <td>28800.0</td>\n",
       "      <td>Verified</td>\n",
       "      <td>Fully Paid</td>\n",
       "      <td>...</td>\n",
       "      <td>NaN</td>\n",
       "      <td>NaN</td>\n",
       "      <td>NaN</td>\n",
       "      <td>NaN</td>\n",
       "      <td>NaN</td>\n",
       "      <td>NaN</td>\n",
       "      <td>NaN</td>\n",
       "      <td>NaN</td>\n",
       "      <td>1</td>\n",
       "      <td>7.172603</td>\n",
       "    </tr>\n",
       "    <tr>\n",
       "      <th>1653489</th>\n",
       "      <td>1000.0</td>\n",
       "      <td>36</td>\n",
       "      <td>12.29</td>\n",
       "      <td>33.36</td>\n",
       "      <td>C5</td>\n",
       "      <td>0.0</td>\n",
       "      <td>RENT</td>\n",
       "      <td>17000.0</td>\n",
       "      <td>Not Verified</td>\n",
       "      <td>Fully Paid</td>\n",
       "      <td>...</td>\n",
       "      <td>NaN</td>\n",
       "      <td>NaN</td>\n",
       "      <td>NaN</td>\n",
       "      <td>NaN</td>\n",
       "      <td>NaN</td>\n",
       "      <td>NaN</td>\n",
       "      <td>NaN</td>\n",
       "      <td>NaN</td>\n",
       "      <td>1</td>\n",
       "      <td>1.498630</td>\n",
       "    </tr>\n",
       "    <tr>\n",
       "      <th>1653808</th>\n",
       "      <td>2000.0</td>\n",
       "      <td>36</td>\n",
       "      <td>10.08</td>\n",
       "      <td>64.61</td>\n",
       "      <td>B3</td>\n",
       "      <td>10.0</td>\n",
       "      <td>RENT</td>\n",
       "      <td>19200.0</td>\n",
       "      <td>Not Verified</td>\n",
       "      <td>Fully Paid</td>\n",
       "      <td>...</td>\n",
       "      <td>NaN</td>\n",
       "      <td>NaN</td>\n",
       "      <td>NaN</td>\n",
       "      <td>NaN</td>\n",
       "      <td>NaN</td>\n",
       "      <td>NaN</td>\n",
       "      <td>NaN</td>\n",
       "      <td>NaN</td>\n",
       "      <td>1</td>\n",
       "      <td>0.838356</td>\n",
       "    </tr>\n",
       "    <tr>\n",
       "      <th>1653914</th>\n",
       "      <td>2600.0</td>\n",
       "      <td>36</td>\n",
       "      <td>10.71</td>\n",
       "      <td>84.77</td>\n",
       "      <td>B5</td>\n",
       "      <td>6.0</td>\n",
       "      <td>RENT</td>\n",
       "      <td>18720.0</td>\n",
       "      <td>Not Verified</td>\n",
       "      <td>Fully Paid</td>\n",
       "      <td>...</td>\n",
       "      <td>NaN</td>\n",
       "      <td>NaN</td>\n",
       "      <td>NaN</td>\n",
       "      <td>NaN</td>\n",
       "      <td>NaN</td>\n",
       "      <td>NaN</td>\n",
       "      <td>NaN</td>\n",
       "      <td>NaN</td>\n",
       "      <td>1</td>\n",
       "      <td>0.671233</td>\n",
       "    </tr>\n",
       "    <tr>\n",
       "      <th>1653934</th>\n",
       "      <td>5000.0</td>\n",
       "      <td>36</td>\n",
       "      <td>11.41</td>\n",
       "      <td>164.67</td>\n",
       "      <td>C3</td>\n",
       "      <td>0.0</td>\n",
       "      <td>RENT</td>\n",
       "      <td>30500.0</td>\n",
       "      <td>Not Verified</td>\n",
       "      <td>Fully Paid</td>\n",
       "      <td>...</td>\n",
       "      <td>NaN</td>\n",
       "      <td>NaN</td>\n",
       "      <td>NaN</td>\n",
       "      <td>NaN</td>\n",
       "      <td>NaN</td>\n",
       "      <td>NaN</td>\n",
       "      <td>NaN</td>\n",
       "      <td>NaN</td>\n",
       "      <td>1</td>\n",
       "      <td>0.504110</td>\n",
       "    </tr>\n",
       "    <tr>\n",
       "      <th>1653946</th>\n",
       "      <td>550.0</td>\n",
       "      <td>36</td>\n",
       "      <td>12.04</td>\n",
       "      <td>18.28</td>\n",
       "      <td>C5</td>\n",
       "      <td>1.0</td>\n",
       "      <td>RENT</td>\n",
       "      <td>18720.0</td>\n",
       "      <td>Not Verified</td>\n",
       "      <td>Fully Paid</td>\n",
       "      <td>...</td>\n",
       "      <td>NaN</td>\n",
       "      <td>NaN</td>\n",
       "      <td>NaN</td>\n",
       "      <td>NaN</td>\n",
       "      <td>NaN</td>\n",
       "      <td>NaN</td>\n",
       "      <td>NaN</td>\n",
       "      <td>NaN</td>\n",
       "      <td>1</td>\n",
       "      <td>3.000000</td>\n",
       "    </tr>\n",
       "    <tr>\n",
       "      <th>1653964</th>\n",
       "      <td>2000.0</td>\n",
       "      <td>36</td>\n",
       "      <td>12.04</td>\n",
       "      <td>66.47</td>\n",
       "      <td>C5</td>\n",
       "      <td>1.0</td>\n",
       "      <td>RENT</td>\n",
       "      <td>18720.0</td>\n",
       "      <td>Not Verified</td>\n",
       "      <td>Fully Paid</td>\n",
       "      <td>...</td>\n",
       "      <td>NaN</td>\n",
       "      <td>NaN</td>\n",
       "      <td>NaN</td>\n",
       "      <td>NaN</td>\n",
       "      <td>NaN</td>\n",
       "      <td>NaN</td>\n",
       "      <td>NaN</td>\n",
       "      <td>NaN</td>\n",
       "      <td>1</td>\n",
       "      <td>3.084932</td>\n",
       "    </tr>\n",
       "    <tr>\n",
       "      <th>1653984</th>\n",
       "      <td>2500.0</td>\n",
       "      <td>36</td>\n",
       "      <td>13.30</td>\n",
       "      <td>84.60</td>\n",
       "      <td>D4</td>\n",
       "      <td>1.0</td>\n",
       "      <td>RENT</td>\n",
       "      <td>24960.0</td>\n",
       "      <td>Not Verified</td>\n",
       "      <td>Charged Off</td>\n",
       "      <td>...</td>\n",
       "      <td>NaN</td>\n",
       "      <td>NaN</td>\n",
       "      <td>NaN</td>\n",
       "      <td>NaN</td>\n",
       "      <td>NaN</td>\n",
       "      <td>NaN</td>\n",
       "      <td>NaN</td>\n",
       "      <td>NaN</td>\n",
       "      <td>0</td>\n",
       "      <td>0.504110</td>\n",
       "    </tr>\n",
       "    <tr>\n",
       "      <th>1653992</th>\n",
       "      <td>3000.0</td>\n",
       "      <td>36</td>\n",
       "      <td>11.41</td>\n",
       "      <td>98.80</td>\n",
       "      <td>C3</td>\n",
       "      <td>3.0</td>\n",
       "      <td>RENT</td>\n",
       "      <td>13000.0</td>\n",
       "      <td>Not Verified</td>\n",
       "      <td>Fully Paid</td>\n",
       "      <td>...</td>\n",
       "      <td>NaN</td>\n",
       "      <td>NaN</td>\n",
       "      <td>NaN</td>\n",
       "      <td>NaN</td>\n",
       "      <td>NaN</td>\n",
       "      <td>NaN</td>\n",
       "      <td>NaN</td>\n",
       "      <td>NaN</td>\n",
       "      <td>1</td>\n",
       "      <td>2.671233</td>\n",
       "    </tr>\n",
       "    <tr>\n",
       "      <th>1654045</th>\n",
       "      <td>7500.0</td>\n",
       "      <td>36</td>\n",
       "      <td>11.22</td>\n",
       "      <td>246.33</td>\n",
       "      <td>C4</td>\n",
       "      <td>4.0</td>\n",
       "      <td>OWN</td>\n",
       "      <td>31920.0</td>\n",
       "      <td>Not Verified</td>\n",
       "      <td>Fully Paid</td>\n",
       "      <td>...</td>\n",
       "      <td>NaN</td>\n",
       "      <td>NaN</td>\n",
       "      <td>NaN</td>\n",
       "      <td>NaN</td>\n",
       "      <td>NaN</td>\n",
       "      <td>NaN</td>\n",
       "      <td>NaN</td>\n",
       "      <td>NaN</td>\n",
       "      <td>1</td>\n",
       "      <td>1.334247</td>\n",
       "    </tr>\n",
       "    <tr>\n",
       "      <th>1654066</th>\n",
       "      <td>800.0</td>\n",
       "      <td>36</td>\n",
       "      <td>13.43</td>\n",
       "      <td>27.13</td>\n",
       "      <td>E1</td>\n",
       "      <td>1.0</td>\n",
       "      <td>RENT</td>\n",
       "      <td>26000.0</td>\n",
       "      <td>Not Verified</td>\n",
       "      <td>Charged Off</td>\n",
       "      <td>...</td>\n",
       "      <td>NaN</td>\n",
       "      <td>NaN</td>\n",
       "      <td>NaN</td>\n",
       "      <td>NaN</td>\n",
       "      <td>NaN</td>\n",
       "      <td>NaN</td>\n",
       "      <td>NaN</td>\n",
       "      <td>NaN</td>\n",
       "      <td>0</td>\n",
       "      <td>1.501370</td>\n",
       "    </tr>\n",
       "    <tr>\n",
       "      <th>1654077</th>\n",
       "      <td>600.0</td>\n",
       "      <td>36</td>\n",
       "      <td>10.91</td>\n",
       "      <td>19.62</td>\n",
       "      <td>C3</td>\n",
       "      <td>1.0</td>\n",
       "      <td>RENT</td>\n",
       "      <td>15000.0</td>\n",
       "      <td>Not Verified</td>\n",
       "      <td>Fully Paid</td>\n",
       "      <td>...</td>\n",
       "      <td>NaN</td>\n",
       "      <td>NaN</td>\n",
       "      <td>NaN</td>\n",
       "      <td>NaN</td>\n",
       "      <td>NaN</td>\n",
       "      <td>NaN</td>\n",
       "      <td>NaN</td>\n",
       "      <td>NaN</td>\n",
       "      <td>1</td>\n",
       "      <td>1.334247</td>\n",
       "    </tr>\n",
       "    <tr>\n",
       "      <th>1654083</th>\n",
       "      <td>10000.0</td>\n",
       "      <td>36</td>\n",
       "      <td>10.91</td>\n",
       "      <td>326.97</td>\n",
       "      <td>C3</td>\n",
       "      <td>4.0</td>\n",
       "      <td>RENT</td>\n",
       "      <td>28800.0</td>\n",
       "      <td>Not Verified</td>\n",
       "      <td>Fully Paid</td>\n",
       "      <td>...</td>\n",
       "      <td>NaN</td>\n",
       "      <td>NaN</td>\n",
       "      <td>NaN</td>\n",
       "      <td>NaN</td>\n",
       "      <td>NaN</td>\n",
       "      <td>NaN</td>\n",
       "      <td>NaN</td>\n",
       "      <td>NaN</td>\n",
       "      <td>1</td>\n",
       "      <td>7.169863</td>\n",
       "    </tr>\n",
       "    <tr>\n",
       "      <th>1654105</th>\n",
       "      <td>14500.0</td>\n",
       "      <td>36</td>\n",
       "      <td>12.49</td>\n",
       "      <td>485.01</td>\n",
       "      <td>D3</td>\n",
       "      <td>0.0</td>\n",
       "      <td>MORTGAGE</td>\n",
       "      <td>40000.0</td>\n",
       "      <td>Not Verified</td>\n",
       "      <td>Fully Paid</td>\n",
       "      <td>...</td>\n",
       "      <td>NaN</td>\n",
       "      <td>NaN</td>\n",
       "      <td>NaN</td>\n",
       "      <td>NaN</td>\n",
       "      <td>NaN</td>\n",
       "      <td>NaN</td>\n",
       "      <td>NaN</td>\n",
       "      <td>NaN</td>\n",
       "      <td>1</td>\n",
       "      <td>2.249315</td>\n",
       "    </tr>\n",
       "    <tr>\n",
       "      <th>1654120</th>\n",
       "      <td>3000.0</td>\n",
       "      <td>36</td>\n",
       "      <td>7.43</td>\n",
       "      <td>93.23</td>\n",
       "      <td>A2</td>\n",
       "      <td>0.0</td>\n",
       "      <td>RENT</td>\n",
       "      <td>14400.0</td>\n",
       "      <td>Not Verified</td>\n",
       "      <td>Charged Off</td>\n",
       "      <td>...</td>\n",
       "      <td>NaN</td>\n",
       "      <td>NaN</td>\n",
       "      <td>NaN</td>\n",
       "      <td>NaN</td>\n",
       "      <td>NaN</td>\n",
       "      <td>NaN</td>\n",
       "      <td>NaN</td>\n",
       "      <td>NaN</td>\n",
       "      <td>0</td>\n",
       "      <td>0.830137</td>\n",
       "    </tr>\n",
       "    <tr>\n",
       "      <th>1654178</th>\n",
       "      <td>5000.0</td>\n",
       "      <td>36</td>\n",
       "      <td>12.80</td>\n",
       "      <td>167.99</td>\n",
       "      <td>D4</td>\n",
       "      <td>2.0</td>\n",
       "      <td>OWN</td>\n",
       "      <td>20000.0</td>\n",
       "      <td>Not Verified</td>\n",
       "      <td>Fully Paid</td>\n",
       "      <td>...</td>\n",
       "      <td>NaN</td>\n",
       "      <td>NaN</td>\n",
       "      <td>NaN</td>\n",
       "      <td>NaN</td>\n",
       "      <td>NaN</td>\n",
       "      <td>NaN</td>\n",
       "      <td>NaN</td>\n",
       "      <td>NaN</td>\n",
       "      <td>1</td>\n",
       "      <td>2.671233</td>\n",
       "    </tr>\n",
       "    <tr>\n",
       "      <th>1654208</th>\n",
       "      <td>5600.0</td>\n",
       "      <td>36</td>\n",
       "      <td>9.33</td>\n",
       "      <td>178.94</td>\n",
       "      <td>B3</td>\n",
       "      <td>5.0</td>\n",
       "      <td>RENT</td>\n",
       "      <td>95000.0</td>\n",
       "      <td>Not Verified</td>\n",
       "      <td>Fully Paid</td>\n",
       "      <td>...</td>\n",
       "      <td>NaN</td>\n",
       "      <td>NaN</td>\n",
       "      <td>NaN</td>\n",
       "      <td>NaN</td>\n",
       "      <td>NaN</td>\n",
       "      <td>NaN</td>\n",
       "      <td>NaN</td>\n",
       "      <td>NaN</td>\n",
       "      <td>1</td>\n",
       "      <td>0.671233</td>\n",
       "    </tr>\n",
       "    <tr>\n",
       "      <th>1654225</th>\n",
       "      <td>9000.0</td>\n",
       "      <td>36</td>\n",
       "      <td>12.17</td>\n",
       "      <td>299.67</td>\n",
       "      <td>D2</td>\n",
       "      <td>1.0</td>\n",
       "      <td>RENT</td>\n",
       "      <td>22000.0</td>\n",
       "      <td>Not Verified</td>\n",
       "      <td>Fully Paid</td>\n",
       "      <td>...</td>\n",
       "      <td>NaN</td>\n",
       "      <td>NaN</td>\n",
       "      <td>NaN</td>\n",
       "      <td>NaN</td>\n",
       "      <td>NaN</td>\n",
       "      <td>NaN</td>\n",
       "      <td>NaN</td>\n",
       "      <td>NaN</td>\n",
       "      <td>1</td>\n",
       "      <td>2.000000</td>\n",
       "    </tr>\n",
       "    <tr>\n",
       "      <th>1654291</th>\n",
       "      <td>4100.0</td>\n",
       "      <td>36</td>\n",
       "      <td>9.33</td>\n",
       "      <td>131.01</td>\n",
       "      <td>B3</td>\n",
       "      <td>2.0</td>\n",
       "      <td>RENT</td>\n",
       "      <td>16000.0</td>\n",
       "      <td>Not Verified</td>\n",
       "      <td>Fully Paid</td>\n",
       "      <td>...</td>\n",
       "      <td>NaN</td>\n",
       "      <td>NaN</td>\n",
       "      <td>NaN</td>\n",
       "      <td>NaN</td>\n",
       "      <td>NaN</td>\n",
       "      <td>NaN</td>\n",
       "      <td>NaN</td>\n",
       "      <td>NaN</td>\n",
       "      <td>1</td>\n",
       "      <td>1.084932</td>\n",
       "    </tr>\n",
       "    <tr>\n",
       "      <th>1654308</th>\n",
       "      <td>5000.0</td>\n",
       "      <td>36</td>\n",
       "      <td>13.75</td>\n",
       "      <td>170.29</td>\n",
       "      <td>E2</td>\n",
       "      <td>3.0</td>\n",
       "      <td>RENT</td>\n",
       "      <td>20000.0</td>\n",
       "      <td>Not Verified</td>\n",
       "      <td>Charged Off</td>\n",
       "      <td>...</td>\n",
       "      <td>NaN</td>\n",
       "      <td>NaN</td>\n",
       "      <td>NaN</td>\n",
       "      <td>NaN</td>\n",
       "      <td>NaN</td>\n",
       "      <td>NaN</td>\n",
       "      <td>NaN</td>\n",
       "      <td>NaN</td>\n",
       "      <td>0</td>\n",
       "      <td>3.419178</td>\n",
       "    </tr>\n",
       "  </tbody>\n",
       "</table>\n",
       "<p>20 rows × 47 columns</p>\n",
       "</div>"
      ],
      "text/plain": [
       "         loan_amnt  term  int_rate  installment sub_grade  emp_length  \\\n",
       "1653425     5850.0    36      7.68       182.46        A2         0.0   \n",
       "1653489     1000.0    36     12.29        33.36        C5         0.0   \n",
       "1653808     2000.0    36     10.08        64.61        B3        10.0   \n",
       "1653914     2600.0    36     10.71        84.77        B5         6.0   \n",
       "1653934     5000.0    36     11.41       164.67        C3         0.0   \n",
       "1653946      550.0    36     12.04        18.28        C5         1.0   \n",
       "1653964     2000.0    36     12.04        66.47        C5         1.0   \n",
       "1653984     2500.0    36     13.30        84.60        D4         1.0   \n",
       "1653992     3000.0    36     11.41        98.80        C3         3.0   \n",
       "1654045     7500.0    36     11.22       246.33        C4         4.0   \n",
       "1654066      800.0    36     13.43        27.13        E1         1.0   \n",
       "1654077      600.0    36     10.91        19.62        C3         1.0   \n",
       "1654083    10000.0    36     10.91       326.97        C3         4.0   \n",
       "1654105    14500.0    36     12.49       485.01        D3         0.0   \n",
       "1654120     3000.0    36      7.43        93.23        A2         0.0   \n",
       "1654178     5000.0    36     12.80       167.99        D4         2.0   \n",
       "1654208     5600.0    36      9.33       178.94        B3         5.0   \n",
       "1654225     9000.0    36     12.17       299.67        D2         1.0   \n",
       "1654291     4100.0    36      9.33       131.01        B3         2.0   \n",
       "1654308     5000.0    36     13.75       170.29        E2         3.0   \n",
       "\n",
       "        home_ownership  annual_inc verification_status  loan_status  ...  \\\n",
       "1653425           RENT     28800.0            Verified   Fully Paid  ...   \n",
       "1653489           RENT     17000.0        Not Verified   Fully Paid  ...   \n",
       "1653808           RENT     19200.0        Not Verified   Fully Paid  ...   \n",
       "1653914           RENT     18720.0        Not Verified   Fully Paid  ...   \n",
       "1653934           RENT     30500.0        Not Verified   Fully Paid  ...   \n",
       "1653946           RENT     18720.0        Not Verified   Fully Paid  ...   \n",
       "1653964           RENT     18720.0        Not Verified   Fully Paid  ...   \n",
       "1653984           RENT     24960.0        Not Verified  Charged Off  ...   \n",
       "1653992           RENT     13000.0        Not Verified   Fully Paid  ...   \n",
       "1654045            OWN     31920.0        Not Verified   Fully Paid  ...   \n",
       "1654066           RENT     26000.0        Not Verified  Charged Off  ...   \n",
       "1654077           RENT     15000.0        Not Verified   Fully Paid  ...   \n",
       "1654083           RENT     28800.0        Not Verified   Fully Paid  ...   \n",
       "1654105       MORTGAGE     40000.0        Not Verified   Fully Paid  ...   \n",
       "1654120           RENT     14400.0        Not Verified  Charged Off  ...   \n",
       "1654178            OWN     20000.0        Not Verified   Fully Paid  ...   \n",
       "1654208           RENT     95000.0        Not Verified   Fully Paid  ...   \n",
       "1654225           RENT     22000.0        Not Verified   Fully Paid  ...   \n",
       "1654291           RENT     16000.0        Not Verified   Fully Paid  ...   \n",
       "1654308           RENT     20000.0        Not Verified  Charged Off  ...   \n",
       "\n",
       "        num_actv_bc_tl num_actv_rev_tl  num_op_rev_tl  num_rev_tl_bal_gt_0  \\\n",
       "1653425            NaN             NaN            NaN                  NaN   \n",
       "1653489            NaN             NaN            NaN                  NaN   \n",
       "1653808            NaN             NaN            NaN                  NaN   \n",
       "1653914            NaN             NaN            NaN                  NaN   \n",
       "1653934            NaN             NaN            NaN                  NaN   \n",
       "1653946            NaN             NaN            NaN                  NaN   \n",
       "1653964            NaN             NaN            NaN                  NaN   \n",
       "1653984            NaN             NaN            NaN                  NaN   \n",
       "1653992            NaN             NaN            NaN                  NaN   \n",
       "1654045            NaN             NaN            NaN                  NaN   \n",
       "1654066            NaN             NaN            NaN                  NaN   \n",
       "1654077            NaN             NaN            NaN                  NaN   \n",
       "1654083            NaN             NaN            NaN                  NaN   \n",
       "1654105            NaN             NaN            NaN                  NaN   \n",
       "1654120            NaN             NaN            NaN                  NaN   \n",
       "1654178            NaN             NaN            NaN                  NaN   \n",
       "1654208            NaN             NaN            NaN                  NaN   \n",
       "1654225            NaN             NaN            NaN                  NaN   \n",
       "1654291            NaN             NaN            NaN                  NaN   \n",
       "1654308            NaN             NaN            NaN                  NaN   \n",
       "\n",
       "         num_tl_op_past_12m  percent_bc_gt_75  tot_hi_cred_lim total_bc_limit  \\\n",
       "1653425                 NaN               NaN              NaN            NaN   \n",
       "1653489                 NaN               NaN              NaN            NaN   \n",
       "1653808                 NaN               NaN              NaN            NaN   \n",
       "1653914                 NaN               NaN              NaN            NaN   \n",
       "1653934                 NaN               NaN              NaN            NaN   \n",
       "1653946                 NaN               NaN              NaN            NaN   \n",
       "1653964                 NaN               NaN              NaN            NaN   \n",
       "1653984                 NaN               NaN              NaN            NaN   \n",
       "1653992                 NaN               NaN              NaN            NaN   \n",
       "1654045                 NaN               NaN              NaN            NaN   \n",
       "1654066                 NaN               NaN              NaN            NaN   \n",
       "1654077                 NaN               NaN              NaN            NaN   \n",
       "1654083                 NaN               NaN              NaN            NaN   \n",
       "1654105                 NaN               NaN              NaN            NaN   \n",
       "1654120                 NaN               NaN              NaN            NaN   \n",
       "1654178                 NaN               NaN              NaN            NaN   \n",
       "1654208                 NaN               NaN              NaN            NaN   \n",
       "1654225                 NaN               NaN              NaN            NaN   \n",
       "1654291                 NaN               NaN              NaN            NaN   \n",
       "1654308                 NaN               NaN              NaN            NaN   \n",
       "\n",
       "        loan_repaid  credit_history_years  \n",
       "1653425           1              7.172603  \n",
       "1653489           1              1.498630  \n",
       "1653808           1              0.838356  \n",
       "1653914           1              0.671233  \n",
       "1653934           1              0.504110  \n",
       "1653946           1              3.000000  \n",
       "1653964           1              3.084932  \n",
       "1653984           0              0.504110  \n",
       "1653992           1              2.671233  \n",
       "1654045           1              1.334247  \n",
       "1654066           0              1.501370  \n",
       "1654077           1              1.334247  \n",
       "1654083           1              7.169863  \n",
       "1654105           1              2.249315  \n",
       "1654120           0              0.830137  \n",
       "1654178           1              2.671233  \n",
       "1654208           1              0.671233  \n",
       "1654225           1              2.000000  \n",
       "1654291           1              1.084932  \n",
       "1654308           0              3.419178  \n",
       "\n",
       "[20 rows x 47 columns]"
      ]
     },
     "execution_count": 51,
     "metadata": {},
     "output_type": "execute_result"
    }
   ],
   "source": [
    "df[df['mort_acc'].isnull()]"
   ]
  },
  {
   "cell_type": "code",
   "execution_count": 52,
   "id": "38e74de1-6476-4548-8722-afdea272b9e1",
   "metadata": {},
   "outputs": [],
   "source": [
    "df = df.dropna(subset='mort_acc')"
   ]
  },
  {
   "cell_type": "markdown",
   "id": "96183e06",
   "metadata": {},
   "source": [
    "Rather than spending excessive time on imputing partially missing columns that only marginally improve model performance, I prioritized an efficient cleanup approach by removing rows with missing values in features that were mostly complete (≥ 90%). This allowed me to retain ~90% of the data while eliminating over 15 columns that would otherwise require complex imputation — Let's focus on the core deep learning architecture and insights."
   ]
  },
  {
   "cell_type": "code",
   "execution_count": 53,
   "id": "34008f8e",
   "metadata": {},
   "outputs": [
    {
     "name": "stdout",
     "output_type": "stream",
     "text": [
      "Overall charged off rate: 0.21482115601082644\n",
      "il_util                   Missing:  887851 | Charge-off rate: 19.12%\n",
      "all_util                  Missing:  811894 | Charge-off rate: 18.60%\n",
      "max_bal_bc                Missing:  811894 | Charge-off rate: 18.60%\n",
      "inq_last_12m              Missing:  811894 | Charge-off rate: 18.60%\n",
      "open_il_24m               Missing:  811894 | Charge-off rate: 18.60%\n",
      "open_il_12m               Missing:  811894 | Charge-off rate: 18.60%\n",
      "open_acc_6m               Missing:  811894 | Charge-off rate: 18.60%\n",
      "inq_fi                    Missing:  811894 | Charge-off rate: 18.60%\n",
      "mths_since_recent_inq     Missing:  178601 | Charge-off rate: 16.09%\n",
      "tot_cur_bal               Missing:   70135 | Charge-off rate: 15.75%\n",
      "avg_cur_bal               Missing:   70135 | Charge-off rate: 15.75%\n",
      "mo_sin_rcnt_tl            Missing:   70135 | Charge-off rate: 15.75%\n",
      "total_rev_hi_lim          Missing:   70135 | Charge-off rate: 15.75%\n",
      "tot_hi_cred_lim           Missing:   70135 | Charge-off rate: 15.75%\n",
      "num_actv_rev_tl           Missing:   70135 | Charge-off rate: 15.75%\n",
      "num_op_rev_tl             Missing:   70135 | Charge-off rate: 15.75%\n",
      "num_rev_tl_bal_gt_0       Missing:   70135 | Charge-off rate: 15.75%\n",
      "num_actv_bc_tl            Missing:   70135 | Charge-off rate: 15.75%\n",
      "num_tl_op_past_12m        Missing:   70135 | Charge-off rate: 15.75%\n",
      "bc_util                   Missing:   64086 | Charge-off rate: 17.03%\n",
      "percent_bc_gt_75          Missing:   63836 | Charge-off rate: 16.97%\n",
      "bc_open_to_buy            Missing:   63422 | Charge-off rate: 16.95%\n",
      "mths_since_recent_bc      Missing:   62540 | Charge-off rate: 16.86%\n",
      "total_bc_limit            Missing:   49908 | Charge-off rate: 15.26%\n",
      "acc_open_past_24mths      Missing:   49908 | Charge-off rate: 15.26%\n"
     ]
    }
   ],
   "source": [
    "#Missingness impact check:\n",
    "\n",
    "features_with_missing = [\n",
    "    'il_util', 'all_util', 'max_bal_bc', 'inq_last_12m', 'open_il_24m',\n",
    "    'open_il_12m', 'open_acc_6m', 'inq_fi', 'mths_since_recent_inq',\n",
    "    'tot_cur_bal', 'avg_cur_bal', 'mo_sin_rcnt_tl', 'total_rev_hi_lim', 'tot_hi_cred_lim', 'num_actv_rev_tl',\n",
    "    'num_op_rev_tl', 'num_rev_tl_bal_gt_0', 'num_actv_bc_tl',\n",
    "    'num_tl_op_past_12m', 'bc_util', 'percent_bc_gt_75', 'bc_open_to_buy',\n",
    "    'mths_since_recent_bc', 'total_bc_limit', 'acc_open_past_24mths'\n",
    "]\n",
    "\n",
    "print(f\"Overall charged off rate: {(df['loan_repaid'] == 0).mean()}\")\n",
    "for feature in features_with_missing:\n",
    "    null_mask = df[feature].isnull()\n",
    "    total_null = null_mask.sum()\n",
    "    if total_null == 0:\n",
    "        continue\n",
    "    chargeoff_rate = (df.loc[null_mask, 'loan_repaid'] == 0).mean()\n",
    "    print(f\"{feature:<25} Missing: {total_null:>7} | Charge-off rate: {chargeoff_rate:.2%}\")"
   ]
  },
  {
   "cell_type": "code",
   "execution_count": 54,
   "id": "1ffc461c",
   "metadata": {},
   "outputs": [
    {
     "name": "stdout",
     "output_type": "stream",
     "text": [
      "total entries before dropping missing values: 1372565\n",
      "Remaining rows: 1288101\n"
     ]
    }
   ],
   "source": [
    "print(f\"total entries before dropping missing values: {df.shape[0]}\")\n",
    "\n",
    "columns_to_drop_missing_rows = [\n",
    "    'tot_cur_bal', 'avg_cur_bal', 'mo_sin_rcnt_tl',\n",
    "    'total_rev_hi_lim', 'tot_hi_cred_lim', 'num_actv_rev_tl', 'num_op_rev_tl', 'num_rev_tl_bal_gt_0', 'num_actv_bc_tl', 'num_tl_op_past_12m','bc_util','percent_bc_gt_75','bc_open_to_buy','mths_since_recent_bc','total_bc_limit','acc_open_past_24mths'\n",
    "]\n",
    "\n",
    "df = df.dropna(subset=columns_to_drop_missing_rows)\n",
    "print(f\"Remaining rows: {df.shape[0]}\")"
   ]
  },
  {
   "cell_type": "code",
   "execution_count": 55,
   "id": "b298378a",
   "metadata": {},
   "outputs": [
    {
     "name": "stdout",
     "output_type": "stream",
     "text": [
      "total entries: 1288101\n",
      "\n",
      "\n",
      "Ratio of missing value:\n",
      "il_util                  62.835756\n",
      "inq_last_12m             57.002052\n",
      "max_bal_bc               57.002052\n",
      "inq_fi                   57.002052\n",
      "open_il_24m              57.002052\n",
      "open_il_12m              57.002052\n",
      "open_acc_6m              57.002052\n",
      "all_util                 57.002052\n",
      "mths_since_recent_inq     9.644973\n",
      "num_op_rev_tl             0.000000\n",
      "acc_open_past_24mths      0.000000\n",
      "loan_repaid               0.000000\n",
      "total_bc_limit            0.000000\n",
      "tot_hi_cred_lim           0.000000\n",
      "percent_bc_gt_75          0.000000\n",
      "num_tl_op_past_12m        0.000000\n",
      "num_rev_tl_bal_gt_0       0.000000\n",
      "avg_cur_bal               0.000000\n",
      "num_actv_rev_tl           0.000000\n",
      "bc_open_to_buy            0.000000\n",
      "bc_util                   0.000000\n",
      "mo_sin_rcnt_tl            0.000000\n",
      "total_rev_hi_lim          0.000000\n",
      "mths_since_recent_bc      0.000000\n",
      "num_actv_bc_tl            0.000000\n",
      "mort_acc                  0.000000\n",
      "loan_amnt                 0.000000\n",
      "term                      0.000000\n",
      "tot_cur_bal               0.000000\n",
      "int_rate                  0.000000\n",
      "installment               0.000000\n",
      "sub_grade                 0.000000\n",
      "emp_length                0.000000\n",
      "home_ownership            0.000000\n",
      "annual_inc                0.000000\n",
      "verification_status       0.000000\n",
      "loan_status               0.000000\n",
      "purpose                   0.000000\n",
      "addr_state                0.000000\n",
      "dti                       0.000000\n",
      "fico_range_low            0.000000\n",
      "inq_last_6mths            0.000000\n",
      "revol_util                0.000000\n",
      "total_acc                 0.000000\n",
      "initial_list_status       0.000000\n",
      "application_type          0.000000\n",
      "credit_history_years      0.000000\n"
     ]
    }
   ],
   "source": [
    "print(f\"total entries: {df.shape[0]}\")\n",
    "\n",
    "print(\"\\n\\nRatio of missing value:\")\n",
    "print(((df.isnull().sum() / len(df)) * 100).sort_values(ascending=False).to_string())"
   ]
  },
  {
   "cell_type": "code",
   "execution_count": 56,
   "id": "e628f6cd",
   "metadata": {},
   "outputs": [
    {
     "name": "stdout",
     "output_type": "stream",
     "text": [
      "Correlation between il_util and loan_repaid: -0.0412\n",
      "Correlation between inq_last_12m and loan_repaid: -0.0569\n",
      "Correlation between max_bal_bc and loan_repaid: 0.0391\n",
      "Correlation between inq_fi and loan_repaid: -0.0406\n",
      "Correlation between open_il_24m and loan_repaid: -0.0325\n",
      "Correlation between open_il_12m and loan_repaid: -0.0352\n",
      "Correlation between open_acc_6m and loan_repaid: -0.0548\n",
      "Correlation between all_util and loan_repaid: -0.0844\n",
      "Correlation between mths_since_recent_inq and loan_repaid: 0.0561\n"
     ]
    }
   ],
   "source": [
    "cols_to_check = [\n",
    "    'il_util', 'inq_last_12m', 'max_bal_bc', 'inq_fi',\n",
    "    'open_il_24m', 'open_il_12m', 'open_acc_6m', 'all_util',\n",
    "    'mths_since_recent_inq'\n",
    "]\n",
    "\n",
    "for col in cols_to_check:\n",
    "    corr = df[[col, 'loan_repaid']].dropna().corr().iloc[0, 1]\n",
    "    print(f\"Correlation between {col} and loan_repaid: {corr:.4f}\")"
   ]
  },
  {
   "cell_type": "markdown",
   "id": "0fa50ed9",
   "metadata": {},
   "source": [
    "- These features, which are missing more than 50% of the time have a correlation below 0.1\n",
    "- We could fill all the missing values with median values to experiment, however this time we will drop them."
   ]
  },
  {
   "cell_type": "code",
   "execution_count": 57,
   "id": "2dd5bc14",
   "metadata": {},
   "outputs": [
    {
     "data": {
      "text/plain": [
       "(1288101, 38)"
      ]
     },
     "execution_count": 57,
     "metadata": {},
     "output_type": "execute_result"
    }
   ],
   "source": [
    "df.drop(columns=cols_to_check, inplace=True)\n",
    "df.shape"
   ]
  },
  {
   "cell_type": "code",
   "execution_count": 58,
   "id": "8b401fd0",
   "metadata": {},
   "outputs": [
    {
     "name": "stdout",
     "output_type": "stream",
     "text": [
      "total entries: 1288101\n",
      "\n",
      "\n",
      "Ratio of missing value:\n",
      "loan_amnt               0.0\n",
      "num_actv_bc_tl          0.0\n",
      "acc_open_past_24mths    0.0\n",
      "avg_cur_bal             0.0\n",
      "bc_open_to_buy          0.0\n",
      "bc_util                 0.0\n",
      "mo_sin_rcnt_tl          0.0\n",
      "mort_acc                0.0\n",
      "mths_since_recent_bc    0.0\n",
      "num_actv_rev_tl         0.0\n",
      "term                    0.0\n",
      "num_op_rev_tl           0.0\n",
      "num_rev_tl_bal_gt_0     0.0\n",
      "num_tl_op_past_12m      0.0\n",
      "percent_bc_gt_75        0.0\n",
      "tot_hi_cred_lim         0.0\n",
      "total_bc_limit          0.0\n",
      "loan_repaid             0.0\n",
      "total_rev_hi_lim        0.0\n",
      "tot_cur_bal             0.0\n",
      "application_type        0.0\n",
      "initial_list_status     0.0\n",
      "int_rate                0.0\n",
      "installment             0.0\n",
      "sub_grade               0.0\n",
      "emp_length              0.0\n",
      "home_ownership          0.0\n",
      "annual_inc              0.0\n",
      "verification_status     0.0\n",
      "loan_status             0.0\n",
      "purpose                 0.0\n",
      "addr_state              0.0\n",
      "dti                     0.0\n",
      "fico_range_low          0.0\n",
      "inq_last_6mths          0.0\n",
      "revol_util              0.0\n",
      "total_acc               0.0\n",
      "credit_history_years    0.0\n"
     ]
    }
   ],
   "source": [
    "print(f\"total entries: {df.shape[0]}\")\n",
    "\n",
    "print(\"\\n\\nRatio of missing value:\")\n",
    "print(((df.isnull().sum() / len(df)) * 100).sort_values(ascending=False).to_string())"
   ]
  },
  {
   "cell_type": "code",
   "execution_count": 59,
   "id": "4c5e3057-8acd-4864-8092-0ce2a46b041f",
   "metadata": {},
   "outputs": [
    {
     "data": {
      "text/plain": [
       "sub_grade              35\n",
       "home_ownership          6\n",
       "verification_status     3\n",
       "loan_status             2\n",
       "purpose                14\n",
       "addr_state             51\n",
       "initial_list_status     2\n",
       "application_type        2\n",
       "dtype: int64"
      ]
     },
     "execution_count": 59,
     "metadata": {},
     "output_type": "execute_result"
    }
   ],
   "source": [
    "df.select_dtypes(include=['object', 'category']).nunique()"
   ]
  },
  {
   "cell_type": "code",
   "execution_count": 60,
   "id": "07991e74-f1c6-4480-94d6-ab93d0e57b4f",
   "metadata": {},
   "outputs": [
    {
     "data": {
      "image/png": "[encoded data removed]",
      "text/plain": [
       "<Figure size 1400x600 with 1 Axes>"
      ]
     },
     "metadata": {},
     "output_type": "display_data"
    }
   ],
   "source": [
    "plt.figure(figsize=(14, 6))\n",
    "sns.countplot(data=df, x='sub_grade', hue='loan_repaid', order=sorted(df['sub_grade'].unique()))\n",
    "\n",
    "plt.title('Loan Status Count by Sub Grade')\n",
    "plt.xlabel('Sub Grade')\n",
    "plt.ylabel('Count')\n",
    "plt.xticks(rotation=45)\n",
    "plt.tight_layout()\n",
    "plt.show()"
   ]
  },
  {
   "cell_type": "code",
   "execution_count": 61,
   "id": "61943552-04aa-4c1b-acad-e9d5a76c8b60",
   "metadata": {},
   "outputs": [
    {
     "data": {
      "text/plain": [
       "array(['C4', 'C1', 'B4', 'F1', 'C3', 'B2', 'B1', 'A2', 'B5', 'C2', 'E2',\n",
       "       'A4', 'E3', 'C5', 'A1', 'D4', 'F3', 'D1', 'B3', 'D3', 'D5', 'A5',\n",
       "       'F2', 'E4', 'D2', 'E1', 'F5', 'E5', 'A3', 'G2', 'G1', 'G3', 'G4',\n",
       "       'F4', 'G5'], dtype=object)"
      ]
     },
     "execution_count": 61,
     "metadata": {},
     "output_type": "execute_result"
    }
   ],
   "source": [
    "df['sub_grade'].unique()"
   ]
  },
  {
   "cell_type": "code",
   "execution_count": 62,
   "id": "4d0fdb23-b2fa-45fe-945b-364e117f726e",
   "metadata": {},
   "outputs": [
    {
     "data": {
      "text/plain": [
       "0          13\n",
       "1          10\n",
       "2           8\n",
       "4          25\n",
       "5          12\n",
       "           ..\n",
       "2260688     6\n",
       "2260690    12\n",
       "2260691    13\n",
       "2260692    10\n",
       "2260697    13\n",
       "Name: sub_grade, Length: 1288101, dtype: int64"
      ]
     },
     "execution_count": 62,
     "metadata": {},
     "output_type": "execute_result"
    }
   ],
   "source": [
    "sub_grade_order = [\n",
    "    'A1', 'A2', 'A3', 'A4', 'A5',\n",
    "    'B1', 'B2', 'B3', 'B4', 'B5',\n",
    "    'C1', 'C2', 'C3', 'C4', 'C5',\n",
    "    'D1', 'D2', 'D3', 'D4', 'D5',\n",
    "    'E1', 'E2', 'E3', 'E4', 'E5',\n",
    "    'F1', 'F2', 'F3', 'F4', 'F5',\n",
    "    'G1', 'G2', 'G3', 'G4', 'G5'\n",
    "]\n",
    "\n",
    "# Create a mapping from sub_grade to an ordinal integer\n",
    "sub_grade_map = {grade: idx for idx, grade in enumerate(sub_grade_order)}\n",
    "\n",
    "# Apply the mapping\n",
    "df['sub_grade'] = df['sub_grade'].map(sub_grade_map)\n",
    "df['sub_grade']"
   ]
  },
  {
   "cell_type": "markdown",
   "id": "dc03c538-96e2-485a-ba2a-39d3eeb8bc85",
   "metadata": {},
   "source": [
    "# Since 'addr_state' has 51 unique values, one-hot encoding may not be ideal. First, let's check the average 'loan_repaid' rate per state:"
   ]
  },
  {
   "cell_type": "code",
   "execution_count": 63,
   "id": "028d439c-8489-4beb-a1b9-1fe49b8f7c75",
   "metadata": {},
   "outputs": [
    {
     "data": {
      "text/plain": [
       "addr_state\n",
       "AK    0.786918\n",
       "AL    0.744022\n",
       "AR    0.737060\n",
       "AZ    0.787296\n",
       "CA    0.786650\n",
       "CO    0.832093\n",
       "CT    0.806847\n",
       "DC    0.849021\n",
       "DE    0.786130\n",
       "FL    0.764894\n",
       "GA    0.799214\n",
       "HI    0.781410\n",
       "IA    1.000000\n",
       "ID    0.786471\n",
       "IL    0.802489\n",
       "IN    0.770949\n",
       "KS    0.817647\n",
       "KY    0.773277\n",
       "LA    0.747665\n",
       "MA    0.790272\n",
       "MD    0.764041\n",
       "ME    0.843781\n",
       "MI    0.780719\n",
       "MN    0.786170\n",
       "MO    0.768959\n",
       "MS    0.711677\n",
       "MT    0.818157\n",
       "NC    0.774601\n",
       "ND    0.770312\n",
       "NE    0.727523\n",
       "NH    0.837299\n",
       "NJ    0.770252\n",
       "NM    0.770517\n",
       "NV    0.766495\n",
       "NY    0.757075\n",
       "OH    0.779437\n",
       "OK    0.745333\n",
       "OR    0.844926\n",
       "PA    0.772272\n",
       "RI    0.805021\n",
       "SC    0.820659\n",
       "SD    0.770566\n",
       "TN    0.771956\n",
       "TX    0.782458\n",
       "UT    0.815305\n",
       "VA    0.780693\n",
       "VT    0.846396\n",
       "WA    0.830313\n",
       "WI    0.796393\n",
       "WV    0.834240\n",
       "WY    0.814481\n",
       "Name: loan_repaid, dtype: float64"
      ]
     },
     "execution_count": 63,
     "metadata": {},
     "output_type": "execute_result"
    }
   ],
   "source": [
    "df.groupby('addr_state')['loan_repaid'].mean()"
   ]
  },
  {
   "cell_type": "markdown",
   "id": "98e47de0-a013-4e31-9ddc-30ac7f079206",
   "metadata": {},
   "source": [
    "# The rate per state floats around the same range, but IA sticks out, which suggests that IA likely has limited samples."
   ]
  },
  {
   "cell_type": "code",
   "execution_count": 64,
   "id": "29bdad9a-1259-49bf-b5f0-55275391794b",
   "metadata": {},
   "outputs": [
    {
     "data": {
      "text/plain": [
       "addr_state\n",
       "IA         1\n",
       "ND      1637\n",
       "ID      1700\n",
       "ME      2042\n",
       "VT      2539\n",
       "SD      2650\n",
       "WY      2776\n",
       "AK      3027\n",
       "DC      3166\n",
       "DE      3605\n",
       "NE      3626\n",
       "MT      3657\n",
       "WV      4597\n",
       "RI      5616\n",
       "NH      6220\n",
       "HI      6455\n",
       "MS      6680\n",
       "NM      7055\n",
       "UT      9448\n",
       "AR      9660\n",
       "KS     10699\n",
       "OK     11839\n",
       "KY     12319\n",
       "LA     14774\n",
       "SC     15228\n",
       "OR     15657\n",
       "AL     15892\n",
       "WI     17077\n",
       "CT     18752\n",
       "NV     19567\n",
       "MO     20347\n",
       "TN     20461\n",
       "IN     21851\n",
       "MN     23051\n",
       "WA     27645\n",
       "CO     28480\n",
       "MA     29276\n",
       "MD     29895\n",
       "AZ     31424\n",
       "MI     34002\n",
       "VA     35863\n",
       "NC     36371\n",
       "GA     41462\n",
       "OH     41988\n",
       "PA     43407\n",
       "NJ     46120\n",
       "IL     49577\n",
       "FL     91831\n",
       "NY    104810\n",
       "TX    106200\n",
       "CA    186079\n",
       "Name: loan_repaid, dtype: int64"
      ]
     },
     "execution_count": 64,
     "metadata": {},
     "output_type": "execute_result"
    }
   ],
   "source": [
    "df.groupby('addr_state')['loan_repaid'].count().sort_values()"
   ]
  },
  {
   "cell_type": "code",
   "execution_count": 65,
   "id": "d5336eef-03ed-41c3-ad42-9ddb038f517b",
   "metadata": {},
   "outputs": [
    {
     "data": {
      "text/plain": [
       "MORTGAGE    638850\n",
       "RENT        507898\n",
       "OWN         140968\n",
       "ANY            297\n",
       "NONE            44\n",
       "OTHER           44\n",
       "Name: home_ownership, dtype: int64"
      ]
     },
     "execution_count": 65,
     "metadata": {},
     "output_type": "execute_result"
    }
   ],
   "source": [
    "df.drop(columns='addr_state', inplace=True)\n",
    "\n",
    "# We will check why Home Ownership has 6 categories:\n",
    "df['home_ownership'].value_counts()"
   ]
  },
  {
   "cell_type": "code",
   "execution_count": 66,
   "id": "9b9cf5e4",
   "metadata": {},
   "outputs": [
    {
     "data": {
      "text/plain": [
       "MORTGAGE    638850\n",
       "RENT        507898\n",
       "OWN         140968\n",
       "OTHER          385\n",
       "Name: home_ownership, dtype: int64"
      ]
     },
     "execution_count": 66,
     "metadata": {},
     "output_type": "execute_result"
    }
   ],
   "source": [
    "rare_categories = ['ANY', 'OTHER', 'NONE']\n",
    "\n",
    "# Replace them with 'OTHER'\n",
    "df['home_ownership'] = df['home_ownership'].replace(rare_categories, 'OTHER')\n",
    "df['home_ownership'].value_counts()"
   ]
  },
  {
   "cell_type": "code",
   "execution_count": 67,
   "id": "1a2738c7-6ce3-4aa9-8013-753658e35ab9",
   "metadata": {},
   "outputs": [],
   "source": [
    "df = df.drop(columns=['loan_status'])\n",
    "\n",
    "df = pd.get_dummies(df, columns=['home_ownership', 'verification_status', 'purpose', \n",
    "                                 'initial_list_status', 'application_type'], drop_first=True)"
   ]
  },
  {
   "cell_type": "markdown",
   "id": "e735c420-60bc-44ac-a769-6f31d5ce4845",
   "metadata": {},
   "source": [
    "Save the dataframe to a CSV file, so we do not have to download the dataset from scratch:"
   ]
  },
  {
   "cell_type": "code",
   "execution_count": 68,
   "id": "4c8b51e2-76d1-446a-8929-68a9fb61950c",
   "metadata": {},
   "outputs": [],
   "source": [
    "#df_sampled.to_csv('cleaned_df.csv', index=False)\n",
    "df.to_csv('cleaned_df.csv', index=False)"
   ]
  },
  {
   "cell_type": "code",
   "execution_count": 4,
   "id": "357f9216-6b8a-4b40-bace-4267d7f9ba98",
   "metadata": {},
   "outputs": [
    {
     "data": {
      "text/html": [
       "<div>\n",
       "<style scoped>\n",
       "    .dataframe tbody tr th:only-of-type {\n",
       "        vertical-align: middle;\n",
       "    }\n",
       "\n",
       "    .dataframe tbody tr th {\n",
       "        vertical-align: top;\n",
       "    }\n",
       "\n",
       "    .dataframe thead th {\n",
       "        text-align: right;\n",
       "    }\n",
       "</style>\n",
       "<table border=\"1\" class=\"dataframe\">\n",
       "  <thead>\n",
       "    <tr style=\"text-align: right;\">\n",
       "      <th></th>\n",
       "      <th>loan_amnt</th>\n",
       "      <th>term</th>\n",
       "      <th>int_rate</th>\n",
       "      <th>installment</th>\n",
       "      <th>sub_grade</th>\n",
       "      <th>emp_length</th>\n",
       "      <th>annual_inc</th>\n",
       "      <th>dti</th>\n",
       "      <th>fico_range_low</th>\n",
       "      <th>inq_last_6mths</th>\n",
       "      <th>...</th>\n",
       "      <th>purpose_major_purchase</th>\n",
       "      <th>purpose_medical</th>\n",
       "      <th>purpose_moving</th>\n",
       "      <th>purpose_other</th>\n",
       "      <th>purpose_renewable_energy</th>\n",
       "      <th>purpose_small_business</th>\n",
       "      <th>purpose_vacation</th>\n",
       "      <th>purpose_wedding</th>\n",
       "      <th>initial_list_status_w</th>\n",
       "      <th>application_type_Joint App</th>\n",
       "    </tr>\n",
       "  </thead>\n",
       "  <tbody>\n",
       "    <tr>\n",
       "      <th>0</th>\n",
       "      <td>3600.0</td>\n",
       "      <td>36</td>\n",
       "      <td>13.99</td>\n",
       "      <td>123.03</td>\n",
       "      <td>13</td>\n",
       "      <td>10.0</td>\n",
       "      <td>55000.0</td>\n",
       "      <td>5.91</td>\n",
       "      <td>675.0</td>\n",
       "      <td>1.0</td>\n",
       "      <td>...</td>\n",
       "      <td>0</td>\n",
       "      <td>0</td>\n",
       "      <td>0</td>\n",
       "      <td>0</td>\n",
       "      <td>0</td>\n",
       "      <td>0</td>\n",
       "      <td>0</td>\n",
       "      <td>0</td>\n",
       "      <td>1</td>\n",
       "      <td>0</td>\n",
       "    </tr>\n",
       "    <tr>\n",
       "      <th>1</th>\n",
       "      <td>24700.0</td>\n",
       "      <td>36</td>\n",
       "      <td>11.99</td>\n",
       "      <td>820.28</td>\n",
       "      <td>10</td>\n",
       "      <td>10.0</td>\n",
       "      <td>65000.0</td>\n",
       "      <td>16.06</td>\n",
       "      <td>715.0</td>\n",
       "      <td>4.0</td>\n",
       "      <td>...</td>\n",
       "      <td>0</td>\n",
       "      <td>0</td>\n",
       "      <td>0</td>\n",
       "      <td>0</td>\n",
       "      <td>0</td>\n",
       "      <td>1</td>\n",
       "      <td>0</td>\n",
       "      <td>0</td>\n",
       "      <td>1</td>\n",
       "      <td>0</td>\n",
       "    </tr>\n",
       "    <tr>\n",
       "      <th>2</th>\n",
       "      <td>20000.0</td>\n",
       "      <td>60</td>\n",
       "      <td>10.78</td>\n",
       "      <td>432.66</td>\n",
       "      <td>8</td>\n",
       "      <td>10.0</td>\n",
       "      <td>63000.0</td>\n",
       "      <td>10.78</td>\n",
       "      <td>695.0</td>\n",
       "      <td>0.0</td>\n",
       "      <td>...</td>\n",
       "      <td>0</td>\n",
       "      <td>0</td>\n",
       "      <td>0</td>\n",
       "      <td>0</td>\n",
       "      <td>0</td>\n",
       "      <td>0</td>\n",
       "      <td>0</td>\n",
       "      <td>0</td>\n",
       "      <td>1</td>\n",
       "      <td>1</td>\n",
       "    </tr>\n",
       "    <tr>\n",
       "      <th>3</th>\n",
       "      <td>10400.0</td>\n",
       "      <td>60</td>\n",
       "      <td>22.45</td>\n",
       "      <td>289.91</td>\n",
       "      <td>25</td>\n",
       "      <td>3.0</td>\n",
       "      <td>104433.0</td>\n",
       "      <td>25.37</td>\n",
       "      <td>695.0</td>\n",
       "      <td>3.0</td>\n",
       "      <td>...</td>\n",
       "      <td>1</td>\n",
       "      <td>0</td>\n",
       "      <td>0</td>\n",
       "      <td>0</td>\n",
       "      <td>0</td>\n",
       "      <td>0</td>\n",
       "      <td>0</td>\n",
       "      <td>0</td>\n",
       "      <td>1</td>\n",
       "      <td>0</td>\n",
       "    </tr>\n",
       "    <tr>\n",
       "      <th>4</th>\n",
       "      <td>11950.0</td>\n",
       "      <td>36</td>\n",
       "      <td>13.44</td>\n",
       "      <td>405.18</td>\n",
       "      <td>12</td>\n",
       "      <td>4.0</td>\n",
       "      <td>34000.0</td>\n",
       "      <td>10.20</td>\n",
       "      <td>690.0</td>\n",
       "      <td>0.0</td>\n",
       "      <td>...</td>\n",
       "      <td>0</td>\n",
       "      <td>0</td>\n",
       "      <td>0</td>\n",
       "      <td>0</td>\n",
       "      <td>0</td>\n",
       "      <td>0</td>\n",
       "      <td>0</td>\n",
       "      <td>0</td>\n",
       "      <td>1</td>\n",
       "      <td>0</td>\n",
       "    </tr>\n",
       "  </tbody>\n",
       "</table>\n",
       "<p>5 rows × 51 columns</p>\n",
       "</div>"
      ],
      "text/plain": [
       "   loan_amnt  term  int_rate  installment  sub_grade  emp_length  annual_inc  \\\n",
       "0     3600.0    36     13.99       123.03         13        10.0     55000.0   \n",
       "1    24700.0    36     11.99       820.28         10        10.0     65000.0   \n",
       "2    20000.0    60     10.78       432.66          8        10.0     63000.0   \n",
       "3    10400.0    60     22.45       289.91         25         3.0    104433.0   \n",
       "4    11950.0    36     13.44       405.18         12         4.0     34000.0   \n",
       "\n",
       "     dti  fico_range_low  inq_last_6mths  ...  purpose_major_purchase  \\\n",
       "0   5.91           675.0             1.0  ...                       0   \n",
       "1  16.06           715.0             4.0  ...                       0   \n",
       "2  10.78           695.0             0.0  ...                       0   \n",
       "3  25.37           695.0             3.0  ...                       1   \n",
       "4  10.20           690.0             0.0  ...                       0   \n",
       "\n",
       "   purpose_medical  purpose_moving  purpose_other  purpose_renewable_energy  \\\n",
       "0                0               0              0                         0   \n",
       "1                0               0              0                         0   \n",
       "2                0               0              0                         0   \n",
       "3                0               0              0                         0   \n",
       "4                0               0              0                         0   \n",
       "\n",
       "   purpose_small_business  purpose_vacation  purpose_wedding  \\\n",
       "0                       0                 0                0   \n",
       "1                       1                 0                0   \n",
       "2                       0                 0                0   \n",
       "3                       0                 0                0   \n",
       "4                       0                 0                0   \n",
       "\n",
       "   initial_list_status_w  application_type_Joint App  \n",
       "0                      1                           0  \n",
       "1                      1                           0  \n",
       "2                      1                           1  \n",
       "3                      1                           0  \n",
       "4                      1                           0  \n",
       "\n",
       "[5 rows x 51 columns]"
      ]
     },
     "execution_count": 4,
     "metadata": {},
     "output_type": "execute_result"
    }
   ],
   "source": [
    "df = pd.read_csv('cleaned_df.csv')\n",
    "df.head()"
   ]
  },
  {
   "cell_type": "markdown",
   "id": "e84b8324",
   "metadata": {},
   "source": [
    "# Step 2 – Model Training\n",
    "We will first split the data into training and testing sets. The testing set contains data the model has not seen during training and will only be used for final evaluation."
   ]
  },
  {
   "cell_type": "code",
   "execution_count": 69,
   "id": "d40aa41c-6788-428f-af27-087e5d93440f",
   "metadata": {},
   "outputs": [],
   "source": [
    "X = df.drop('loan_repaid',axis=1).values"
   ]
  },
  {
   "cell_type": "code",
   "execution_count": 70,
   "id": "75cb02d4-babf-44d0-afef-e2d20888d274",
   "metadata": {},
   "outputs": [],
   "source": [
    "y = df['loan_repaid'].values"
   ]
  },
  {
   "cell_type": "code",
   "execution_count": 71,
   "id": "ee655b54-e1f6-4401-bef6-b3bd4228d6cb",
   "metadata": {},
   "outputs": [],
   "source": [
    "X_train, X_test, y_train, y_test = train_test_split(X, y, test_size=0.2, random_state=42)"
   ]
  },
  {
   "cell_type": "markdown",
   "id": "8455a341-6efe-423d-b17c-d28f7d2bfc57",
   "metadata": {},
   "source": [
    "Normalize the data (Do not fit X_test to prevent leakage)"
   ]
  },
  {
   "cell_type": "code",
   "execution_count": 10,
   "id": "d2b01013-7dd8-4454-9860-1f2e7435afe7",
   "metadata": {},
   "outputs": [],
   "source": [
    "from sklearn.preprocessing import MinMaxScaler"
   ]
  },
  {
   "cell_type": "code",
   "execution_count": 73,
   "id": "c14c1412-7b82-45b9-ab96-bf9000578c4d",
   "metadata": {},
   "outputs": [],
   "source": [
    "scaler = MinMaxScaler()"
   ]
  },
  {
   "cell_type": "code",
   "execution_count": 74,
   "id": "c3294d50-bcc2-4e5f-8f11-bc1cf327ec60",
   "metadata": {},
   "outputs": [],
   "source": [
    "X_train = scaler.fit_transform(X_train)"
   ]
  },
  {
   "cell_type": "code",
   "execution_count": 75,
   "id": "6835f4a3-dd72-4df5-ab10-bc7a1962da94",
   "metadata": {},
   "outputs": [],
   "source": [
    "X_test = scaler.transform(X_test)"
   ]
  },
  {
   "cell_type": "code",
   "execution_count": 76,
   "id": "95a4fc1a-17b1-4872-9508-29ce048f83a2",
   "metadata": {},
   "outputs": [
    {
     "data": {
      "text/plain": [
       "(1030480, 50)"
      ]
     },
     "execution_count": 76,
     "metadata": {},
     "output_type": "execute_result"
    }
   ],
   "source": [
    "X_train.shape"
   ]
  },
  {
   "cell_type": "markdown",
   "id": "f712ea1a-dfdd-48dd-aef4-dedec210a096",
   "metadata": {},
   "source": [
    "### We'll first do a quick test with an XGBoost model."
   ]
  },
  {
   "cell_type": "code",
   "execution_count": 77,
   "id": "f030961b",
   "metadata": {},
   "outputs": [],
   "source": [
    "model = xgb.XGBClassifier(\n",
    "    n_estimators=300,\n",
    "    learning_rate=0.05,\n",
    "    max_depth=6,\n",
    "    subsample=0.8,\n",
    "    colsample_bytree=0.8,\n",
    "    use_label_encoder=False,\n",
    "    eval_metric='logloss'\n",
    ")"
   ]
  },
  {
   "cell_type": "code",
   "execution_count": 78,
   "id": "07e08768",
   "metadata": {},
   "outputs": [
    {
     "data": {
      "text/html": [
       "<style>#sk-container-id-1 {color: black;background-color: white;}#sk-container-id-1 pre{padding: 0;}#sk-container-id-1 div.sk-toggleable {background-color: white;}#sk-container-id-1 label.sk-toggleable__label {cursor: pointer;display: block;width: 100%;margin-bottom: 0;padding: 0.3em;box-sizing: border-box;text-align: center;}#sk-container-id-1 label.sk-toggleable__label-arrow:before {content: \"▸\";float: left;margin-right: 0.25em;color: #696969;}#sk-container-id-1 label.sk-toggleable__label-arrow:hover:before {color: black;}#sk-container-id-1 div.sk-estimator:hover label.sk-toggleable__label-arrow:before {color: black;}#sk-container-id-1 div.sk-toggleable__content {max-height: 0;max-width: 0;overflow: hidden;text-align: left;background-color: #f0f8ff;}#sk-container-id-1 div.sk-toggleable__content pre {margin: 0.2em;color: black;border-radius: 0.25em;background-color: #f0f8ff;}#sk-container-id-1 input.sk-toggleable__control:checked~div.sk-toggleable__content {max-height: 200px;max-width: 100%;overflow: auto;}#sk-container-id-1 input.sk-toggleable__control:checked~label.sk-toggleable__label-arrow:before {content: \"▾\";}#sk-container-id-1 div.sk-estimator input.sk-toggleable__control:checked~label.sk-toggleable__label {background-color: #d4ebff;}#sk-container-id-1 div.sk-label input.sk-toggleable__control:checked~label.sk-toggleable__label {background-color: #d4ebff;}#sk-container-id-1 input.sk-hidden--visually {border: 0;clip: rect(1px 1px 1px 1px);clip: rect(1px, 1px, 1px, 1px);height: 1px;margin: -1px;overflow: hidden;padding: 0;position: absolute;width: 1px;}#sk-container-id-1 div.sk-estimator {font-family: monospace;background-color: #f0f8ff;border: 1px dotted black;border-radius: 0.25em;box-sizing: border-box;margin-bottom: 0.5em;}#sk-container-id-1 div.sk-estimator:hover {background-color: #d4ebff;}#sk-container-id-1 div.sk-parallel-item::after {content: \"\";width: 100%;border-bottom: 1px solid gray;flex-grow: 1;}#sk-container-id-1 div.sk-label:hover label.sk-toggleable__label {background-color: #d4ebff;}#sk-container-id-1 div.sk-serial::before {content: \"\";position: absolute;border-left: 1px solid gray;box-sizing: border-box;top: 0;bottom: 0;left: 50%;z-index: 0;}#sk-container-id-1 div.sk-serial {display: flex;flex-direction: column;align-items: center;background-color: white;padding-right: 0.2em;padding-left: 0.2em;position: relative;}#sk-container-id-1 div.sk-item {position: relative;z-index: 1;}#sk-container-id-1 div.sk-parallel {display: flex;align-items: stretch;justify-content: center;background-color: white;position: relative;}#sk-container-id-1 div.sk-item::before, #sk-container-id-1 div.sk-parallel-item::before {content: \"\";position: absolute;border-left: 1px solid gray;box-sizing: border-box;top: 0;bottom: 0;left: 50%;z-index: -1;}#sk-container-id-1 div.sk-parallel-item {display: flex;flex-direction: column;z-index: 1;position: relative;background-color: white;}#sk-container-id-1 div.sk-parallel-item:first-child::after {align-self: flex-end;width: 50%;}#sk-container-id-1 div.sk-parallel-item:last-child::after {align-self: flex-start;width: 50%;}#sk-container-id-1 div.sk-parallel-item:only-child::after {width: 0;}#sk-container-id-1 div.sk-dashed-wrapped {border: 1px dashed gray;margin: 0 0.4em 0.5em 0.4em;box-sizing: border-box;padding-bottom: 0.4em;background-color: white;}#sk-container-id-1 div.sk-label label {font-family: monospace;font-weight: bold;display: inline-block;line-height: 1.2em;}#sk-container-id-1 div.sk-label-container {text-align: center;}#sk-container-id-1 div.sk-container {/* jupyter's `normalize.less` sets `[hidden] { display: none; }` but bootstrap.min.css set `[hidden] { display: none !important; }` so we also need the `!important` here to be able to override the default hidden behavior on the sphinx rendered scikit-learn.org. See: https://github.com/scikit-learn/scikit-learn/issues/21755 */display: inline-block !important;position: relative;}#sk-container-id-1 div.sk-text-repr-fallback {display: none;}</style><div id=\"sk-container-id-1\" class=\"sk-top-container\"><div class=\"sk-text-repr-fallback\"><pre>XGBClassifier(base_score=None, booster=None, callbacks=None,\n",
       "              colsample_bylevel=None, colsample_bynode=None,\n",
       "              colsample_bytree=0.8, device=None, early_stopping_rounds=None,\n",
       "              enable_categorical=False, eval_metric=&#x27;logloss&#x27;,\n",
       "              feature_types=None, gamma=None, grow_policy=None,\n",
       "              importance_type=None, interaction_constraints=None,\n",
       "              learning_rate=0.05, max_bin=None, max_cat_threshold=None,\n",
       "              max_cat_to_onehot=None, max_delta_step=None, max_depth=6,\n",
       "              max_leaves=None, min_child_weight=None, missing=nan,\n",
       "              monotone_constraints=None, multi_strategy=None, n_estimators=300,\n",
       "              n_jobs=None, num_parallel_tree=None, random_state=None, ...)</pre><b>In a Jupyter environment, please rerun this cell to show the HTML representation or trust the notebook. <br />On GitHub, the HTML representation is unable to render, please try loading this page with nbviewer.org.</b></div><div class=\"sk-container\" hidden><div class=\"sk-item\"><div class=\"sk-estimator sk-toggleable\"><input class=\"sk-toggleable__control sk-hidden--visually\" id=\"sk-estimator-id-1\" type=\"checkbox\" checked><label for=\"sk-estimator-id-1\" class=\"sk-toggleable__label sk-toggleable__label-arrow\">XGBClassifier</label><div class=\"sk-toggleable__content\"><pre>XGBClassifier(base_score=None, booster=None, callbacks=None,\n",
       "              colsample_bylevel=None, colsample_bynode=None,\n",
       "              colsample_bytree=0.8, device=None, early_stopping_rounds=None,\n",
       "              enable_categorical=False, eval_metric=&#x27;logloss&#x27;,\n",
       "              feature_types=None, gamma=None, grow_policy=None,\n",
       "              importance_type=None, interaction_constraints=None,\n",
       "              learning_rate=0.05, max_bin=None, max_cat_threshold=None,\n",
       "              max_cat_to_onehot=None, max_delta_step=None, max_depth=6,\n",
       "              max_leaves=None, min_child_weight=None, missing=nan,\n",
       "              monotone_constraints=None, multi_strategy=None, n_estimators=300,\n",
       "              n_jobs=None, num_parallel_tree=None, random_state=None, ...)</pre></div></div></div></div></div>"
      ],
      "text/plain": [
       "XGBClassifier(base_score=None, booster=None, callbacks=None,\n",
       "              colsample_bylevel=None, colsample_bynode=None,\n",
       "              colsample_bytree=0.8, device=None, early_stopping_rounds=None,\n",
       "              enable_categorical=False, eval_metric='logloss',\n",
       "              feature_types=None, gamma=None, grow_policy=None,\n",
       "              importance_type=None, interaction_constraints=None,\n",
       "              learning_rate=0.05, max_bin=None, max_cat_threshold=None,\n",
       "              max_cat_to_onehot=None, max_delta_step=None, max_depth=6,\n",
       "              max_leaves=None, min_child_weight=None, missing=nan,\n",
       "              monotone_constraints=None, multi_strategy=None, n_estimators=300,\n",
       "              n_jobs=None, num_parallel_tree=None, random_state=None, ...)"
      ]
     },
     "execution_count": 78,
     "metadata": {},
     "output_type": "execute_result"
    }
   ],
   "source": [
    "model.fit(X_train, y_train)"
   ]
  },
  {
   "cell_type": "code",
   "execution_count": 79,
   "id": "558a12c7",
   "metadata": {},
   "outputs": [
    {
     "name": "stdout",
     "output_type": "stream",
     "text": [
      "Classification Report:\n",
      "               precision    recall  f1-score   support\n",
      "\n",
      "           0       0.59      0.12      0.20     56215\n",
      "           1       0.80      0.98      0.88    201406\n",
      "\n",
      "    accuracy                           0.79    257621\n",
      "   macro avg       0.70      0.55      0.54    257621\n",
      "weighted avg       0.75      0.79      0.73    257621\n",
      "\n",
      "Confusion Matrix:\n",
      " [[  6646  49569]\n",
      " [  4565 196841]]\n",
      "ROC AUC Score: 0.7320260254127793\n"
     ]
    }
   ],
   "source": [
    "y_pred = model.predict(X_test)\n",
    "print(\"Classification Report:\\n\", classification_report(y_test, y_pred))\n",
    "print(\"Confusion Matrix:\\n\", confusion_matrix(y_test, y_pred))\n",
    "print(\"ROC AUC Score:\", roc_auc_score(y_test, model.predict_proba(X_test)[:, 1]))"
   ]
  },
  {
   "cell_type": "markdown",
   "id": "99566106-0623-4408-b57b-0fcd55c9950a",
   "metadata": {},
   "source": [
    "An ROC AUC of ~0.73 looks good on paper, but we see that the model is struggling with predicting the negative class (0), or the loans that were charged off. (Real banks often operate with models in the 0.7–0.8 ROC AUC range.)\n",
    "Because we have an uneven dataset where the number of samples with 'Fully Paid' far exceed the number of samples with 'Charged Off', Precision and Recall are the true metrics we should use."
   ]
  },
  {
   "cell_type": "markdown",
   "id": "73beeae3-e545-4618-861c-8b33d855cf16",
   "metadata": {},
   "source": [
    "### Training a DNN Model (Dense Neural Network)"
   ]
  },
  {
   "cell_type": "code",
   "execution_count": null,
   "id": "b372a969-8011-4370-9d0e-339941e7d889",
   "metadata": {},
   "outputs": [],
   "source": [
    "model = Sequential()\n",
    "\n",
    "model.add(Dense(50, activation='relu', input_shape=(50,)))\n",
    "model.add(Dropout(0.2))\n",
    "\n",
    "model.add(Dense(25,activation='relu'))\n",
    "model.add(Dropout(0.2))\n",
    "\n",
    "model.add(Dense(12,activation='relu'))\n",
    "model.add(Dropout(0.2))\n",
    "\n",
    "model.add(Dense(units=1,activation='sigmoid'))\n",
    "\n",
    "model.compile(loss='binary_crossentropy',optimizer='adam')"
   ]
  },
  {
   "cell_type": "code",
   "execution_count": 81,
   "id": "c2df0ada",
   "metadata": {},
   "outputs": [],
   "source": [
    "from keras.callbacks import EarlyStopping\n",
    "\n",
    "early_stop = EarlyStopping(monitor='val_loss', patience=5, restore_best_weights=True)"
   ]
  },
  {
   "cell_type": "code",
   "execution_count": 82,
   "id": "40e11319",
   "metadata": {},
   "outputs": [
    {
     "name": "stdout",
     "output_type": "stream",
     "text": [
      "Epoch 1/25\n"
     ]
    },
    {
     "name": "stderr",
     "output_type": "stream",
     "text": [
      "2025-05-30 06:56:11.736620: W external/local_xla/xla/stream_executor/gpu/asm_compiler.cc:225] Falling back to the CUDA driver for PTX compilation; ptxas does not support CC 12.0\n",
      "2025-05-30 06:56:11.736660: W external/local_xla/xla/stream_executor/gpu/asm_compiler.cc:228] Used ptxas at ptxas\n",
      "2025-05-30 06:56:11.736735: W tensorflow/compiler/mlir/tools/kernel_gen/transforms/gpu_kernel_to_blob_pass.cc:191] Failed to compile generated PTX with ptxas. Falling back to compilation by driver.\n",
      "2025-05-30 06:56:11.903068: W tensorflow/compiler/mlir/tools/kernel_gen/transforms/gpu_kernel_to_blob_pass.cc:191] Failed to compile generated PTX with ptxas. Falling back to compilation by driver.\n",
      "2025-05-30 06:56:11.903142: W tensorflow/compiler/mlir/tools/kernel_gen/transforms/gpu_kernel_to_blob_pass.cc:191] Failed to compile generated PTX with ptxas. Falling back to compilation by driver.\n",
      "2025-05-30 06:56:11.903162: W tensorflow/compiler/mlir/tools/kernel_gen/transforms/gpu_kernel_to_blob_pass.cc:191] Failed to compile generated PTX with ptxas. Falling back to compilation by driver.\n",
      "2025-05-30 06:56:11.903191: W tensorflow/compiler/mlir/tools/kernel_gen/transforms/gpu_kernel_to_blob_pass.cc:191] Failed to compile generated PTX with ptxas. Falling back to compilation by driver.\n",
      "2025-05-30 06:56:11.904128: W tensorflow/compiler/mlir/tools/kernel_gen/transforms/gpu_kernel_to_blob_pass.cc:191] Failed to compile generated PTX with ptxas. Falling back to compilation by driver.\n",
      "2025-05-30 06:56:11.904178: W tensorflow/compiler/mlir/tools/kernel_gen/transforms/gpu_kernel_to_blob_pass.cc:191] Failed to compile generated PTX with ptxas. Falling back to compilation by driver.\n",
      "2025-05-30 06:56:11.904848: W tensorflow/compiler/mlir/tools/kernel_gen/transforms/gpu_kernel_to_blob_pass.cc:191] Failed to compile generated PTX with ptxas. Falling back to compilation by driver.\n",
      "2025-05-30 06:56:11.904885: W tensorflow/compiler/mlir/tools/kernel_gen/transforms/gpu_kernel_to_blob_pass.cc:191] Failed to compile generated PTX with ptxas. Falling back to compilation by driver.\n",
      "2025-05-30 06:56:11.906957: W tensorflow/compiler/mlir/tools/kernel_gen/transforms/gpu_kernel_to_blob_pass.cc:191] Failed to compile generated PTX with ptxas. Falling back to compilation by driver.\n",
      "2025-05-30 06:56:14.308101: W tensorflow/compiler/mlir/tools/kernel_gen/transforms/gpu_kernel_to_blob_pass.cc:191] Failed to compile generated PTX with ptxas. Falling back to compilation by driver.\n",
      "2025-05-30 06:56:14.341809: W tensorflow/compiler/mlir/tools/kernel_gen/transforms/gpu_kernel_to_blob_pass.cc:191] Failed to compile generated PTX with ptxas. Falling back to compilation by driver.\n",
      "2025-05-30 06:56:15.215907: W tensorflow/compiler/mlir/tools/kernel_gen/transforms/gpu_kernel_to_blob_pass.cc:191] Failed to compile generated PTX with ptxas. Falling back to compilation by driver.\n",
      "2025-05-30 06:56:15.264941: W tensorflow/compiler/mlir/tools/kernel_gen/transforms/gpu_kernel_to_blob_pass.cc:191] Failed to compile generated PTX with ptxas. Falling back to compilation by driver.\n",
      "2025-05-30 06:56:24.669477: W tensorflow/compiler/mlir/tools/kernel_gen/transforms/gpu_kernel_to_blob_pass.cc:191] Failed to compile generated PTX with ptxas. Falling back to compilation by driver.\n",
      "2025-05-30 06:56:26.902278: I external/local_xla/xla/service/service.cc:168] XLA service 0x7e27e7541270 initialized for platform CUDA (this does not guarantee that XLA will be used). Devices:\n",
      "2025-05-30 06:56:26.902347: I external/local_xla/xla/service/service.cc:176]   StreamExecutor device (0): NVIDIA GeForce RTX 5060 Ti, Compute Capability 12.0\n",
      "2025-05-30 06:56:26.922494: I tensorflow/compiler/mlir/tensorflow/utils/dump_mlir_util.cc:269] disabling MLIR crash reproducer, set env var `MLIR_CRASH_REPRODUCER_DIRECTORY` to enable.\n",
      "2025-05-30 06:56:26.963532: I external/local_xla/xla/stream_executor/cuda/cuda_dnn.cc:467] Loaded cuDNN version 90000\n",
      "2025-05-30 06:56:27.004923: W external/local_xla/xla/service/gpu/nvptx_compiler.cc:408] Couldn't read CUDA driver version.\n",
      "WARNING: All log messages before absl::InitializeLog() is called are written to STDERR\n",
      "I0000 00:00:1748588187.021879    1770 device_compiler.h:186] Compiled cluster using XLA!  This line is logged at most once for the lifetime of the process.\n"
     ]
    },
    {
     "name": "stdout",
     "output_type": "stream",
     "text": [
      "4026/4026 [==============================] - 38s 5ms/step - loss: 0.4860 - val_loss: 0.4744\n",
      "Epoch 2/25\n",
      "4026/4026 [==============================] - 21s 5ms/step - loss: 0.4772 - val_loss: 0.4734\n",
      "Epoch 3/25\n",
      "4026/4026 [==============================] - 21s 5ms/step - loss: 0.4761 - val_loss: 0.4722\n",
      "Epoch 4/25\n",
      "4026/4026 [==============================] - 19s 5ms/step - loss: 0.4754 - val_loss: 0.4720\n",
      "Epoch 5/25\n",
      "4026/4026 [==============================] - 21s 5ms/step - loss: 0.4749 - val_loss: 0.4718\n",
      "Epoch 6/25\n",
      "4026/4026 [==============================] - 19s 5ms/step - loss: 0.4746 - val_loss: 0.4722\n",
      "Epoch 7/25\n",
      "4026/4026 [==============================] - 21s 5ms/step - loss: 0.4742 - val_loss: 0.4720\n",
      "Epoch 8/25\n",
      "4026/4026 [==============================] - 21s 5ms/step - loss: 0.4740 - val_loss: 0.4718\n",
      "Epoch 9/25\n",
      "4026/4026 [==============================] - 19s 5ms/step - loss: 0.4737 - val_loss: 0.4734\n",
      "Epoch 10/25\n",
      "4026/4026 [==============================] - 21s 5ms/step - loss: 0.4735 - val_loss: 0.4711\n",
      "Epoch 11/25\n",
      "4026/4026 [==============================] - 21s 5ms/step - loss: 0.4734 - val_loss: 0.4706\n",
      "Epoch 12/25\n",
      "4026/4026 [==============================] - 19s 5ms/step - loss: 0.4733 - val_loss: 0.4706\n",
      "Epoch 13/25\n",
      "4026/4026 [==============================] - 21s 5ms/step - loss: 0.4732 - val_loss: 0.4720\n",
      "Epoch 14/25\n",
      "4026/4026 [==============================] - 19s 5ms/step - loss: 0.4730 - val_loss: 0.4711\n",
      "Epoch 15/25\n",
      "4026/4026 [==============================] - 21s 5ms/step - loss: 0.4728 - val_loss: 0.4720\n",
      "Epoch 16/25\n",
      "4026/4026 [==============================] - 21s 5ms/step - loss: 0.4729 - val_loss: 0.4716\n",
      "Epoch 17/25\n",
      "4026/4026 [==============================] - 19s 5ms/step - loss: 0.4727 - val_loss: 0.4701\n",
      "Epoch 18/25\n",
      "4026/4026 [==============================] - 21s 5ms/step - loss: 0.4728 - val_loss: 0.4715\n",
      "Epoch 19/25\n",
      "4026/4026 [==============================] - 21s 5ms/step - loss: 0.4725 - val_loss: 0.4702\n",
      "Epoch 20/25\n",
      "4026/4026 [==============================] - 19s 5ms/step - loss: 0.4725 - val_loss: 0.4709\n",
      "Epoch 21/25\n",
      "4026/4026 [==============================] - 21s 5ms/step - loss: 0.4723 - val_loss: 0.4704\n",
      "Epoch 22/25\n",
      "4026/4026 [==============================] - 21s 5ms/step - loss: 0.4724 - val_loss: 0.4713\n"
     ]
    },
    {
     "data": {
      "text/plain": [
       "<keras.src.callbacks.History at 0x7e2df4246f80>"
      ]
     },
     "execution_count": 82,
     "metadata": {},
     "output_type": "execute_result"
    }
   ],
   "source": [
    "model.fit(x=X_train,y=y_train,epochs=25,batch_size=256,\n",
    "         validation_data=(X_test,y_test),callbacks=[early_stop])"
   ]
  },
  {
   "cell_type": "code",
   "execution_count": 83,
   "id": "326bdd1a-a2ab-456d-8e62-ab6f5e38ddb6",
   "metadata": {},
   "outputs": [
    {
     "data": {
      "text/plain": [
       "<Axes: >"
      ]
     },
     "execution_count": 83,
     "metadata": {},
     "output_type": "execute_result"
    },
    {
     "data": {
      "image/png": "[encoded data removed]",
      "text/plain": [
       "<Figure size 640x480 with 1 Axes>"
      ]
     },
     "metadata": {},
     "output_type": "display_data"
    }
   ],
   "source": [
    "losses = pd.DataFrame(model.history.history)\n",
    "losses.plot()"
   ]
  },
  {
   "cell_type": "markdown",
   "id": "d284a6d1-6df9-4c42-bd76-e690e0f672d4",
   "metadata": {},
   "source": [
    "We can see from the validation loss that after around 5 epochs, the model is struggling to learn."
   ]
  },
  {
   "cell_type": "code",
   "execution_count": null,
   "id": "1476bccc",
   "metadata": {},
   "outputs": [],
   "source": [
    "from sklearn.metrics import classification_report,confusion_matrix\n",
    "from sklearn.metrics import roc_auc_score"
   ]
  },
  {
   "cell_type": "code",
   "execution_count": 84,
   "id": "33bba60b",
   "metadata": {},
   "outputs": [
    {
     "name": "stdout",
     "output_type": "stream",
     "text": [
      " 108/8051 [..............................] - ETA: 11s"
     ]
    },
    {
     "name": "stderr",
     "output_type": "stream",
     "text": [
      "2025-05-30 07:05:56.851539: W tensorflow/compiler/mlir/tools/kernel_gen/transforms/gpu_kernel_to_blob_pass.cc:191] Failed to compile generated PTX with ptxas. Falling back to compilation by driver.\n"
     ]
    },
    {
     "name": "stdout",
     "output_type": "stream",
     "text": [
      "8051/8051 [==============================] - 13s 2ms/step\n",
      "Classification Report:\n",
      "               precision    recall  f1-score   support\n",
      "\n",
      "           0       0.65      0.04      0.07     56215\n",
      "           1       0.79      0.99      0.88    201406\n",
      "\n",
      "    accuracy                           0.79    257621\n",
      "   macro avg       0.72      0.52      0.48    257621\n",
      "weighted avg       0.76      0.79      0.70    257621\n",
      "\n",
      "Confusion Matrix:\n",
      " [[  2202  54013]\n",
      " [  1172 200234]]\n",
      "8051/8051 [==============================] - 11s 1ms/step\n",
      "ROC AUC Score: 0.7239904275222162\n"
     ]
    }
   ],
   "source": [
    "y_pred = (model.predict(X_test) > 0.5).astype(\"int32\")\n",
    "#print(classification_report(y_test,predictions))\n",
    "\n",
    "print(\"Classification Report:\\n\", classification_report(y_test, y_pred))\n",
    "print(\"Confusion Matrix:\\n\", confusion_matrix(y_test, y_pred))\n",
    "\n",
    "y_pred_proba = model.predict(X_test).flatten()\n",
    "print(\"ROC AUC Score:\", roc_auc_score(y_test, y_pred_proba))"
   ]
  },
  {
   "cell_type": "markdown",
   "id": "ca3c4ba4-a75a-46c7-a964-486a620047ee",
   "metadata": {},
   "source": [
    "We see that the recall and f1-score are still very low for 0."
   ]
  },
  {
   "cell_type": "markdown",
   "id": "4bfbb348",
   "metadata": {},
   "source": [
    "We will now assign different class weights to 0 and 1 to punish the model for not catching the 0s:"
   ]
  },
  {
   "cell_type": "code",
   "execution_count": 85,
   "id": "52725c5e",
   "metadata": {},
   "outputs": [
    {
     "data": {
      "text/plain": [
       "{0: 2.297317180832802, 1: 0.6390962055368327}"
      ]
     },
     "execution_count": 85,
     "metadata": {},
     "output_type": "execute_result"
    }
   ],
   "source": [
    "from sklearn.utils import class_weight\n",
    "\n",
    "# Compute class weights automatically\n",
    "class_weights = class_weight.compute_class_weight(\n",
    "    class_weight='balanced',\n",
    "    classes=np.unique(y_train),\n",
    "    y=y_train\n",
    ")\n",
    "class_weights_dict = dict(enumerate(class_weights))\n",
    "\n",
    "class_weights_dict"
   ]
  },
  {
   "cell_type": "code",
   "execution_count": 86,
   "id": "c164c6b4",
   "metadata": {},
   "outputs": [],
   "source": [
    "model = Sequential()\n",
    "\n",
    "model.add(Dense(50, activation='relu', input_shape=(50,)))\n",
    "model.add(Dropout(0.2))\n",
    "\n",
    "model.add(Dense(25,activation='relu'))\n",
    "model.add(Dropout(0.2))\n",
    "\n",
    "model.add(Dense(12,activation='relu'))\n",
    "model.add(Dropout(0.2))\n",
    "\n",
    "model.add(Dense(units=1,activation='sigmoid'))\n",
    "\n",
    "model.compile(loss='binary_crossentropy',optimizer='adam')"
   ]
  },
  {
   "cell_type": "code",
   "execution_count": 87,
   "id": "f2bae8ea",
   "metadata": {},
   "outputs": [
    {
     "name": "stdout",
     "output_type": "stream",
     "text": [
      "Epoch 1/25\n",
      "4026/4026 [==============================] - 21s 5ms/step - loss: 0.6317 - val_loss: 0.6113\n",
      "Epoch 2/25\n",
      "4026/4026 [==============================] - 22s 6ms/step - loss: 0.6241 - val_loss: 0.6159\n",
      "Epoch 3/25\n",
      "4026/4026 [==============================] - 22s 6ms/step - loss: 0.6226 - val_loss: 0.6045\n",
      "Epoch 4/25\n",
      "4026/4026 [==============================] - 20s 5ms/step - loss: 0.6216 - val_loss: 0.6043\n",
      "Epoch 5/25\n",
      "4026/4026 [==============================] - 22s 5ms/step - loss: 0.6212 - val_loss: 0.6087\n",
      "Epoch 6/25\n",
      "4026/4026 [==============================] - 22s 6ms/step - loss: 0.6210 - val_loss: 0.6214\n",
      "Epoch 7/25\n",
      "4026/4026 [==============================] - 20s 5ms/step - loss: 0.6205 - val_loss: 0.6176\n",
      "Epoch 8/25\n",
      "4026/4026 [==============================] - 22s 5ms/step - loss: 0.6201 - val_loss: 0.6029\n",
      "Epoch 9/25\n",
      "4026/4026 [==============================] - 22s 5ms/step - loss: 0.6199 - val_loss: 0.5824\n",
      "Epoch 10/25\n",
      "4026/4026 [==============================] - 20s 5ms/step - loss: 0.6195 - val_loss: 0.6009\n",
      "Epoch 11/25\n",
      "4026/4026 [==============================] - 22s 5ms/step - loss: 0.6195 - val_loss: 0.6013\n",
      "Epoch 12/25\n",
      "4026/4026 [==============================] - 22s 5ms/step - loss: 0.6191 - val_loss: 0.6083\n",
      "Epoch 13/25\n",
      "4026/4026 [==============================] - 20s 5ms/step - loss: 0.6188 - val_loss: 0.6137\n",
      "Epoch 14/25\n",
      "4026/4026 [==============================] - 22s 6ms/step - loss: 0.6188 - val_loss: 0.6082\n"
     ]
    },
    {
     "data": {
      "text/plain": [
       "<keras.src.callbacks.History at 0x7e2e2d5da140>"
      ]
     },
     "execution_count": 87,
     "metadata": {},
     "output_type": "execute_result"
    }
   ],
   "source": [
    "model.fit(x=X_train,y=y_train,epochs=25,batch_size=256,\n",
    "         validation_data=(X_test,y_test),callbacks=[early_stop],class_weight=class_weights_dict)"
   ]
  },
  {
   "cell_type": "code",
   "execution_count": 88,
   "id": "d25f5d0e",
   "metadata": {},
   "outputs": [
    {
     "data": {
      "text/plain": [
       "<Axes: >"
      ]
     },
     "execution_count": 88,
     "metadata": {},
     "output_type": "execute_result"
    },
    {
     "data": {
      "image/png": "[encoded data removed]",
      "text/plain": [
       "<Figure size 640x480 with 1 Axes>"
      ]
     },
     "metadata": {},
     "output_type": "display_data"
    }
   ],
   "source": [
    "losses = pd.DataFrame(model.history.history)\n",
    "losses.plot()"
   ]
  },
  {
   "cell_type": "code",
   "execution_count": 89,
   "id": "765d2de5",
   "metadata": {},
   "outputs": [
    {
     "name": "stdout",
     "output_type": "stream",
     "text": [
      "8051/8051 [==============================] - 11s 1ms/step\n",
      "Classification Report:\n",
      "               precision    recall  f1-score   support\n",
      "\n",
      "           0       0.36      0.65      0.46     56215\n",
      "           1       0.87      0.67      0.76    201406\n",
      "\n",
      "    accuracy                           0.67    257621\n",
      "   macro avg       0.61      0.66      0.61    257621\n",
      "weighted avg       0.76      0.67      0.69    257621\n",
      "\n",
      "Confusion Matrix:\n",
      " [[ 36449  19766]\n",
      " [ 65989 135417]]\n",
      "8051/8051 [==============================] - 11s 1ms/step\n",
      "ROC AUC Score: 0.7225523533360176\n"
     ]
    }
   ],
   "source": [
    "y_pred = (model.predict(X_test) > 0.5).astype(\"int32\")\n",
    "print(\"Classification Report:\\n\", classification_report(y_test, y_pred))\n",
    "print(\"Confusion Matrix:\\n\", confusion_matrix(y_test, y_pred))\n",
    "\n",
    "y_pred_proba = model.predict(X_test).flatten()\n",
    "print(\"ROC AUC Score:\", roc_auc_score(y_test, y_pred_proba))"
   ]
  },
  {
   "cell_type": "markdown",
   "id": "213780fa-eee8-4006-bb27-929f1d30d3e0",
   "metadata": {},
   "source": [
    "We can see that the f1-score for zeros (Charged Off) is still low."
   ]
  },
  {
   "cell_type": "markdown",
   "id": "420db10a-e821-4d95-9ff3-dba05db4c7d2",
   "metadata": {},
   "source": [
    "The previous model was trained on an imbalanced dataset, with significantly more samples of Fully Paid than Charged Off. To address this, we'll now balance the dataset by sampling an equal number of instances from both classes. We'll also shuffle the dataset to ensure randomness before training."
   ]
  },
  {
   "cell_type": "code",
   "execution_count": 25,
   "id": "427c052f",
   "metadata": {},
   "outputs": [
    {
     "data": {
      "text/plain": [
       "(560988, 51)"
      ]
     },
     "execution_count": 25,
     "metadata": {},
     "output_type": "execute_result"
    }
   ],
   "source": [
    "# Split into two groups\n",
    "charged_off = df[df['loan_repaid'] == 0]\n",
    "fully_paid = df[df['loan_repaid'] == 1]\n",
    "\n",
    "# Downsample fully_paid to match the size of charged_off\n",
    "fully_paid_sampled = fully_paid.sample(n=len(charged_off), random_state=42)\n",
    "\n",
    "# Combine both into a new balanced DataFrame\n",
    "balanced_df = pd.concat([charged_off, fully_paid_sampled])\n",
    "\n",
    "# Shuffle the balanced dataset\n",
    "balanced_df = balanced_df.sample(frac=1, random_state=42).reset_index(drop=True)\n",
    "\n",
    "df = balanced_df.copy()\n",
    "\n",
    "df.shape"
   ]
  },
  {
   "cell_type": "markdown",
   "id": "22b5242c-0296-41fa-ad2c-ff321c911b22",
   "metadata": {},
   "source": [
    "We'll now need to split the data as well."
   ]
  },
  {
   "cell_type": "code",
   "execution_count": 26,
   "id": "f0451e6c",
   "metadata": {},
   "outputs": [],
   "source": [
    "X = df.drop('loan_repaid',axis=1).values"
   ]
  },
  {
   "cell_type": "code",
   "execution_count": 27,
   "id": "ba67c02f",
   "metadata": {},
   "outputs": [],
   "source": [
    "y = df['loan_repaid'].values"
   ]
  },
  {
   "cell_type": "code",
   "execution_count": 28,
   "id": "57717846",
   "metadata": {},
   "outputs": [],
   "source": [
    "X_train, X_test, y_train, y_test = train_test_split(X, y, test_size=0.2, random_state=42)"
   ]
  },
  {
   "cell_type": "code",
   "execution_count": 29,
   "id": "d21f894e",
   "metadata": {},
   "outputs": [],
   "source": [
    "scaler = MinMaxScaler()"
   ]
  },
  {
   "cell_type": "code",
   "execution_count": 30,
   "id": "fa4e5316",
   "metadata": {},
   "outputs": [],
   "source": [
    "X_train = scaler.fit_transform(X_train)"
   ]
  },
  {
   "cell_type": "code",
   "execution_count": 31,
   "id": "202c96e2",
   "metadata": {},
   "outputs": [],
   "source": [
    "X_test = scaler.transform(X_test)"
   ]
  },
  {
   "cell_type": "code",
   "execution_count": 32,
   "id": "ffa0a5b7",
   "metadata": {},
   "outputs": [
    {
     "data": {
      "text/plain": [
       "(448790, 50)"
      ]
     },
     "execution_count": 32,
     "metadata": {},
     "output_type": "execute_result"
    }
   ],
   "source": [
    "X_train.shape"
   ]
  },
  {
   "cell_type": "code",
   "execution_count": 98,
   "id": "2f049047",
   "metadata": {},
   "outputs": [],
   "source": [
    "model = Sequential()\n",
    "\n",
    "model.add(Dense(50, activation='relu', input_shape=(50,)))\n",
    "model.add(Dropout(0.2))\n",
    "\n",
    "model.add(Dense(25,activation='relu'))\n",
    "model.add(Dropout(0.2))\n",
    "\n",
    "model.add(Dense(12,activation='relu'))\n",
    "model.add(Dropout(0.2))\n",
    "\n",
    "model.add(Dense(units=1,activation='sigmoid'))\n",
    "\n",
    "model.compile(loss='binary_crossentropy',optimizer='adam')"
   ]
  },
  {
   "cell_type": "code",
   "execution_count": 99,
   "id": "d2ed1f69",
   "metadata": {},
   "outputs": [],
   "source": [
    "early_stop = EarlyStopping(monitor='val_loss', patience=10, restore_best_weights=True)"
   ]
  },
  {
   "cell_type": "code",
   "execution_count": 100,
   "id": "ff201e58",
   "metadata": {},
   "outputs": [
    {
     "name": "stdout",
     "output_type": "stream",
     "text": [
      "Epoch 1/25\n",
      "1754/1754 [==============================] - 9s 5ms/step - loss: 0.6364 - val_loss: 0.6197\n",
      "Epoch 2/25\n",
      "1754/1754 [==============================] - 8s 5ms/step - loss: 0.6259 - val_loss: 0.6169\n",
      "Epoch 3/25\n",
      "1754/1754 [==============================] - 11s 6ms/step - loss: 0.6237 - val_loss: 0.6164\n",
      "Epoch 4/25\n",
      "1754/1754 [==============================] - 8s 5ms/step - loss: 0.6228 - val_loss: 0.6164\n",
      "Epoch 5/25\n",
      "1754/1754 [==============================] - 8s 5ms/step - loss: 0.6218 - val_loss: 0.6153\n",
      "Epoch 6/25\n",
      "1754/1754 [==============================] - 8s 5ms/step - loss: 0.6214 - val_loss: 0.6147\n",
      "Epoch 7/25\n",
      "1754/1754 [==============================] - 11s 6ms/step - loss: 0.6206 - val_loss: 0.6140\n",
      "Epoch 8/25\n",
      "1754/1754 [==============================] - 8s 5ms/step - loss: 0.6204 - val_loss: 0.6135\n",
      "Epoch 9/25\n",
      "1754/1754 [==============================] - 8s 5ms/step - loss: 0.6201 - val_loss: 0.6144\n",
      "Epoch 10/25\n",
      "1754/1754 [==============================] - 11s 6ms/step - loss: 0.6197 - val_loss: 0.6146\n",
      "Epoch 11/25\n",
      "1754/1754 [==============================] - 8s 5ms/step - loss: 0.6196 - val_loss: 0.6137\n",
      "Epoch 12/25\n",
      "1754/1754 [==============================] - 8s 5ms/step - loss: 0.6190 - val_loss: 0.6133\n",
      "Epoch 13/25\n",
      "1754/1754 [==============================] - 9s 5ms/step - loss: 0.6190 - val_loss: 0.6128\n",
      "Epoch 14/25\n",
      "1754/1754 [==============================] - 11s 6ms/step - loss: 0.6189 - val_loss: 0.6126\n",
      "Epoch 15/25\n",
      "1754/1754 [==============================] - 8s 5ms/step - loss: 0.6187 - val_loss: 0.6134\n",
      "Epoch 16/25\n",
      "1754/1754 [==============================] - 8s 5ms/step - loss: 0.6183 - val_loss: 0.6120\n",
      "Epoch 17/25\n",
      "1754/1754 [==============================] - 10s 6ms/step - loss: 0.6182 - val_loss: 0.6122\n",
      "Epoch 18/25\n",
      "1754/1754 [==============================] - 8s 5ms/step - loss: 0.6182 - val_loss: 0.6128\n",
      "Epoch 19/25\n",
      "1754/1754 [==============================] - 8s 5ms/step - loss: 0.6180 - val_loss: 0.6121\n",
      "Epoch 20/25\n",
      "1754/1754 [==============================] - 8s 5ms/step - loss: 0.6180 - val_loss: 0.6119\n",
      "Epoch 21/25\n",
      "1754/1754 [==============================] - 11s 6ms/step - loss: 0.6178 - val_loss: 0.6127\n",
      "Epoch 22/25\n",
      "1754/1754 [==============================] - 8s 5ms/step - loss: 0.6175 - val_loss: 0.6122\n",
      "Epoch 23/25\n",
      "1754/1754 [==============================] - 8s 5ms/step - loss: 0.6176 - val_loss: 0.6117\n",
      "Epoch 24/25\n",
      "1754/1754 [==============================] - 8s 5ms/step - loss: 0.6175 - val_loss: 0.6124\n",
      "Epoch 25/25\n",
      "1754/1754 [==============================] - 11s 6ms/step - loss: 0.6175 - val_loss: 0.6120\n"
     ]
    },
    {
     "data": {
      "text/plain": [
       "<keras.src.callbacks.History at 0x7e2e2656d420>"
      ]
     },
     "execution_count": 100,
     "metadata": {},
     "output_type": "execute_result"
    }
   ],
   "source": [
    "model.fit(x=X_train,y=y_train,epochs=25,batch_size=256,\n",
    "         validation_data=(X_test,y_test),callbacks=[early_stop])"
   ]
  },
  {
   "cell_type": "code",
   "execution_count": 101,
   "id": "1607685e",
   "metadata": {},
   "outputs": [
    {
     "data": {
      "text/plain": [
       "<Axes: >"
      ]
     },
     "execution_count": 101,
     "metadata": {},
     "output_type": "execute_result"
    },
    {
     "data": {
      "image/png": "[encoded data removed]",
      "text/plain": [
       "<Figure size 640x480 with 1 Axes>"
      ]
     },
     "metadata": {},
     "output_type": "display_data"
    }
   ],
   "source": [
    "losses = pd.DataFrame(model.history.history)\n",
    "losses.plot()"
   ]
  },
  {
   "cell_type": "code",
   "execution_count": 102,
   "id": "2d9ec84e",
   "metadata": {},
   "outputs": [
    {
     "name": "stdout",
     "output_type": "stream",
     "text": [
      "3507/3507 [==============================] - 7s 2ms/step\n",
      "Classification Report:\n",
      "               precision    recall  f1-score   support\n",
      "\n",
      "           0       0.65      0.70      0.67     56241\n",
      "           1       0.67      0.63      0.65     55957\n",
      "\n",
      "    accuracy                           0.66    112198\n",
      "   macro avg       0.66      0.66      0.66    112198\n",
      "weighted avg       0.66      0.66      0.66    112198\n",
      "\n",
      "Confusion Matrix:\n",
      " [[39249 16992]\n",
      " [20901 35056]]\n",
      "3507/3507 [==============================] - 5s 1ms/step\n",
      "ROC AUC Score: 0.7245988671171762\n"
     ]
    }
   ],
   "source": [
    "y_pred = (model.predict(X_test) > 0.5).astype(\"int32\")\n",
    "print(\"Classification Report:\\n\", classification_report(y_test, y_pred))\n",
    "print(\"Confusion Matrix:\\n\", confusion_matrix(y_test, y_pred))\n",
    "\n",
    "y_pred_proba = model.predict(X_test).flatten()\n",
    "print(\"ROC AUC Score:\", roc_auc_score(y_test, y_pred_proba))"
   ]
  },
  {
   "cell_type": "markdown",
   "id": "4753dc50-1cc4-4330-b2b8-3b0dc615b888",
   "metadata": {},
   "source": [
    "We now observe an improvement in the precision, recall, and F1-score for the negative class (0). The line chart also indicates that the model continues to learn by epoch 25 —albeit at a slow pace. It would be interesting to explore whether extending training to 50 epochs leads to further gains."
   ]
  },
  {
   "cell_type": "code",
   "execution_count": 103,
   "id": "4956afae",
   "metadata": {},
   "outputs": [],
   "source": [
    "model = Sequential()\n",
    "\n",
    "model.add(Dense(50, activation='relu', input_shape=(50,)))\n",
    "model.add(Dropout(0.2))\n",
    "\n",
    "model.add(Dense(25,activation='relu'))\n",
    "model.add(Dropout(0.2))\n",
    "\n",
    "model.add(Dense(12,activation='relu'))\n",
    "model.add(Dropout(0.2))\n",
    "\n",
    "model.add(Dense(units=1,activation='sigmoid'))\n",
    "\n",
    "model.compile(loss='binary_crossentropy',optimizer='adam')"
   ]
  },
  {
   "cell_type": "code",
   "execution_count": 104,
   "id": "dc254e44",
   "metadata": {},
   "outputs": [
    {
     "name": "stdout",
     "output_type": "stream",
     "text": [
      "Epoch 1/50\n",
      "1754/1754 [==============================] - 11s 5ms/step - loss: 0.6359 - val_loss: 0.6193\n",
      "Epoch 2/50\n",
      "1754/1754 [==============================] - 8s 5ms/step - loss: 0.6260 - val_loss: 0.6177\n",
      "Epoch 3/50\n",
      "1754/1754 [==============================] - 8s 5ms/step - loss: 0.6240 - val_loss: 0.6165\n",
      "Epoch 4/50\n",
      "1754/1754 [==============================] - 11s 6ms/step - loss: 0.6228 - val_loss: 0.6170\n",
      "Epoch 5/50\n",
      "1754/1754 [==============================] - 8s 5ms/step - loss: 0.6221 - val_loss: 0.6164\n",
      "Epoch 6/50\n",
      "1754/1754 [==============================] - 8s 5ms/step - loss: 0.6218 - val_loss: 0.6146\n",
      "Epoch 7/50\n",
      "1754/1754 [==============================] - 8s 5ms/step - loss: 0.6208 - val_loss: 0.6152\n",
      "Epoch 8/50\n",
      "1754/1754 [==============================] - 11s 6ms/step - loss: 0.6202 - val_loss: 0.6141\n",
      "Epoch 9/50\n",
      "1754/1754 [==============================] - 8s 5ms/step - loss: 0.6202 - val_loss: 0.6147\n",
      "Epoch 10/50\n",
      "1754/1754 [==============================] - 8s 5ms/step - loss: 0.6198 - val_loss: 0.6145\n",
      "Epoch 11/50\n",
      "1754/1754 [==============================] - 11s 6ms/step - loss: 0.6193 - val_loss: 0.6147\n",
      "Epoch 12/50\n",
      "1754/1754 [==============================] - 9s 5ms/step - loss: 0.6192 - val_loss: 0.6143\n",
      "Epoch 13/50\n",
      "1754/1754 [==============================] - 8s 5ms/step - loss: 0.6191 - val_loss: 0.6131\n",
      "Epoch 14/50\n",
      "1754/1754 [==============================] - 8s 5ms/step - loss: 0.6188 - val_loss: 0.6137\n",
      "Epoch 15/50\n",
      "1754/1754 [==============================] - 10s 6ms/step - loss: 0.6185 - val_loss: 0.6139\n",
      "Epoch 16/50\n",
      "1754/1754 [==============================] - 8s 5ms/step - loss: 0.6186 - val_loss: 0.6123\n",
      "Epoch 17/50\n",
      "1754/1754 [==============================] - 8s 5ms/step - loss: 0.6184 - val_loss: 0.6127\n",
      "Epoch 18/50\n",
      "1754/1754 [==============================] - 11s 6ms/step - loss: 0.6181 - val_loss: 0.6127\n",
      "Epoch 19/50\n",
      "1423/1754 [=======================>......] - ETA: 1s - loss: 0.6180"
     ]
    }
   ],
   "source": [
    "model.fit(x=X_train,y=y_train,epochs=50,batch_size=256,\n",
    "         validation_data=(X_test,y_test),callbacks=[early_stop])"
   ]
  },
  {
   "cell_type": "code",
   "execution_count": null,
   "id": "5e77d7bc",
   "metadata": {},
   "outputs": [],
   "source": [
    "losses = pd.DataFrame(model.history.history)\n",
    "losses.plot()"
   ]
  },
  {
   "cell_type": "markdown",
   "id": "1c314a33-d24a-4ac1-aaf5-4c94087361f0",
   "metadata": {},
   "source": [
    "It looks like the notebook stopped printing outputs after 19 epochs, but the model should be trained and ready. Let's now evaluate again."
   ]
  },
  {
   "cell_type": "code",
   "execution_count": null,
   "id": "56a9641c",
   "metadata": {},
   "outputs": [],
   "source": [
    "#Save or load the model before closing the notebook\n",
    "\n",
    "from tensorflow.keras.models import load_model\n",
    "#model.save('my_model.keras')\n",
    "model = load_model('my_model.keras')"
   ]
  },
  {
   "cell_type": "code",
   "execution_count": 108,
   "id": "f77d4f5b",
   "metadata": {},
   "outputs": [],
   "source": [
    "model.save_weights(\"my_model_weights.h5\")"
   ]
  },
  {
   "cell_type": "code",
   "execution_count": 16,
   "id": "b6b920db",
   "metadata": {},
   "outputs": [
    {
     "name": "stderr",
     "output_type": "stream",
     "text": [
      "2025-05-30 08:12:10.477560: W external/local_xla/xla/stream_executor/gpu/asm_compiler.cc:225] Falling back to the CUDA driver for PTX compilation; ptxas does not support CC 12.0\n",
      "2025-05-30 08:12:10.477599: W external/local_xla/xla/stream_executor/gpu/asm_compiler.cc:228] Used ptxas at ptxas\n",
      "2025-05-30 08:12:10.477665: W tensorflow/compiler/mlir/tools/kernel_gen/transforms/gpu_kernel_to_blob_pass.cc:191] Failed to compile generated PTX with ptxas. Falling back to compilation by driver.\n"
     ]
    },
    {
     "name": "stdout",
     "output_type": "stream",
     "text": [
      "   1/3507 [..............................] - ETA: 5:08:14"
     ]
    },
    {
     "name": "stderr",
     "output_type": "stream",
     "text": [
      "2025-05-30 08:12:12.545204: W tensorflow/compiler/mlir/tools/kernel_gen/transforms/gpu_kernel_to_blob_pass.cc:191] Failed to compile generated PTX with ptxas. Falling back to compilation by driver.\n"
     ]
    },
    {
     "name": "stdout",
     "output_type": "stream",
     "text": [
      "3507/3507 [==============================] - 12s 2ms/step\n",
      "Classification Report:\n",
      "               precision    recall  f1-score   support\n",
      "\n",
      "           0       0.65      0.72      0.68     56241\n",
      "           1       0.68      0.61      0.65     55957\n",
      "\n",
      "    accuracy                           0.66    112198\n",
      "   macro avg       0.67      0.66      0.66    112198\n",
      "weighted avg       0.67      0.66      0.66    112198\n",
      "\n",
      "Confusion Matrix:\n",
      " [[40274 15967]\n",
      " [21672 34285]]\n",
      "3507/3507 [==============================] - 7s 2ms/step\n",
      "ROC AUC Score: 0.7255710905107232\n"
     ]
    }
   ],
   "source": [
    "y_pred = (model.predict(X_test) > 0.5).astype(\"int32\")\n",
    "print(\"Classification Report:\\n\", classification_report(y_test, y_pred))\n",
    "print(\"Confusion Matrix:\\n\", confusion_matrix(y_test, y_pred))\n",
    "\n",
    "y_pred_proba = model.predict(X_test).flatten()\n",
    "print(\"ROC AUC Score:\", roc_auc_score(y_test, y_pred_proba))"
   ]
  },
  {
   "cell_type": "markdown",
   "id": "335ea1cb-4158-491d-832c-1a15f5d5640b",
   "metadata": {},
   "source": [
    "## Interpretation of Results\n",
    "\n",
    "- Accuracy: ~67%\n",
    "\n",
    "  \n",
    "This is within expectations for a financial classification task, especially when dealing with imbalanced data and real-world noise.\n",
    "\n",
    "- ROC AUC: 0.725\n",
    "\n",
    "  \n",
    "A solid score. This indicates the model is reasonably effective at distinguishing between positive and negative outcomes. In practice, many financial institutions deploy models with ROC AUC scores in the 0.7–0.8 range.\n",
    "\n",
    "- Precision/Recall Tradeoff\n",
    "  \n",
    "The model is capturing around 61–72% of both positive and negative cases. In loan risk assessment, this tradeoff can be adjusted based on business priorities—for example, minimizing false negatives (i.e., loans incorrectly predicted as safe) may be more critical in certain use cases."
   ]
  },
  {
   "cell_type": "markdown",
   "id": "22802582-da72-4286-8c0b-132946512479",
   "metadata": {},
   "source": [
    "Now that the model is trained, we’ll generate predictions on the test set. This includes:\n",
    "- Predicting probabilities for each sample—representing how confident the model is that a loan will be Fully Paid or Charged Off.\n",
    "- Converting those probabilities into class labels (0 or 1) using a threshold of 0.5.\n",
    "- Displaying a sample comparison of the actual vs. predicted labels, along with the associated probability scores for the first 30 test samples.\n",
    "\n",
    "This helps us manually inspect how confident and accurate the model is on real, unseen data."
   ]
  },
  {
   "cell_type": "code",
   "execution_count": 39,
   "id": "86bfa692",
   "metadata": {},
   "outputs": [
    {
     "name": "stdout",
     "output_type": "stream",
     "text": [
      "3507/3507 [==============================] - 5s 1ms/step\n",
      "    Actual  Predicted  Probability of FullyPaid\n",
      "0        1          0                  0.485877\n",
      "1        1          1                  0.613678\n",
      "2        0          0                  0.402501\n",
      "3        1          1                  0.547328\n",
      "4        0          1                  0.542941\n",
      "5        0          0                  0.462537\n",
      "6        1          1                  0.653828\n",
      "7        1          1                  0.592482\n",
      "8        0          1                  0.651821\n",
      "9        0          1                  0.626538\n",
      "10       1          1                  0.660522\n",
      "11       0          1                  0.553396\n",
      "12       1          0                  0.484983\n",
      "13       0          0                  0.310565\n",
      "14       0          0                  0.489772\n",
      "15       0          0                  0.296063\n",
      "16       0          0                  0.341523\n",
      "17       0          0                  0.234426\n",
      "18       0          0                  0.203752\n",
      "19       0          0                  0.421577\n",
      "20       0          0                  0.197721\n",
      "21       1          1                  0.733158\n",
      "22       1          1                  0.711969\n",
      "23       1          1                  0.533994\n",
      "24       1          0                  0.378962\n",
      "25       1          1                  0.518669\n",
      "26       1          1                  0.680962\n",
      "27       1          1                  0.640352\n",
      "28       0          1                  0.840376\n",
      "29       0          0                  0.291641\n"
     ]
    }
   ],
   "source": [
    "# Predict probabilities and class labels\n",
    "y_pred_proba = model.predict(X_test).flatten()\n",
    "y_pred_labels = (y_pred_proba > 0.5).astype(\"int32\")\n",
    "\n",
    "# Create comparison df\n",
    "comparison_df = pd.DataFrame({\n",
    "    \"Actual\": y_test[:30],\n",
    "    \"Predicted\": y_pred_labels[:30],\n",
    "    \"Probability of FullyPaid\": y_pred_proba[:30]\n",
    "})\n",
    "\n",
    "print(comparison_df)"
   ]
  },
  {
   "cell_type": "markdown",
   "id": "4ae8c268",
   "metadata": {},
   "source": [
    "## Interpretation of Results\n",
    "\n",
    "The DNN consistently provided highly confident and accurate predictions in low-probability ranges. For example, loans where the DNN predicted less than a 35% chance of repayment almost always defaulted in reality — demonstrating its potential as a robust early-warning tool for high-risk loans.\n",
    "\n",
    "- Accuracy: ~67%\n",
    "\n",
    "  \n",
    "This is within expectations for a financial classification task, especially when dealing with imbalanced data and real-world noise.\n",
    "\n",
    "- ROC AUC: 0.725\n",
    "\n",
    "  \n",
    "A solid score. This indicates the model is reasonably effective at distinguishing between positive and negative outcomes. In practice, many financial institutions deploy models with ROC AUC scores in the 0.7–0.8 range.\n",
    "\n",
    "- Precision/Recall Tradeoff\n",
    "  \n",
    "The model is capturing around 61–72% of both positive and negative cases. In loan risk assessment, this tradeoff can be adjusted based on business priorities—for example, minimizing false negatives (i.e., loans incorrectly predicted as safe) may be more critical in certain use cases."
   ]
  },
  {
   "cell_type": "code",
   "execution_count": null,
   "id": "55e08c77-2065-4993-a9ad-062e767fd9e0",
   "metadata": {},
   "outputs": [],
   "source": []
  }
 ],
 "metadata": {
  "kernelspec": {
   "display_name": "Python 3 (ipykernel)",
   "language": "python",
   "name": "python3"
  },
  "language_info": {
   "codemirror_mode": {
    "name": "ipython",
    "version": 3
   },
   "file_extension": ".py",
   "mimetype": "text/x-python",
   "name": "python",
   "nbconvert_exporter": "python",
   "pygments_lexer": "ipython3",
   "version": "3.11.9"
  }
 },
 "nbformat": 4,
 "nbformat_minor": 5
}
